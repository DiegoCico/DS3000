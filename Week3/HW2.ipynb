{
 "cells": [
  {
   "cell_type": "markdown",
   "metadata": {},
   "source": [
    "# DS 3000 HW 2\n",
    "# Diego Cicotoste\n",
    "\n",
    "Due: Tuesday Oct 8 @ 11:59 PM EST\n",
    "\n",
    "Extra Credit Deadline: Sunday Oct 6 @ 11:59 PM EST\n",
    "\n",
    "Earliest Possible Submission: Tuesday Sep 24\n",
    "\n",
    "### Submission Instructions\n",
    "Submit this `ipynb` file to Gradescope (this can also be done via the assignment on Canvas).  To ensure that your submitted `ipynb` file represents your latest code, make sure to give a fresh `Kernel > Restart & Run All` just before uploading the `ipynb` file to gradescope.\n",
    "\n",
    "### Tips for success\n",
    "- Start early\n",
    "- Make use of Piazza (also accessible through Canvas)\n",
    "- Make use of Office Hours\n",
    "- Remember to use cells and headings to make the notebook easy to read (if a grader cannot find the answer to a problem, you will receive no points for it)\n",
    "- Under no circumstances may one student view or share their ungraded homework or quiz with another student [(see also)](http://www.northeastern.edu/osccr/academic-integrity), though you are welcome to **talk about** (*not* show each other your answers to) the problems.\n",
    "\n",
    "### Finally:\n",
    "\n",
    "I designed this homework to provide **less** guidance in each subsequent part; this is on purpose, so that you slowly get used to thinking more critically about how to approach the various tasks. If you are confused as you are working, especially with the later parts, please don't hesitate to reach out for help."
   ]
  },
  {
   "cell_type": "markdown",
   "metadata": {},
   "source": [
    "# Part 1: Sunrise-Sunset API\n",
    "\n",
    "This first part of the homework asks you to complete the pipeline which, given the lattitude / longitude and timezone of some cities:\n",
    "\n",
    "``` python\n",
    "loc_dict = {'Boston': (42.3601, -71.0589, 'US/Eastern'),\n",
    "            'Lusaka': (-15.3875, 28.3228, 'Africa/Lusaka'),\n",
    "            'Sydney': (-33.8688, 151.2093, 'Australia/Sydney')}\n",
    "```\n",
    "\n",
    "the keys are the `name` of the city and the values are tuples of `lat, lon, timezone_name\n",
    "\n",
    "is able to:\n",
    "- query a sunrise / sunset API\n",
    "- clean and process data (timezone management & building `datetime` objects)\n",
    "- For extra credit: produce the a graph of daylight through the year like this:\n",
    "\n",
    "<img src=\"https://i.ibb.co/CBhWtCY/newdaylight.png\" alt=\"newdaylight\" style=\"width: 500px;\"/>"
   ]
  },
  {
   "cell_type": "markdown",
   "metadata": {},
   "source": [
    "## Part 1.1: Getting Sunrise Sunset via API (5 points)\n",
    "Write the `get_sunrise_sunset()` function below so that it uses [this sunrise sunset API](https://sunrise-sunset.org/api) to produce the output (the dictionary) shown in the test case below so that it passes the case.\n",
    "\n",
    "It may be helpful to know that this particular API...\n",
    "- requires no api key\n",
    "- returns about 2.5 queries per second\n",
    "- did not block me when I tried to make 100 consecutive calls as quickly as possible"
   ]
  },
  {
   "cell_type": "code",
   "execution_count": 81,
   "metadata": {},
   "outputs": [],
   "source": [
    "# make sure you have these modules installed\n",
    "import requests\n",
    "import json\n",
    "import pandas as pd "
   ]
  },
  {
   "cell_type": "markdown",
   "metadata": {},
   "source": [
    "### I was getting a lot of errors so I was debugging a lot ###\n",
    "sorry for the mess"
   ]
  },
  {
   "cell_type": "code",
   "execution_count": 82,
   "metadata": {},
   "outputs": [],
   "source": [
    "def get_sunrise_sunset(lat, lng, date):\n",
    "    \"\"\"\n",
    "    Fetches the sunrise and sunset times for a given latitude, longitude, and date.\n",
    "    \n",
    "    Args:\n",
    "        lat (float): Latitude of the location.\n",
    "        lng (float): Longitude of the location.\n",
    "        date (str): Date for which sunrise and sunset times are needed in 'YYYY-MM-DD' format.\n",
    "    \n",
    "    Returns:\n",
    "        dict: A dictionary containing the sunrise and sunset times in UTC, or None if there's an error.\n",
    "    \"\"\"\n",
    "    date = pd.to_datetime(date).strftime('%Y-%m-%d')\n",
    "    api_url = f\"https://api.sunrise-sunset.org/json?lat={lat}&lng={lng}&date={date}\"\n",
    "    try:\n",
    "        response = requests.get(api_url)\n",
    "        if response.status_code == 200:\n",
    "            data = response.json()\n",
    "            if 'status' in data and data['status'] == 'OK':\n",
    "                data['lat-lng'] = (lat, lng)\n",
    "                data['date'] = date\n",
    "                return data\n",
    "    except requests.RequestException as e:\n",
    "        print(f\"Request failed: {e}\")\n",
    "        return None\n"
   ]
  },
  {
   "cell_type": "code",
   "execution_count": 83,
   "metadata": {},
   "outputs": [],
   "source": [
    "sun_dict = get_sunrise_sunset(lat=42.3601, lng=-71.0589, date='2022-02-15')\n",
    "sun_dict_expected = \\\n",
    "{'results': {'sunrise': '11:38:48 AM',\n",
    "            'sunset': '10:17:50 PM',\n",
    "            'solar_noon': '4:58:19 PM',\n",
    "            'day_length': '10:39:02',\n",
    "            'civil_twilight_begin': '11:11:30 AM',\n",
    "            'civil_twilight_end': '10:45:08 PM',\n",
    "            'nautical_twilight_begin': '10:38:37 AM',\n",
    "            'nautical_twilight_end': '11:18:00 PM',\n",
    "            'astronomical_twilight_begin': '10:06:05 AM',\n",
    "            'astronomical_twilight_end': '11:50:33 PM'},\n",
    " 'status': 'OK',\n",
    " 'tzid': 'UTC',\n",
    " 'lat-lng': (42.3601, -71.0589),\n",
    " 'date': '2022-02-15'}\n",
    "\n",
    "assert sun_dict == sun_dict_expected, 'get_sunrise_sunset() error'"
   ]
  },
  {
   "cell_type": "markdown",
   "metadata": {},
   "source": [
    "## Part 1.2 Timezone Considerations: (5 points)\n",
    "\n",
    "It may appear the test case above works, but a look at the API's documentation reminds us: \n",
    "\n",
    "    \"NOTE: All times are in UTC and summer time adjustments are not included in the returned data.\"\n",
    "    \n",
    "Meaning that we would need to change the timezone ourself if comparing different locations. \n",
    "\n",
    "Complete the `change_tz()` below so that it passes the given test case. "
   ]
  },
  {
   "cell_type": "code",
   "execution_count": 84,
   "metadata": {},
   "outputs": [],
   "source": [
    "import pytz\n",
    "from datetime import datetime"
   ]
  },
  {
   "cell_type": "code",
   "execution_count": 85,
   "metadata": {},
   "outputs": [],
   "source": [
    "# I have started the function for you\n",
    "def change_tz(dt, timezone_from, timezone_to):\n",
    "    \"\"\" converts timezone of a timezone naive datetime object\n",
    "    \n",
    "    Args:\n",
    "        dt (datetime): datetime (or time) object without timezone\n",
    "        timezone_from (str): timezone of input\n",
    "        timezone_to (str): timezone of output datetime\n",
    "        \n",
    "    Returns:\n",
    "        dt_to (datetime): datetime object corresponding to \n",
    "            unix_time\n",
    "    \"\"\"\n",
    "    dt_from = pytz.timezone(timezone_from).localize(dt)  \n",
    "    dt_to = dt_from.astimezone(pytz.timezone(timezone_to))  \n",
    "    return dt_to\n"
   ]
  },
  {
   "cell_type": "code",
   "execution_count": 86,
   "metadata": {},
   "outputs": [],
   "source": [
    "# build test case input / output\n",
    "dt_no_tz = datetime(2021, 2, 13, 9, 54, 4, 270088)\n",
    "dt_expect = datetime(2021, 2, 13, 14, 54, 4, 270088, tzinfo=pytz.timezone('GMT'))\n",
    "\n",
    "# compute actual output\n",
    "dt = change_tz(dt_no_tz, timezone_from='US/Eastern', timezone_to='GMT')\n",
    "\n",
    "assert dt == dt_expect, 'change_tz() error'"
   ]
  },
  {
   "cell_type": "code",
   "execution_count": 87,
   "metadata": {},
   "outputs": [],
   "source": [
    "# build test case input / output\n",
    "dt_no_tz = datetime(2021, 2, 13, 9, 54, 4, 270088)\n",
    "dt_expect = datetime(2021, 2, 13, 9, 54, 4, 270088, tzinfo=pytz.timezone('GMT'))\n",
    "\n",
    "# compute actual output\n",
    "dt = change_tz(dt_no_tz, timezone_from='GMT', timezone_to='GMT')\n",
    "\n",
    "assert dt == dt_expect, 'change_tz() error'"
   ]
  },
  {
   "cell_type": "markdown",
   "metadata": {},
   "source": [
    "## Part 1.3: Turning the dictionary into a Series (5 points)\n",
    "Build `clean_sun_dict()` to pass each of the two test cases below.  Note that:\n",
    "- sunrise and sunset are `time` objects which account for daylight's saving:\n",
    "    - include the date when building these objects\n",
    "    - use `change_tz()` above to cast them to the proper timezone\n",
    "    - build `time` objects by calling `datetime.time()` to discard the date of a `datetime`\n",
    "    - importing `pandas as pd` and using `pd.to_datetime` may also be helpful\n",
    "- `sunrise_hr` and `sunset_hr` are the hours since the day began in local timezone (more easily graphed)\n",
    "    - you may use `.strftime()` and `int()` to cast time objects to strings and then integers (which may be helpful) \n",
    "    \n",
    "**NOTE:** There may be more than one way to accomplish writing this function; as long as the function passes both `assert` test cases, you may continue. Just do be sure to comment and present your code as cleanly as possible. **NOTE ALSO** that because of the way *I* made the solution, the `sunrise_hr` and `sunset_hr` values are rounded strangely. If you are getting something *close*, you **may** change the test case to match your so that the `assert` works."
   ]
  },
  {
   "cell_type": "code",
   "execution_count": 88,
   "metadata": {},
   "outputs": [],
   "source": [
    "from datetime import datetime, time\n",
    "import pandas as pd"
   ]
  },
  {
   "cell_type": "code",
   "execution_count": 89,
   "metadata": {},
   "outputs": [],
   "source": [
    "def clean_sun_dict(sun_dict, timezone_to):\n",
    "    \"\"\"\n",
    "    Builds a pandas Series and cleans the output of the API.\n",
    "\n",
    "    Args:\n",
    "        sun_dict (dict): Dictionary of JSON data from the API.\n",
    "        timezone_to (str): Target timezone for the output times (API returns UTC times).\n",
    "\n",
    "    Returns:\n",
    "        pd.Series: All times converted to time objects in the specified timezone.\n",
    "    \"\"\"\n",
    "\n",
    "    date_str = sun_dict['date']\n",
    "    lat_lng = sun_dict['lat-lng']\n",
    "    date = pd.to_datetime(date_str)\n",
    "\n",
    "    sunrise_utc = pd.to_datetime(f\"{date_str} {sun_dict['results']['sunrise']}\")\n",
    "    sunset_utc = pd.to_datetime(f\"{date_str} {sun_dict['results']['sunset']}\")\n",
    "    sunrise_local = change_tz(sunrise_utc, 'UTC', timezone_to)\n",
    "    sunset_local = change_tz(sunset_utc, 'UTC', timezone_to)\n",
    "\n",
    "    sunrise_time = sunrise_local.time()\n",
    "    sunset_time = sunset_local.time()\n",
    "    sunrise_hr = sunrise_local.hour + sunrise_local.minute / 60 + sunrise_local.second / 3600\n",
    "    sunset_hr = sunset_local.hour + sunset_local.minute / 60 + sunset_local.second / 3600\n",
    "\n",
    "    sun_series = pd.Series({\n",
    "        'date': date,\n",
    "        'lat-lng': lat_lng,\n",
    "        'sunrise': sunrise_time,\n",
    "        'sunrise_hr': round(sunrise_hr, 16),\n",
    "        'sunset': sunset_time,\n",
    "        'sunset_hr': round(sunset_hr, 16)\n",
    "    })\n",
    "\n",
    "    return sun_series"
   ]
  },
  {
   "cell_type": "code",
   "execution_count": 90,
   "metadata": {},
   "outputs": [],
   "source": [
    "sun_dict = {'results': {'sunrise': '11:38:48 AM',\n",
    "                        'sunset': '10:17:50 PM',\n",
    "                        'solar_noon': '4:58:19 PM',\n",
    "                        'day_length': '10:39:02',\n",
    "                        'civil_twilight_begin': '11:11:30 AM',\n",
    "                        'civil_twilight_end': '10:45:08 PM',\n",
    "                        'nautical_twilight_begin': '10:38:37 AM',\n",
    "                        'nautical_twilight_end': '11:18:00 PM',\n",
    "                        'astronomical_twilight_begin': '10:06:05 AM',\n",
    "                        'astronomical_twilight_end': '11:50:33 PM'},\n",
    "             'status': 'OK',\n",
    "             'lat-lng': (42.3601, -71.0589),\n",
    "             'date': '2022-02-15'}\n",
    "\n",
    "# test without timezone conversion\n",
    "sun_series = clean_sun_dict(sun_dict, timezone_to='GMT')\n",
    "\n",
    "sun_series_exp = pd.Series(\n",
    "{'date': datetime(year=2022, month=2, day=15),\n",
    "'lat-lng': (42.3601, -71.0589),\n",
    "'sunrise': time(hour=11, minute=38, second=48),\n",
    "'sunrise_hr': 11.646666666666667,\n",
    "'sunset': time(hour=22, minute=17, second=50),\n",
    "'sunset_hr': 22.297222222222224})\n",
    "\n",
    "assert sun_series.eq(sun_series_exp).all(), 'clean_sun_dict() error (GMT)'"
   ]
  },
  {
   "cell_type": "code",
   "execution_count": 91,
   "metadata": {},
   "outputs": [],
   "source": [
    "# test with timezone conversion\n",
    "sun_series = clean_sun_dict(sun_dict, timezone_to='US/Eastern',)\n",
    "\n",
    "sun_series_exp = pd.Series(\n",
    "{'date': datetime(year=2022, month=2, day=15),\n",
    "'lat-lng': (42.3601, -71.0589),\n",
    "'sunrise': time(hour=6, minute=38, second=48),\n",
    "'sunrise_hr': 6.6466666666666665,\n",
    "'sunset': time(hour=17, minute=17, second=50),\n",
    "'sunset_hr': 17.297222222222224})\n",
    "\n",
    "assert sun_series.eq(sun_series_exp).all(), 'clean_sun_dict() error (EST)'"
   ]
  },
  {
   "cell_type": "markdown",
   "metadata": {},
   "source": [
    "## Part 1.4: Getting our Data Frame (5 points)\n",
    "\n",
    "Write the `get_annual_sun_data()` function so that it produces the outputs shown below.  This function should make use of:\n",
    " - `get_sunrise_sunset()`\n",
    " - `clean_sun_dict()`\n",
    "   \n",
    "as built above. I will start the function for you to help!"
   ]
  },
  {
   "cell_type": "markdown",
   "metadata": {},
   "source": [
    "The following snippet:\n",
    "\n",
    "```python\n",
    "loc_dict = {'Boston': (42.3601, -71.0589, 'US/Eastern'),\n",
    "            'Lusaka': (-15.3875, 28.3228, 'Africa/Lusaka'),\n",
    "            'Sydney': (-33.8688, 151.2093, 'Australia/Sydney')}\n",
    "df_annual_sun = get_annual_sun_data(loc_dict, year=2021, period_day=30)\n",
    "df_annual_sun.head(6)\n",
    "```\n",
    "\n",
    "should generate:\n",
    "\n",
    "|    |   city |       date |              lat-lng |  sunrise | sunrise_hr |   sunset | sunset_hr |\n",
    "|---:|-------:|-----------:|---------------------:|---------:|-----------:|---------:|----------:|\n",
    "|  0 | Boston | 2021-01-01 |  (42.3601, -71.0589) | 07:11:49 |   7.196944 | 16:24:12 | 16.403333 |\n",
    "|  1 | Lusaka | 2021-01-01 |  (-15.3875, 28.3228) | 05:38:33 |   5.642500 | 18:42:09 | 18.702500 |\n",
    "|  2 | Sydney | 2021-01-01 | (-33.8688, 151.2093) | 05:46:24 |   5.773333 | 20:10:53 | 20.181389 |\n",
    "|  3 | Boston | 2021-01-31 |  (42.3601, -71.0589) | 06:56:43 |   6.945278 | 16:58:42 | 16.978333 |\n",
    "|  4 | Lusaka | 2021-01-31 |  (-15.3875, 28.3228) | 05:55:43 |   5.928611 | 18:44:35 | 18.743056 |\n",
    "|  5 | Sydney | 2021-01-31 | (-33.8688, 151.2093) | 06:14:24 |   6.240000 | 20:02:42 | 20.045000 |"
   ]
  },
  {
   "cell_type": "code",
   "execution_count": 92,
   "metadata": {},
   "outputs": [],
   "source": [
    "# could be useful\n",
    "from datetime import timedelta"
   ]
  },
  {
   "cell_type": "code",
   "execution_count": 93,
   "metadata": {},
   "outputs": [],
   "source": [
    "def get_annual_sun_data(loc_dict, year=2021, period_day=30): \n",
    "    \"\"\"Pulls evenly spaced sunrise/sunsets from API over a year per city.\n",
    "    \n",
    "    Args:\n",
    "        loc_dict (dict): keys are cities, values are tuples of \n",
    "            (lat, lon, tz_str) where tz_str is a timezone\n",
    "            string included in pytz.all_timezones.\n",
    "        year (int): year to query.\n",
    "        period_day (int): how many days between data queries.\n",
    "            (i.e., period_day=1 will get data for every day of the year).\n",
    "            \n",
    "    Returns:\n",
    "        df_annual_sun (DataFrame): each row represents a \n",
    "            sunrise/sunset datapoint, see get_sunrise_sunset().\n",
    "    \"\"\"\n",
    "\n",
    "    cycle_day = pd.to_datetime(f'{year}-01-01')\n",
    "    cycle_city = loc_dict.keys()\n",
    "    sun_data_list = [] \n",
    "    \n",
    "    while cycle_day.year == year:\n",
    "        for city in cycle_city:\n",
    "            city_series = {'city': city}\n",
    "            data_info = get_sunrise_sunset(loc_dict[city][0], loc_dict[city][1], cycle_day)\n",
    "            \n",
    "            if data_info is not None:\n",
    "                clean_data = clean_sun_dict(data_info, loc_dict[city][2])\n",
    "                city_series[\"date\"] = pd.Timestamp(cycle_day.year, cycle_day.month, cycle_day.day)\n",
    "                city_series[\"lat-lng\"] = f\"({loc_dict[city][0]}, {loc_dict[city][1]})\"\n",
    "                city_series[\"sunrise\"] = clean_data[\"sunrise\"]\n",
    "                city_series[\"sunrise_hr\"] = clean_data[\"sunrise_hr\"]\n",
    "                city_series[\"sunset\"] = clean_data[\"sunset\"]\n",
    "                city_series[\"sunset_hr\"] = clean_data[\"sunset_hr\"]\n",
    "\n",
    "                sun_data_list.append(city_series)\n",
    "\n",
    "        cycle_day += pd.DateOffset(days=period_day)\n",
    "    \n",
    "    df_annual_sun = pd.DataFrame(sun_data_list)\n",
    "    \n",
    "    return df_annual_sun\n"
   ]
  },
  {
   "cell_type": "code",
   "execution_count": 94,
   "metadata": {},
   "outputs": [],
   "source": [
    "loc_dict = {'Boston': (42.3601, -71.0589, 'US/Eastern'),\n",
    "            'Lusaka': (-15.3875, 28.3228, 'Africa/Lusaka'),\n",
    "            'Sydney': (-33.8688, 151.2093, 'Australia/Sydney')}\n",
    "\n",
    "# you may find that setting period_day to a larger value is quicker for debug\n",
    "# period_day=5 takes about a minute or so given the API does 2-3 requests / sec\n",
    "df_annual_sun = get_annual_sun_data(loc_dict, year=2021, period_day=30)"
   ]
  },
  {
   "cell_type": "code",
   "execution_count": 95,
   "metadata": {},
   "outputs": [
    {
     "data": {
      "text/html": [
       "<div>\n",
       "<style scoped>\n",
       "    .dataframe tbody tr th:only-of-type {\n",
       "        vertical-align: middle;\n",
       "    }\n",
       "\n",
       "    .dataframe tbody tr th {\n",
       "        vertical-align: top;\n",
       "    }\n",
       "\n",
       "    .dataframe thead th {\n",
       "        text-align: right;\n",
       "    }\n",
       "</style>\n",
       "<table border=\"1\" class=\"dataframe\">\n",
       "  <thead>\n",
       "    <tr style=\"text-align: right;\">\n",
       "      <th></th>\n",
       "      <th>city</th>\n",
       "      <th>date</th>\n",
       "      <th>lat-lng</th>\n",
       "      <th>sunrise</th>\n",
       "      <th>sunrise_hr</th>\n",
       "      <th>sunset</th>\n",
       "      <th>sunset_hr</th>\n",
       "    </tr>\n",
       "  </thead>\n",
       "  <tbody>\n",
       "    <tr>\n",
       "      <th>0</th>\n",
       "      <td>Boston</td>\n",
       "      <td>2021-01-01</td>\n",
       "      <td>(42.3601, -71.0589)</td>\n",
       "      <td>07:11:49</td>\n",
       "      <td>7.196944</td>\n",
       "      <td>16:24:12</td>\n",
       "      <td>16.403333</td>\n",
       "    </tr>\n",
       "    <tr>\n",
       "      <th>1</th>\n",
       "      <td>Lusaka</td>\n",
       "      <td>2021-01-01</td>\n",
       "      <td>(-15.3875, 28.3228)</td>\n",
       "      <td>05:38:33</td>\n",
       "      <td>5.642500</td>\n",
       "      <td>18:42:09</td>\n",
       "      <td>18.702500</td>\n",
       "    </tr>\n",
       "    <tr>\n",
       "      <th>2</th>\n",
       "      <td>Sydney</td>\n",
       "      <td>2021-01-01</td>\n",
       "      <td>(-33.8688, 151.2093)</td>\n",
       "      <td>05:46:24</td>\n",
       "      <td>5.773333</td>\n",
       "      <td>20:10:53</td>\n",
       "      <td>20.181389</td>\n",
       "    </tr>\n",
       "    <tr>\n",
       "      <th>3</th>\n",
       "      <td>Boston</td>\n",
       "      <td>2021-01-31</td>\n",
       "      <td>(42.3601, -71.0589)</td>\n",
       "      <td>06:56:43</td>\n",
       "      <td>6.945278</td>\n",
       "      <td>16:58:42</td>\n",
       "      <td>16.978333</td>\n",
       "    </tr>\n",
       "    <tr>\n",
       "      <th>4</th>\n",
       "      <td>Lusaka</td>\n",
       "      <td>2021-01-31</td>\n",
       "      <td>(-15.3875, 28.3228)</td>\n",
       "      <td>05:55:43</td>\n",
       "      <td>5.928611</td>\n",
       "      <td>18:44:35</td>\n",
       "      <td>18.743056</td>\n",
       "    </tr>\n",
       "    <tr>\n",
       "      <th>5</th>\n",
       "      <td>Sydney</td>\n",
       "      <td>2021-01-31</td>\n",
       "      <td>(-33.8688, 151.2093)</td>\n",
       "      <td>06:14:24</td>\n",
       "      <td>6.240000</td>\n",
       "      <td>20:02:42</td>\n",
       "      <td>20.045000</td>\n",
       "    </tr>\n",
       "  </tbody>\n",
       "</table>\n",
       "</div>"
      ],
      "text/plain": [
       "     city       date               lat-lng   sunrise  sunrise_hr    sunset  \\\n",
       "0  Boston 2021-01-01   (42.3601, -71.0589)  07:11:49    7.196944  16:24:12   \n",
       "1  Lusaka 2021-01-01   (-15.3875, 28.3228)  05:38:33    5.642500  18:42:09   \n",
       "2  Sydney 2021-01-01  (-33.8688, 151.2093)  05:46:24    5.773333  20:10:53   \n",
       "3  Boston 2021-01-31   (42.3601, -71.0589)  06:56:43    6.945278  16:58:42   \n",
       "4  Lusaka 2021-01-31   (-15.3875, 28.3228)  05:55:43    5.928611  18:44:35   \n",
       "5  Sydney 2021-01-31  (-33.8688, 151.2093)  06:14:24    6.240000  20:02:42   \n",
       "\n",
       "   sunset_hr  \n",
       "0  16.403333  \n",
       "1  18.702500  \n",
       "2  20.181389  \n",
       "3  16.978333  \n",
       "4  18.743056  \n",
       "5  20.045000  "
      ]
     },
     "execution_count": 95,
     "metadata": {},
     "output_type": "execute_result"
    }
   ],
   "source": [
    "df_annual_sun.head(6)"
   ]
  },
  {
   "cell_type": "markdown",
   "metadata": {},
   "source": [
    "## Part 1.5: Plotting the data (5 points)\n",
    "\n",
    "Using [plt.fillbetween()](https://matplotlib.org/3.1.1/api/_as_gen/matplotlib.pyplot.fill_between.html), like [this example](https://colab.research.google.com/drive/1eYuuwGwQKEa6x84fqpdVlf46sXLDmhCZ?usp=sharing), write the `plot_daylight()` function so that:\n",
    "\n",
    "``` python\n",
    "plot_daylight(df_annual_sun)\n",
    "```\n",
    "\n",
    "produces a similar graph to:\n",
    "\n",
    "<img src=\"https://i.ibb.co/CBhWtCY/newdaylight.png\" alt=\"newdaylight\" style=\"width: 500px;\"/>\n",
    "\n",
    "Be sure that your graph displays in Jupyter notebook (no need to save it in another form)."
   ]
  },
  {
   "cell_type": "code",
   "execution_count": 96,
   "metadata": {},
   "outputs": [],
   "source": [
    "# modules you might use\n",
    "import seaborn as sns\n",
    "import matplotlib.pyplot as plt"
   ]
  },
  {
   "cell_type": "code",
   "execution_count": 97,
   "metadata": {},
   "outputs": [],
   "source": [
    "sns.set(font_scale=1.2)\n",
    "\n",
    "def plot_daylight(df_annual_sun):\n",
    "    \"\"\"Produces a plot of daylight seen across cities.\n",
    "    \n",
    "    Args:\n",
    "        df_annual_sun (DataFrame): each row represents a \n",
    "            sunrise / sunset datapoint, see get_sunrise_sunset()\n",
    "    \"\"\"\n",
    "    \n",
    "    df_annual_sun['sunrise_datetime'] = pd.to_datetime(df_annual_sun['date'].astype(str) + ' ' + df_annual_sun['sunrise'].astype(str))\n",
    "    df_annual_sun['sunset_datetime'] = pd.to_datetime(df_annual_sun['date'].astype(str) + ' ' + df_annual_sun['sunset'].astype(str))\n",
    "    \n",
    "    df_annual_sun['daylight_hours'] = (df_annual_sun['sunset_datetime'] - df_annual_sun['sunrise_datetime']).dt.total_seconds() / 3600\n",
    "    \n",
    "    plt.figure(figsize=(10, 6))\n",
    "    sns.lineplot(data=df_annual_sun, x='date', y='daylight_hours', hue='city', marker='o')\n",
    "    \n",
    "    plt.title('Daylight Duration Across Cities Over Time')\n",
    "    plt.xlabel('Date')\n",
    "    plt.ylabel('Daylight Hours')\n",
    "    \n",
    "    plt.xticks(rotation=45)\n",
    "    \n",
    "    plt.tight_layout()\n",
    "    plt.show()"
   ]
  },
  {
   "cell_type": "code",
   "execution_count": 98,
   "metadata": {},
   "outputs": [],
   "source": [
    "# takes about a minute to run with period_day=7, worth the wait to characterize\n",
    "# the sudden jumps due to daylight savings times\n",
    "df_annual_sun = get_annual_sun_data(loc_dict, year=2021, period_day=7)"
   ]
  },
  {
   "cell_type": "code",
   "execution_count": 99,
   "metadata": {},
   "outputs": [
    {
     "data": {
      "image/png": "[encoded data removed]",
      "text/plain": [
       "<Figure size 1000x600 with 1 Axes>"
      ]
     },
     "metadata": {},
     "output_type": "display_data"
    }
   ],
   "source": [
    "plot_daylight(df_annual_sun)"
   ]
  },
  {
   "cell_type": "markdown",
   "metadata": {},
   "source": [
    "# Part 2: Spotify API (Spotipy)\n",
    "\n",
    "**Note**: The following is copied verbatim from the end of Day2_APIs on Canvas.\n",
    "\n",
    "The Spotify API is quite powerful and gives us access to any song/artist in its libraries, plus even more information that you might not have thought of. There is also a module that has been created to access the API within python. Open up a terminal (or do it in jupyter notebook; this is a magic module) and run:\n",
    "\n",
    "`pip install spotipy`"
   ]
  },
  {
   "cell_type": "code",
   "execution_count": 100,
   "metadata": {},
   "outputs": [],
   "source": [
    "# after installation\n",
    "import spotipy\n",
    "from spotipy.oauth2 import SpotifyClientCredentials"
   ]
  },
  {
   "cell_type": "markdown",
   "metadata": {},
   "source": [
    "Just like with OpenWeather, we need to make an account [here](https://developer.spotify.com/) (this is essentially the same as making a regular Spotify account) and then get an API key (Spotify requires two things, actually, a Client ID and a secret key). At the above website, go to:\n",
    "\n",
    "- Dashboard\n",
    "- Log into your Spotify account (make one if you don't have one)\n",
    "- Accept the terms of using the API\n",
    "- Create an app (you can call it anything, I called mine `DS3000_Spotify`)\n",
    "- Enter `http://localhost/` when it prompts you for a Redirect URI\n",
    "- Get a client ID (mine is `592acf2d2dc84d94bbc652f2f1d72375`, though it is usually good practice to **not** share this) and a client secret (**never share this with anyone**: save it in a separate file like we did with our OpenWeather API key earlier)"
   ]
  },
  {
   "cell_type": "markdown",
   "metadata": {},
   "source": [
    "There exists a file `spotify_secret.py` in same directory as this jupyter notebook which contains:\n",
    "    \n",
    "    secret = 'professorgerberssecretspotify'\n",
    "\n",
    "**Put your own secret in the `secret = ` and save your file as `spotify_secret.py` in the same directory as this notebook."
   ]
  },
  {
   "cell_type": "code",
   "execution_count": 101,
   "metadata": {},
   "outputs": [],
   "source": [
    "# make sure you have named your file spotify_secret.py\n",
    "from spotify_secret import secret"
   ]
  },
  {
   "cell_type": "code",
   "execution_count": 102,
   "metadata": {},
   "outputs": [],
   "source": [
    "# Authentication\n",
    "# Make sure you use your OWN client ID (DO NOT leave mine in there!!)\n",
    "cid = 'd6972d59ff754918a12b2b6adc9f8821'\n",
    "\n",
    "client_credentials_manager = SpotifyClientCredentials(client_id=cid, client_secret=secret)\n",
    "sp = spotipy.Spotify(client_credentials_manager=client_credentials_manager)"
   ]
  },
  {
   "cell_type": "markdown",
   "metadata": {},
   "source": [
    "## Part 2.1: Uniform Resource Identifiers (URI) (5 points)\n",
    "\n",
    "An important component of using the Spotify API is the use of the uniform resource identifiers, pointing at each object in the API. We need a URI to perform any function with the API referring to an object in Spotify. The URI of any Spotify object is contained in its shareable link. For example, the link to the Global top songs playlist, when found from the Spotify desktop application, is:"
   ]
  },
  {
   "cell_type": "code",
   "execution_count": 103,
   "metadata": {},
   "outputs": [],
   "source": [
    "# if you receive a couldn't read cache or write token error, it should simply be a warning and not be a problem\n",
    "playlist_link = \"https://open.spotify.com/playlist/37i9dQZF1DXcBWIGoYBM5M\"\n",
    "playlist_URI = playlist_link.split(\"/\")[-1].split(\"?\")[0]\n",
    "track_uris = [x[\"track\"][\"uri\"] for x in sp.playlist_tracks(playlist_URI)[\"items\"]]"
   ]
  },
  {
   "cell_type": "code",
   "execution_count": 104,
   "metadata": {},
   "outputs": [
    {
     "data": {
      "text/plain": [
       "{'added_at': '2024-04-19T04:01:02Z',\n",
       " 'added_by': {'external_urls': {'spotify': 'https://open.spotify.com/user/'},\n",
       "  'href': 'https://api.spotify.com/v1/users/',\n",
       "  'id': '',\n",
       "  'type': 'user',\n",
       "  'uri': 'spotify:user:'},\n",
       " 'is_local': False,\n",
       " 'primary_color': None,\n",
       " 'track': {'preview_url': None,\n",
       "  'available_markets': ['AR',\n",
       "   'AU',\n",
       "   'AT',\n",
       "   'BE',\n",
       "   'BO',\n",
       "   'BR',\n",
       "   'BG',\n",
       "   'CA',\n",
       "   'CL',\n",
       "   'CO',\n",
       "   'CR',\n",
       "   'CY',\n",
       "   'CZ',\n",
       "   'DK',\n",
       "   'DO',\n",
       "   'DE',\n",
       "   'EC',\n",
       "   'EE',\n",
       "   'SV',\n",
       "   'FI',\n",
       "   'FR',\n",
       "   'GR',\n",
       "   'GT',\n",
       "   'HN',\n",
       "   'HK',\n",
       "   'HU',\n",
       "   'IS',\n",
       "   'IE',\n",
       "   'IT',\n",
       "   'LV',\n",
       "   'LT',\n",
       "   'LU',\n",
       "   'MY',\n",
       "   'MT',\n",
       "   'MX',\n",
       "   'NL',\n",
       "   'NZ',\n",
       "   'NI',\n",
       "   'NO',\n",
       "   'PA',\n",
       "   'PY',\n",
       "   'PE',\n",
       "   'PH',\n",
       "   'PL',\n",
       "   'PT',\n",
       "   'SG',\n",
       "   'SK',\n",
       "   'ES',\n",
       "   'SE',\n",
       "   'CH',\n",
       "   'TW',\n",
       "   'TR',\n",
       "   'UY',\n",
       "   'US',\n",
       "   'GB',\n",
       "   'AD',\n",
       "   'LI',\n",
       "   'MC',\n",
       "   'ID',\n",
       "   'JP',\n",
       "   'TH',\n",
       "   'VN',\n",
       "   'RO',\n",
       "   'IL',\n",
       "   'ZA',\n",
       "   'SA',\n",
       "   'AE',\n",
       "   'BH',\n",
       "   'QA',\n",
       "   'OM',\n",
       "   'KW',\n",
       "   'EG',\n",
       "   'MA',\n",
       "   'DZ',\n",
       "   'TN',\n",
       "   'LB',\n",
       "   'JO',\n",
       "   'PS',\n",
       "   'IN',\n",
       "   'KZ',\n",
       "   'MD',\n",
       "   'UA',\n",
       "   'AL',\n",
       "   'BA',\n",
       "   'HR',\n",
       "   'ME',\n",
       "   'MK',\n",
       "   'RS',\n",
       "   'SI',\n",
       "   'KR',\n",
       "   'BD',\n",
       "   'PK',\n",
       "   'LK',\n",
       "   'GH',\n",
       "   'KE',\n",
       "   'NG',\n",
       "   'TZ',\n",
       "   'UG',\n",
       "   'AG',\n",
       "   'AM',\n",
       "   'BS',\n",
       "   'BB',\n",
       "   'BZ',\n",
       "   'BT',\n",
       "   'BW',\n",
       "   'BF',\n",
       "   'CV',\n",
       "   'CW',\n",
       "   'DM',\n",
       "   'FJ',\n",
       "   'GM',\n",
       "   'GE',\n",
       "   'GD',\n",
       "   'GW',\n",
       "   'GY',\n",
       "   'HT',\n",
       "   'JM',\n",
       "   'KI',\n",
       "   'LS',\n",
       "   'LR',\n",
       "   'MW',\n",
       "   'MV',\n",
       "   'ML',\n",
       "   'MH',\n",
       "   'FM',\n",
       "   'NA',\n",
       "   'NR',\n",
       "   'NE',\n",
       "   'PW',\n",
       "   'PG',\n",
       "   'WS',\n",
       "   'SM',\n",
       "   'ST',\n",
       "   'SN',\n",
       "   'SC',\n",
       "   'SL',\n",
       "   'SB',\n",
       "   'KN',\n",
       "   'LC',\n",
       "   'VC',\n",
       "   'SR',\n",
       "   'TL',\n",
       "   'TO',\n",
       "   'TT',\n",
       "   'TV',\n",
       "   'VU',\n",
       "   'AZ',\n",
       "   'BN',\n",
       "   'BI',\n",
       "   'KH',\n",
       "   'CM',\n",
       "   'TD',\n",
       "   'KM',\n",
       "   'GQ',\n",
       "   'SZ',\n",
       "   'GA',\n",
       "   'GN',\n",
       "   'KG',\n",
       "   'LA',\n",
       "   'MO',\n",
       "   'MR',\n",
       "   'MN',\n",
       "   'NP',\n",
       "   'RW',\n",
       "   'TG',\n",
       "   'UZ',\n",
       "   'ZW',\n",
       "   'BJ',\n",
       "   'MG',\n",
       "   'MU',\n",
       "   'MZ',\n",
       "   'AO',\n",
       "   'CI',\n",
       "   'DJ',\n",
       "   'ZM',\n",
       "   'CD',\n",
       "   'CG',\n",
       "   'IQ',\n",
       "   'LY',\n",
       "   'TJ',\n",
       "   'VE',\n",
       "   'ET',\n",
       "   'XK'],\n",
       "  'explicit': False,\n",
       "  'type': 'track',\n",
       "  'episode': False,\n",
       "  'track': True,\n",
       "  'album': {'available_markets': ['AR',\n",
       "    'AU',\n",
       "    'AT',\n",
       "    'BE',\n",
       "    'BO',\n",
       "    'BR',\n",
       "    'BG',\n",
       "    'CA',\n",
       "    'CL',\n",
       "    'CO',\n",
       "    'CR',\n",
       "    'CY',\n",
       "    'CZ',\n",
       "    'DK',\n",
       "    'DO',\n",
       "    'DE',\n",
       "    'EC',\n",
       "    'EE',\n",
       "    'SV',\n",
       "    'FI',\n",
       "    'FR',\n",
       "    'GR',\n",
       "    'GT',\n",
       "    'HN',\n",
       "    'HK',\n",
       "    'HU',\n",
       "    'IS',\n",
       "    'IE',\n",
       "    'IT',\n",
       "    'LV',\n",
       "    'LT',\n",
       "    'LU',\n",
       "    'MY',\n",
       "    'MT',\n",
       "    'MX',\n",
       "    'NL',\n",
       "    'NZ',\n",
       "    'NI',\n",
       "    'NO',\n",
       "    'PA',\n",
       "    'PY',\n",
       "    'PE',\n",
       "    'PH',\n",
       "    'PL',\n",
       "    'PT',\n",
       "    'SG',\n",
       "    'SK',\n",
       "    'ES',\n",
       "    'SE',\n",
       "    'CH',\n",
       "    'TW',\n",
       "    'TR',\n",
       "    'UY',\n",
       "    'US',\n",
       "    'GB',\n",
       "    'AD',\n",
       "    'LI',\n",
       "    'MC',\n",
       "    'ID',\n",
       "    'JP',\n",
       "    'TH',\n",
       "    'VN',\n",
       "    'RO',\n",
       "    'IL',\n",
       "    'ZA',\n",
       "    'SA',\n",
       "    'AE',\n",
       "    'BH',\n",
       "    'QA',\n",
       "    'OM',\n",
       "    'KW',\n",
       "    'EG',\n",
       "    'MA',\n",
       "    'DZ',\n",
       "    'TN',\n",
       "    'LB',\n",
       "    'JO',\n",
       "    'PS',\n",
       "    'IN',\n",
       "    'KZ',\n",
       "    'MD',\n",
       "    'UA',\n",
       "    'AL',\n",
       "    'BA',\n",
       "    'HR',\n",
       "    'ME',\n",
       "    'MK',\n",
       "    'RS',\n",
       "    'SI',\n",
       "    'KR',\n",
       "    'BD',\n",
       "    'PK',\n",
       "    'LK',\n",
       "    'GH',\n",
       "    'KE',\n",
       "    'NG',\n",
       "    'TZ',\n",
       "    'UG',\n",
       "    'AG',\n",
       "    'AM',\n",
       "    'BS',\n",
       "    'BB',\n",
       "    'BZ',\n",
       "    'BT',\n",
       "    'BW',\n",
       "    'BF',\n",
       "    'CV',\n",
       "    'CW',\n",
       "    'DM',\n",
       "    'FJ',\n",
       "    'GM',\n",
       "    'GE',\n",
       "    'GD',\n",
       "    'GW',\n",
       "    'GY',\n",
       "    'HT',\n",
       "    'JM',\n",
       "    'KI',\n",
       "    'LS',\n",
       "    'LR',\n",
       "    'MW',\n",
       "    'MV',\n",
       "    'ML',\n",
       "    'MH',\n",
       "    'FM',\n",
       "    'NA',\n",
       "    'NR',\n",
       "    'NE',\n",
       "    'PW',\n",
       "    'PG',\n",
       "    'WS',\n",
       "    'SM',\n",
       "    'ST',\n",
       "    'SN',\n",
       "    'SC',\n",
       "    'SL',\n",
       "    'SB',\n",
       "    'KN',\n",
       "    'LC',\n",
       "    'VC',\n",
       "    'SR',\n",
       "    'TL',\n",
       "    'TO',\n",
       "    'TT',\n",
       "    'TV',\n",
       "    'VU',\n",
       "    'AZ',\n",
       "    'BN',\n",
       "    'BI',\n",
       "    'KH',\n",
       "    'CM',\n",
       "    'TD',\n",
       "    'KM',\n",
       "    'GQ',\n",
       "    'SZ',\n",
       "    'GA',\n",
       "    'GN',\n",
       "    'KG',\n",
       "    'LA',\n",
       "    'MO',\n",
       "    'MR',\n",
       "    'MN',\n",
       "    'NP',\n",
       "    'RW',\n",
       "    'TG',\n",
       "    'UZ',\n",
       "    'ZW',\n",
       "    'BJ',\n",
       "    'MG',\n",
       "    'MU',\n",
       "    'MZ',\n",
       "    'AO',\n",
       "    'CI',\n",
       "    'DJ',\n",
       "    'ZM',\n",
       "    'CD',\n",
       "    'CG',\n",
       "    'IQ',\n",
       "    'LY',\n",
       "    'TJ',\n",
       "    'VE',\n",
       "    'ET',\n",
       "    'XK'],\n",
       "   'type': 'album',\n",
       "   'album_type': 'single',\n",
       "   'href': 'https://api.spotify.com/v1/albums/1WAjjRMfZjEXtB0lQrAw6Q',\n",
       "   'id': '1WAjjRMfZjEXtB0lQrAw6Q',\n",
       "   'images': [{'height': 640,\n",
       "     'url': 'https://i.scdn.co/image/ab67616d0000b27391b4bc7c88d91a42e0f3a8b7',\n",
       "     'width': 640},\n",
       "    {'height': 300,\n",
       "     'url': 'https://i.scdn.co/image/ab67616d00001e0291b4bc7c88d91a42e0f3a8b7',\n",
       "     'width': 300},\n",
       "    {'height': 64,\n",
       "     'url': 'https://i.scdn.co/image/ab67616d0000485191b4bc7c88d91a42e0f3a8b7',\n",
       "     'width': 64}],\n",
       "   'name': 'Good Luck, Babe!',\n",
       "   'release_date': '2024-04-05',\n",
       "   'release_date_precision': 'day',\n",
       "   'uri': 'spotify:album:1WAjjRMfZjEXtB0lQrAw6Q',\n",
       "   'artists': [{'external_urls': {'spotify': 'https://open.spotify.com/artist/7GlBOeep6PqTfFi59PTUUN'},\n",
       "     'href': 'https://api.spotify.com/v1/artists/7GlBOeep6PqTfFi59PTUUN',\n",
       "     'id': '7GlBOeep6PqTfFi59PTUUN',\n",
       "     'name': 'Chappell Roan',\n",
       "     'type': 'artist',\n",
       "     'uri': 'spotify:artist:7GlBOeep6PqTfFi59PTUUN'}],\n",
       "   'external_urls': {'spotify': 'https://open.spotify.com/album/1WAjjRMfZjEXtB0lQrAw6Q'},\n",
       "   'total_tracks': 1},\n",
       "  'artists': [{'external_urls': {'spotify': 'https://open.spotify.com/artist/7GlBOeep6PqTfFi59PTUUN'},\n",
       "    'href': 'https://api.spotify.com/v1/artists/7GlBOeep6PqTfFi59PTUUN',\n",
       "    'id': '7GlBOeep6PqTfFi59PTUUN',\n",
       "    'name': 'Chappell Roan',\n",
       "    'type': 'artist',\n",
       "    'uri': 'spotify:artist:7GlBOeep6PqTfFi59PTUUN'}],\n",
       "  'disc_number': 1,\n",
       "  'track_number': 1,\n",
       "  'duration_ms': 218423,\n",
       "  'external_ids': {'isrc': 'USUG12401967'},\n",
       "  'external_urls': {'spotify': 'https://open.spotify.com/track/0WbMK4wrZ1wFSty9F7FCgu'},\n",
       "  'href': 'https://api.spotify.com/v1/tracks/0WbMK4wrZ1wFSty9F7FCgu',\n",
       "  'id': '0WbMK4wrZ1wFSty9F7FCgu',\n",
       "  'name': 'Good Luck, Babe!',\n",
       "  'popularity': 96,\n",
       "  'uri': 'spotify:track:0WbMK4wrZ1wFSty9F7FCgu',\n",
       "  'is_local': False},\n",
       " 'video_thumbnail': {'url': None}}"
      ]
     },
     "execution_count": 104,
     "metadata": {},
     "output_type": "execute_result"
    }
   ],
   "source": [
    "# take a look at a single track from the playlist\n",
    "# it is commented out because it will produce a lot of output! You can uncomment it out to see what it looks like.\n",
    "\n",
    "sp.playlist_tracks(playlist_URI)[\"items\"][0]"
   ]
  },
  {
   "cell_type": "markdown",
   "metadata": {},
   "source": [
    "On the Getting to Know You form, I asked what your favorite song was. Below is the url for the Spotify playlist created from those songs. Read it into python the way we did the above playlist.\n",
    "\n",
    "`playlist_link = \"https://open.spotify.com/playlist/3lDbfa8bVjjcpJtFIoHBv2?si=bc1a57aa591742cd\"`"
   ]
  },
  {
   "cell_type": "code",
   "execution_count": 105,
   "metadata": {},
   "outputs": [
    {
     "data": {
      "text/plain": [
       "{'added_at': '2024-09-14T20:08:58Z',\n",
       " 'added_by': {'external_urls': {'spotify': 'https://open.spotify.com/user/31sxnmkyhykidsng56d6se22p67a'},\n",
       "  'href': 'https://api.spotify.com/v1/users/31sxnmkyhykidsng56d6se22p67a',\n",
       "  'id': '31sxnmkyhykidsng56d6se22p67a',\n",
       "  'type': 'user',\n",
       "  'uri': 'spotify:user:31sxnmkyhykidsng56d6se22p67a'},\n",
       " 'is_local': False,\n",
       " 'primary_color': None,\n",
       " 'track': {'preview_url': 'https://p.scdn.co/mp3-preview/37beb1785c5a3f9fa734af22d64571d42449fe22?cid=d6972d59ff754918a12b2b6adc9f8821',\n",
       "  'available_markets': ['AR',\n",
       "   'AU',\n",
       "   'AT',\n",
       "   'BE',\n",
       "   'BO',\n",
       "   'BR',\n",
       "   'BG',\n",
       "   'CA',\n",
       "   'CL',\n",
       "   'CO',\n",
       "   'CR',\n",
       "   'CY',\n",
       "   'CZ',\n",
       "   'DK',\n",
       "   'DO',\n",
       "   'DE',\n",
       "   'EC',\n",
       "   'EE',\n",
       "   'SV',\n",
       "   'FI',\n",
       "   'FR',\n",
       "   'GR',\n",
       "   'GT',\n",
       "   'HN',\n",
       "   'HK',\n",
       "   'HU',\n",
       "   'IS',\n",
       "   'IE',\n",
       "   'IT',\n",
       "   'LV',\n",
       "   'LT',\n",
       "   'LU',\n",
       "   'MY',\n",
       "   'MT',\n",
       "   'MX',\n",
       "   'NL',\n",
       "   'NZ',\n",
       "   'NI',\n",
       "   'NO',\n",
       "   'PA',\n",
       "   'PY',\n",
       "   'PE',\n",
       "   'PH',\n",
       "   'PL',\n",
       "   'PT',\n",
       "   'SG',\n",
       "   'SK',\n",
       "   'ES',\n",
       "   'SE',\n",
       "   'CH',\n",
       "   'TW',\n",
       "   'TR',\n",
       "   'UY',\n",
       "   'US',\n",
       "   'GB',\n",
       "   'AD',\n",
       "   'LI',\n",
       "   'MC',\n",
       "   'ID',\n",
       "   'JP',\n",
       "   'TH',\n",
       "   'VN',\n",
       "   'RO',\n",
       "   'IL',\n",
       "   'ZA',\n",
       "   'SA',\n",
       "   'AE',\n",
       "   'BH',\n",
       "   'QA',\n",
       "   'OM',\n",
       "   'KW',\n",
       "   'EG',\n",
       "   'MA',\n",
       "   'DZ',\n",
       "   'TN',\n",
       "   'LB',\n",
       "   'JO',\n",
       "   'PS',\n",
       "   'IN',\n",
       "   'KZ',\n",
       "   'MD',\n",
       "   'UA',\n",
       "   'AL',\n",
       "   'BA',\n",
       "   'HR',\n",
       "   'ME',\n",
       "   'MK',\n",
       "   'RS',\n",
       "   'SI',\n",
       "   'KR',\n",
       "   'BD',\n",
       "   'PK',\n",
       "   'LK',\n",
       "   'GH',\n",
       "   'KE',\n",
       "   'NG',\n",
       "   'TZ',\n",
       "   'UG',\n",
       "   'AG',\n",
       "   'AM',\n",
       "   'BS',\n",
       "   'BB',\n",
       "   'BZ',\n",
       "   'BT',\n",
       "   'BW',\n",
       "   'BF',\n",
       "   'CV',\n",
       "   'CW',\n",
       "   'DM',\n",
       "   'FJ',\n",
       "   'GM',\n",
       "   'GE',\n",
       "   'GD',\n",
       "   'GW',\n",
       "   'GY',\n",
       "   'HT',\n",
       "   'JM',\n",
       "   'KI',\n",
       "   'LS',\n",
       "   'LR',\n",
       "   'MW',\n",
       "   'MV',\n",
       "   'ML',\n",
       "   'MH',\n",
       "   'FM',\n",
       "   'NA',\n",
       "   'NR',\n",
       "   'NE',\n",
       "   'PW',\n",
       "   'PG',\n",
       "   'PR',\n",
       "   'WS',\n",
       "   'SM',\n",
       "   'ST',\n",
       "   'SN',\n",
       "   'SC',\n",
       "   'SL',\n",
       "   'SB',\n",
       "   'KN',\n",
       "   'LC',\n",
       "   'VC',\n",
       "   'SR',\n",
       "   'TL',\n",
       "   'TO',\n",
       "   'TT',\n",
       "   'TV',\n",
       "   'VU',\n",
       "   'AZ',\n",
       "   'BN',\n",
       "   'BI',\n",
       "   'KH',\n",
       "   'CM',\n",
       "   'TD',\n",
       "   'KM',\n",
       "   'GQ',\n",
       "   'SZ',\n",
       "   'GA',\n",
       "   'GN',\n",
       "   'KG',\n",
       "   'LA',\n",
       "   'MO',\n",
       "   'MR',\n",
       "   'MN',\n",
       "   'NP',\n",
       "   'RW',\n",
       "   'TG',\n",
       "   'UZ',\n",
       "   'ZW',\n",
       "   'BJ',\n",
       "   'MG',\n",
       "   'MU',\n",
       "   'MZ',\n",
       "   'AO',\n",
       "   'CI',\n",
       "   'DJ',\n",
       "   'ZM',\n",
       "   'CD',\n",
       "   'CG',\n",
       "   'IQ',\n",
       "   'LY',\n",
       "   'TJ',\n",
       "   'VE',\n",
       "   'ET',\n",
       "   'XK'],\n",
       "  'explicit': True,\n",
       "  'type': 'track',\n",
       "  'episode': False,\n",
       "  'track': True,\n",
       "  'album': {'available_markets': ['AR',\n",
       "    'AU',\n",
       "    'AT',\n",
       "    'BE',\n",
       "    'BO',\n",
       "    'BR',\n",
       "    'BG',\n",
       "    'CA',\n",
       "    'CL',\n",
       "    'CO',\n",
       "    'CR',\n",
       "    'CY',\n",
       "    'CZ',\n",
       "    'DK',\n",
       "    'DO',\n",
       "    'DE',\n",
       "    'EC',\n",
       "    'EE',\n",
       "    'SV',\n",
       "    'FI',\n",
       "    'FR',\n",
       "    'GR',\n",
       "    'GT',\n",
       "    'HN',\n",
       "    'HK',\n",
       "    'HU',\n",
       "    'IS',\n",
       "    'IE',\n",
       "    'IT',\n",
       "    'LV',\n",
       "    'LT',\n",
       "    'LU',\n",
       "    'MY',\n",
       "    'MT',\n",
       "    'MX',\n",
       "    'NL',\n",
       "    'NZ',\n",
       "    'NI',\n",
       "    'NO',\n",
       "    'PA',\n",
       "    'PY',\n",
       "    'PE',\n",
       "    'PH',\n",
       "    'PL',\n",
       "    'PT',\n",
       "    'SG',\n",
       "    'SK',\n",
       "    'ES',\n",
       "    'SE',\n",
       "    'CH',\n",
       "    'TW',\n",
       "    'TR',\n",
       "    'UY',\n",
       "    'US',\n",
       "    'GB',\n",
       "    'AD',\n",
       "    'LI',\n",
       "    'MC',\n",
       "    'ID',\n",
       "    'JP',\n",
       "    'TH',\n",
       "    'VN',\n",
       "    'RO',\n",
       "    'IL',\n",
       "    'ZA',\n",
       "    'SA',\n",
       "    'AE',\n",
       "    'BH',\n",
       "    'QA',\n",
       "    'OM',\n",
       "    'KW',\n",
       "    'EG',\n",
       "    'MA',\n",
       "    'DZ',\n",
       "    'TN',\n",
       "    'LB',\n",
       "    'JO',\n",
       "    'PS',\n",
       "    'IN',\n",
       "    'KZ',\n",
       "    'MD',\n",
       "    'UA',\n",
       "    'AL',\n",
       "    'BA',\n",
       "    'HR',\n",
       "    'ME',\n",
       "    'MK',\n",
       "    'RS',\n",
       "    'SI',\n",
       "    'KR',\n",
       "    'BD',\n",
       "    'PK',\n",
       "    'LK',\n",
       "    'GH',\n",
       "    'KE',\n",
       "    'NG',\n",
       "    'TZ',\n",
       "    'UG',\n",
       "    'AG',\n",
       "    'AM',\n",
       "    'BS',\n",
       "    'BB',\n",
       "    'BZ',\n",
       "    'BT',\n",
       "    'BW',\n",
       "    'BF',\n",
       "    'CV',\n",
       "    'CW',\n",
       "    'DM',\n",
       "    'FJ',\n",
       "    'GM',\n",
       "    'GE',\n",
       "    'GD',\n",
       "    'GW',\n",
       "    'GY',\n",
       "    'HT',\n",
       "    'JM',\n",
       "    'KI',\n",
       "    'LS',\n",
       "    'LR',\n",
       "    'MW',\n",
       "    'MV',\n",
       "    'ML',\n",
       "    'MH',\n",
       "    'FM',\n",
       "    'NA',\n",
       "    'NR',\n",
       "    'NE',\n",
       "    'PW',\n",
       "    'PG',\n",
       "    'PR',\n",
       "    'WS',\n",
       "    'SM',\n",
       "    'ST',\n",
       "    'SN',\n",
       "    'SC',\n",
       "    'SL',\n",
       "    'SB',\n",
       "    'KN',\n",
       "    'LC',\n",
       "    'VC',\n",
       "    'SR',\n",
       "    'TL',\n",
       "    'TO',\n",
       "    'TT',\n",
       "    'TV',\n",
       "    'VU',\n",
       "    'AZ',\n",
       "    'BN',\n",
       "    'BI',\n",
       "    'KH',\n",
       "    'CM',\n",
       "    'TD',\n",
       "    'KM',\n",
       "    'GQ',\n",
       "    'SZ',\n",
       "    'GA',\n",
       "    'GN',\n",
       "    'KG',\n",
       "    'LA',\n",
       "    'MO',\n",
       "    'MR',\n",
       "    'MN',\n",
       "    'NP',\n",
       "    'RW',\n",
       "    'TG',\n",
       "    'UZ',\n",
       "    'ZW',\n",
       "    'BJ',\n",
       "    'MG',\n",
       "    'MU',\n",
       "    'MZ',\n",
       "    'AO',\n",
       "    'CI',\n",
       "    'DJ',\n",
       "    'ZM',\n",
       "    'CD',\n",
       "    'CG',\n",
       "    'IQ',\n",
       "    'LY',\n",
       "    'TJ',\n",
       "    'VE',\n",
       "    'ET',\n",
       "    'XK'],\n",
       "   'type': 'album',\n",
       "   'album_type': 'single',\n",
       "   'href': 'https://api.spotify.com/v1/albums/3N00K5i1IFjap5SqfxGIPF',\n",
       "   'id': '3N00K5i1IFjap5SqfxGIPF',\n",
       "   'images': [{'height': 640,\n",
       "     'url': 'https://i.scdn.co/image/ab67616d0000b273ad3112aa97cf4080ea78e58c',\n",
       "     'width': 640},\n",
       "    {'height': 300,\n",
       "     'url': 'https://i.scdn.co/image/ab67616d00001e02ad3112aa97cf4080ea78e58c',\n",
       "     'width': 300},\n",
       "    {'height': 64,\n",
       "     'url': 'https://i.scdn.co/image/ab67616d00004851ad3112aa97cf4080ea78e58c',\n",
       "     'width': 64}],\n",
       "   'name': 'Deep in the Water',\n",
       "   'release_date': '2024-03-14',\n",
       "   'release_date_precision': 'day',\n",
       "   'uri': 'spotify:album:3N00K5i1IFjap5SqfxGIPF',\n",
       "   'artists': [{'external_urls': {'spotify': 'https://open.spotify.com/artist/4Gso3d4CscCijv0lmajZWs'},\n",
       "     'href': 'https://api.spotify.com/v1/artists/4Gso3d4CscCijv0lmajZWs',\n",
       "     'id': '4Gso3d4CscCijv0lmajZWs',\n",
       "     'name': 'Don Toliver',\n",
       "     'type': 'artist',\n",
       "     'uri': 'spotify:artist:4Gso3d4CscCijv0lmajZWs'}],\n",
       "   'external_urls': {'spotify': 'https://open.spotify.com/album/3N00K5i1IFjap5SqfxGIPF'},\n",
       "   'total_tracks': 2},\n",
       "  'artists': [{'external_urls': {'spotify': 'https://open.spotify.com/artist/4Gso3d4CscCijv0lmajZWs'},\n",
       "    'href': 'https://api.spotify.com/v1/artists/4Gso3d4CscCijv0lmajZWs',\n",
       "    'id': '4Gso3d4CscCijv0lmajZWs',\n",
       "    'name': 'Don Toliver',\n",
       "    'type': 'artist',\n",
       "    'uri': 'spotify:artist:4Gso3d4CscCijv0lmajZWs'}],\n",
       "  'disc_number': 1,\n",
       "  'track_number': 1,\n",
       "  'duration_ms': 170453,\n",
       "  'external_ids': {'isrc': 'USAT22401435'},\n",
       "  'external_urls': {'spotify': 'https://open.spotify.com/track/2dshtwEGNpyrE0x69wUiHj'},\n",
       "  'href': 'https://api.spotify.com/v1/tracks/2dshtwEGNpyrE0x69wUiHj',\n",
       "  'id': '2dshtwEGNpyrE0x69wUiHj',\n",
       "  'name': 'DEEP IN THE WATER',\n",
       "  'popularity': 59,\n",
       "  'uri': 'spotify:track:2dshtwEGNpyrE0x69wUiHj',\n",
       "  'is_local': False},\n",
       " 'video_thumbnail': {'url': None}}"
      ]
     },
     "execution_count": 105,
     "metadata": {},
     "output_type": "execute_result"
    }
   ],
   "source": [
    "playlist_link = \"https://open.spotify.com/playlist/3lDbfa8bVjjcpJtFIoHBv2?si=bc1a57aa591742cd\"\n",
    "playlist_URI = playlist_link.split(\"/\")[-1].split(\"?\")[0]\n",
    "track = [x[\"track\"] for x in sp.playlist_tracks(playlist_URI)[\"items\"]]\n",
    "\n",
    "sp.playlist_tracks(playlist_URI)[\"items\"][0]"
   ]
  },
  {
   "cell_type": "code",
   "execution_count": 106,
   "metadata": {},
   "outputs": [
    {
     "data": {
      "text/plain": [
       "50"
      ]
     },
     "execution_count": 106,
     "metadata": {},
     "output_type": "execute_result"
    }
   ],
   "source": [
    "# note that you may only get the first 100 songs\n",
    "# check out the spotipy documentation if you want to try to get the full playlist, though the first 100 is perfectly fine for this HW\n",
    "len(track_uris)"
   ]
  },
  {
   "cell_type": "markdown",
   "metadata": {},
   "source": [
    "## Part 2.2: Build a dictionary of track info (5 points)\n",
    "\n",
    "I have initialized the `playlist_dict` dictionary for you below, complete with keys and empty lists. Use a for loop to loop through the tracks in our class's playlist and `.append()` the associated values for each track to each of the lists, building out the dictionary. You may write a function to do this, but you don't have to (I didn't). **Note**: if you know of a faster way to do this than with a for loop, you are welcome to use it."
   ]
  },
  {
   "cell_type": "code",
   "execution_count": 107,
   "metadata": {},
   "outputs": [],
   "source": [
    "playlist_dict = {'track_uri': list(),\n",
    "                'track_name': list(),\n",
    "                'artist_uri': list(),\n",
    "                'artist_name': list(),\n",
    "                'artist_pop': list(),\n",
    "                'artist_genres': list(),\n",
    "                'album': list(),\n",
    "                'track_pop': list()}"
   ]
  },
  {
   "cell_type": "code",
   "execution_count": 108,
   "metadata": {},
   "outputs": [
    {
     "name": "stdout",
     "output_type": "stream",
     "text": [
      "{'track_uri': ['spotify:track:2dshtwEGNpyrE0x69wUiHj', 'spotify:track:4JehYebiI9JE8sR8MisGVb', 'spotify:track:42sqQTi2EqDPd6Iex66joE', 'spotify:track:5CQ30WqJwcep0pYcV4AMNc', 'spotify:track:2GDnUFJ1ZwP3ooFqQHY1ht', 'spotify:track:6wOYnPq1hPihRepcDClPUw', 'spotify:track:3cgf3PmzUZKLCRulrKrzZG', 'spotify:track:65yNr1EO2TOBEYCz45tuOf', 'spotify:track:4boJYAy3ZQmCHp6xIKDJIx', 'spotify:track:5iJKGpnFfvbjZJeAtwXfCj', 'spotify:track:3JvrhDOgAt6p7K8mDyZwRd', 'spotify:track:4lpvCG7eNzHAXwvMxWUNjz', 'spotify:track:6C2nVSSeXNqfoY8t6tliZ4', 'spotify:track:2dUqYl3tz9uUVlr4oaVmIT', 'spotify:track:19a3JfW8BQwqHWUMbcqSx8', 'spotify:track:1ONWW6AtqqwjhMdQ74n2fM', 'spotify:track:2dBwB667LHQkLhdYlwLUZK', 'spotify:track:5ekfEEnkAHxrn2KNvyZg7E', 'spotify:track:02wk5BttM0QL38ERjLPQJB', 'spotify:track:22TntnVO3lQNDR5nsvxGRs', 'spotify:track:2plbrEY59IikOBgBGLjaoe', 'spotify:track:6BrfgV35h3NfTtIdMqhmFQ', 'spotify:track:4QhWbupniDd44EDtnh2bFJ', 'spotify:track:0OlS52TmtK2gPaEtdmr7DN', 'spotify:track:561pBFcFL2Pwb9HPO9tU8J', 'spotify:track:20I8RduZC2PWMWTDCZuuAN', 'spotify:track:0EA2RhRHL4KWeNa7JfD1Yw', 'spotify:track:5enxwA8aAbwZbf5qCHORXi', 'spotify:track:5lE2EFXt4muvLFMGQg4hZN', 'spotify:track:27hLXDP8mCJRmUHBpGWmXP', 'spotify:track:003vvx7Niy0yvhvHt4a68B', 'spotify:track:3iBgrkexCzVuPy4O9vx7Mf', 'spotify:track:3Pzh926pXggbMe2ZpXyMV7', 'spotify:track:1FYTEYMWAu6gz7BYDHyoBU', 'spotify:track:0FUmSirsQNOFA0vXmWkObn', 'spotify:track:5w9znMVt2FNKExzFwaHrSA', 'spotify:track:1FpVJ7HpZInE2GvhVE2TwT', 'spotify:track:7MXVkk9YMctZqd1Srtv4MB', 'spotify:track:6zHEWX6PuCQIRy4rdh777J', 'spotify:track:4U45aEWtQhrm8A5mxPaFZ7', 'spotify:track:6Jv7kjGkhY2fT4yuBF3aTz', 'spotify:track:3WCMsWitehxaRSe1XCbHVp', 'spotify:track:3eQijz4pPT7rb020LqdhdX', 'spotify:track:6pnwfWyaWjQiHCKTiZLItr', 'spotify:track:07oO1U722crtVcavi6frX6', 'spotify:track:4R2kfaDFhslZEMJqAFNpdd', 'spotify:track:1u2Fe70Qm9VFCIMPWFlfc1', 'spotify:track:4FYCEo8VyITDAG4othCjOa', 'spotify:track:5PbdVk09VHHcvGa0pX86RP', 'spotify:track:45xiC13XQsLhV57FxQLlLV', 'spotify:track:1AWQoqb9bSvzTjaLralEkT', 'spotify:track:3APdIdF8H0jsxSuGOqXedS', 'spotify:track:764CYWJzIeuBGGDaeu7b2n', 'spotify:track:62bOmKYxYg7dhrC6gH9vFn', 'spotify:track:2Hh3ETdQKrmSI3QS0hme7g', 'spotify:track:0cOeKSEXxtvLRzwCL9O3gn', 'spotify:track:3Ae7uFl8NHYXvoF1tBm5yp', 'spotify:track:0oOY4xChdxmGgpyQrY2FBz', 'spotify:track:4wswaG5vmNINMZcVBsAyBP', 'spotify:track:0JOkg9ppNx6yXxVBqfDpB4', 'spotify:track:15bnD6GnRtBfsJFkgToG72', 'spotify:track:6gBFPUFcJLzWGx4lenP6h2', 'spotify:track:0GjEhVFGZW8afUYGChu3Rr', 'spotify:track:0wvunRCr2nGuEGwIRQyEmf', 'spotify:track:5FKKjiUjOXu9Kinlkc1VzA', 'spotify:track:7D0RhFcb3CrfPuTJ0obrod', 'spotify:track:5fC5Qw3gwPecYUGEIhSZuT', 'spotify:track:41IShViF79gmulEkIHAjcb', 'spotify:track:7eBpUuPnDTfbeP1P4P93CS', 'spotify:track:359XicDhyrKbqx8U9NQFPM', 'spotify:track:6jMFvjk1G4unuchv4dAVXo', 'spotify:track:3hyyG3Rm7DdmDwG2ZHfxFR', 'spotify:track:7CRPXJt3IVC7V0VcM0PSQi', 'spotify:track:56v8WEnGzLByGsDAXDiv4d', 'spotify:track:2fuYa3Lx06QQJAm0MjztKr', 'spotify:track:6UN73IYd0hZxLi8wFPMQij', 'spotify:track:0I9glwqb1UBvb4nhj9dIbk', 'spotify:track:0Psz3az3RIYfJpnsajBT8N', 'spotify:track:5kDgJffgJ0lYHTSiaXFWNw', 'spotify:track:0LqCvXVNvcnkq78sCQsoO0', 'spotify:track:5eY7692tmgHB9dbmq6wa2M', 'spotify:track:0ct6r3EGTcMLPtrXHDvVjc', 'spotify:track:0lko8s8up1bZSqctfuoPKj', 'spotify:track:3XwFS1pF1EY0ysSSFDkIrl', 'spotify:track:56prPhOQ8YcVNLK9UXn7Py', 'spotify:track:3kKb3U3a8jmUJQB9ypE1Jl', 'spotify:track:1OubIZ0ARYCUq5kceYUQiO', 'spotify:track:32GHYtVVAsYNQGafHrrRxv', 'spotify:track:7Ea9xknXuevVBfFRTVnKCq', 'spotify:track:1IT0WQk5J8NsaeII8ktdlZ', 'spotify:track:5agnrOYeSFojE4e6PwWLjX', 'spotify:track:22sQUmLhT8umlEhQzDrzfJ', 'spotify:track:1ctbkptXLNIoEVTNAFYV4d', 'spotify:track:1jDJFeK9x3OZboIAHsY9k2', 'spotify:track:2DHNCWZYmVr1Lv08q5b0kB', 'spotify:track:1cQ3LIkZE68pMSnPhZWXLu', 'spotify:track:57L5EYzCfHS7Jd58rV33lW', 'spotify:track:59ufJBDa8L0dduJwcxXnZj', 'spotify:track:07oO1U722crtVcavi6frX6', 'spotify:track:4qZLrKsaGkYmVRGUviVPtk'], 'track_name': ['DEEP IN THE WATER', 'Halo', 'OBVIOUS', 'Stairway to Heaven - Remaster', 'ocd', 'Meet Me Halfway', 'Godlight', 'It Has To Be This Way - Platinum Mix', 'No Rap Cap', '28', 'Riptide', 'No Blueberries', 'jeans', 'Say', 'Famous', 'Long Distance', 'Summertime Sadness', 'buttons!', 'Cool With You', 'Achilles Come Down', 'Die With A Smile', \"we're all eating each other\", 'Pyramids', 'No Such Thing as a Broken Heart', 'places to be', 'Take Me Out', 'So It Goes', \"All Too Well (10 Minute Version) (Taylor's Version) (From The Vault)\", 'Hypotheticals', '探窗', 'Mr. Brightside', 'Glue Song', \"Ain't No Rest for the Wicked\", 'Plastic Promises', 'LEGO', 'Sometimes', 'Legends Never Die', 'Starboy', 'Daydreamer', 'Vienna', \"Lover, You Should've Come Over\", 'Life In The City', 'Another Medium', 'Shine On You Crazy Diamond (Pts. 1-5)', 'Double Life - From \"Despicable Me 4\"', 'cardigan', 'Deep Satin', 'Il Volo', 'Flowers In Your Hair', 'LALALI', 'Rock Your Body', 'Kabhi Kabhi Aditi', 'Moment', 'Bye Bye Bye - From Deadpool and Wolverine Soundtrack', 'Too Many Nights (feat. Don Toliver & with Future)', 'Lemonade', 'Try To Remember (Ming Ji)', 'Jolene', 'Got My Mind Set on You', 'Monkeys Spinning Monkeys', 'Roadrunner', 'goosebumps', 'Dancing Queen', 'Boulevard of Broken Dreams', 'Hungersite', 'Sparks', \"Forever's Not Enough\", 'The Game of Love (feat. Michelle Branch) - Main / Radio Mix', 'Fighting (Feat. Lee Young Ji)', 'No Line On The Horizon', 'I Want To Know - Pt. 2', 'III. Telegraph Ave. (\"Oakland\" by Lloyd)', 'Diddy Bop', 'ETA', 'Let Down', 'Players', \"THAT'S THAT\", 'Nanã', \"BABY I'M BACK\", 'summer', '晴る', 'The Nights', 'Beaches', \"If I Sit Still, Maybe I'll Get Out of Here\", 'ミッドナイト・ランデブー', 'Under Control', 'Congratulations (feat. Bilal)', 'Take Me To The Sun', 'Follow Me', 'King For A Day', 'The Story Unfolds', '第六感', 'I Like U', \"I'm Still Standing\", 'Roses', 'Earned It (Fifty Shades Of Grey)', 'HIGHJACK', 'Dreamer', 'Double Life - From \"Despicable Me 4\"', 'Inwood Hill Park'], 'artist_uri': ['spotify:artist:4Gso3d4CscCijv0lmajZWs', 'spotify:artist:6vWDO969PvNqNYHIOW5v0m', 'spotify:artist:56MVymJsDkkMOkpmlzbvqa', 'spotify:artist:36QJpDe2go2KgaRleHCDTp', 'spotify:artist:4hR6Bm9YYtktXzjmKhb1Cn', 'spotify:artist:1yxSLGMDHlW21z4YXirZDS', 'spotify:artist:2RQXRUsr4IW1f3mKyKsy4B', 'spotify:artist:5QcGYbIhQiKu472ypOrhJu', 'spotify:artist:5TKvgtinsgyZni3nH6iOCB', 'spotify:artist:40ZNYROS4zLfyyBSs2PGe2', 'spotify:artist:10exVja0key0uqUkk6LJRT', 'spotify:artist:2o8gT0fQmFxGNbowbdgeZe', 'spotify:artist:72NhFAGG5Pt91VbheJeEPG', 'spotify:artist:3pc0bOVB5whxmD50W79wwO', 'spotify:artist:5K4W6rqBFWDnAN6FQUkS6x', 'spotify:artist:3HZgaiR960RFqx9d4LPraD', 'spotify:artist:00FQb4jTyendYWaN8pK0wa', 'spotify:artist:6mmSS7itNWKbapgG2eZbIg', 'spotify:artist:6HvZYsbFfjnjFrWF950C9d', 'spotify:artist:142YBUGmLWCJigFLzgguf8', 'spotify:artist:1HY2Jd0NmPuamShAr6KMms', 'spotify:artist:3sHvvFIzt6FKUQuksXhZn3', 'spotify:artist:2h93pZq0e7k5yf4dywlkpM', 'spotify:artist:6y8XlgIV8BLlIg1tT1R10i', 'spotify:artist:4oLeXFyACqeem2VImYeBFe', 'spotify:artist:0XNa1vTidXlvJ2gHSsRi4A', 'spotify:artist:4LLpKhyESsyAXpc4laK94U', 'spotify:artist:06HL4z0CvFAxyc27GXpf02', 'spotify:artist:3nuc29fYGlQbIrwh4yrNWd', 'spotify:artist:0g4nVH1u2oCecmqIgD4t3D', 'spotify:artist:0C0XlULifJtAgn6ZNCW2eu', 'spotify:artist:35l9BRT7MXmM8bv2WDQiyB', 'spotify:artist:26T3LtbuGT1Fu9m0eRq5X3', 'spotify:artist:06bDwgCHeMAwhgI8il4Y5k', 'spotify:artist:0Cm90jv892OeEegB3ELmvN', 'spotify:artist:2IDLDx25HU1nQMKde4n61a', 'spotify:artist:47mIJdHORyRerp4os813jD', 'spotify:artist:1Xyo4u8uXC1ZmMpatF05PJ', 'spotify:artist:1WgXqy2Dd70QQOU7Ay074N', 'spotify:artist:6zFYqv1mOsgBRQbae3JJ9e', 'spotify:artist:3nnQpaTvKb5jCQabZefACI', 'spotify:artist:16oZKvXb6WkQlVAjwo2Wbg', 'spotify:artist:57DlMWmbVIf2ssJ8QBpBau', 'spotify:artist:0k17h0D3J5VfsdmQ1iZtE9', 'spotify:artist:2RdwBSPQiwcmiDo9kixcl8', 'spotify:artist:06HL4z0CvFAxyc27GXpf02', 'spotify:artist:40ZNYROS4zLfyyBSs2PGe2', 'spotify:artist:2KftmGt9sk1yLjsAoloC3M', 'spotify:artist:16oZKvXb6WkQlVAjwo2Wbg', 'spotify:artist:7nqOGRxlXj7N2JYbgNEjYH', 'spotify:artist:31TPClRtHm23RisEBtV3X7', 'spotify:artist:281Vp9LDrWkHMHQzfQHWCt', 'spotify:artist:1PbO7aQiVeKbGp8GYWDL9C', 'spotify:artist:6Ff53KvcvAj5U7Z1vojB5o', 'spotify:artist:0iEtIxbK0KxaSlF7G42ZOp', 'spotify:artist:5Z8UTQtTYNu5o5FA66LFgv', 'spotify:artist:6sXQgQ6HShnHPbUfTfWknu', 'spotify:artist:6DoH7ywD5BcQvjloe9OcIj', 'spotify:artist:7FIoB5PHdrMZVC3q2HE5MS', 'spotify:artist:4fSMtiyC6lF5BUO1tUMWMs', 'spotify:artist:2eRdPaLHWAL4d1WcNUO9Vz', 'spotify:artist:0Y5tJX1MQlPlqiwlOH1tJY', 'spotify:artist:0LcJLqbBmaGUft1e9Mm8HV', 'spotify:artist:2g0QLUYku8AuPVK2udRV7i', 'spotify:artist:5tkITWzssc9z9hu7ZEOCXz', 'spotify:artist:4gzpq5DPGxSnKTe4SA8HAU', 'spotify:artist:6aiCKnIN68hohzU3ZzNq48', 'spotify:artist:6GI52t8N5F02MxU0g5U69P', 'spotify:artist:1uAT5bTSp6dWbNmixIUP5t', 'spotify:artist:51Blml2LZPmy7TTiAg47vQ', 'spotify:artist:1yq9UuPp5DIb5w6eswGbKV', 'spotify:artist:73sIBHcqh3Z3NyqHKZ7FOL', 'spotify:artist:1EpyA68dKpjf7jXmQL88Hy', 'spotify:artist:6HvZYsbFfjnjFrWF950C9d', 'spotify:artist:4Z8W4fKeB5YxbusRsdQVPb', 'spotify:artist:6AMd49uBDJfhf30Ak2QR5s', 'spotify:artist:2pAWfrd7WFF3XhVt9GooDL', 'spotify:artist:45yEuthJ9yq1rNXAOpBnqM', 'spotify:artist:2tIP7SsRs7vjIcLrU85W8J', 'spotify:artist:3pc0bOVB5whxmD50W79wwO', 'spotify:artist:4UK2Lzi6fBfUi9rpDt6cik', 'spotify:artist:1vCWHaC5f2uS3yhpwWbIA6', 'spotify:artist:35l9BRT7MXmM8bv2WDQiyB', 'spotify:artist:5TUa95aB5Vu2CzwCnZd6t0', 'spotify:artist:0lRXEutklZUeNdWIJA1NI0', 'spotify:artist:0epOFNiUfyON9EYx7Tpr6V', 'spotify:artist:4LLpKhyESsyAXpc4laK94U', 'spotify:artist:5y8tKLUfMvliMe8IKamR32', 'spotify:artist:4uBSazM6snEc9wCG3jMlYt', 'spotify:artist:4iJLPqClelZOBCBifm8Fzv', 'spotify:artist:0wr85NuJuAYZsRzP1lJgiV', 'spotify:artist:7rpKUJ0AnklJ8q9nIPVSpZ', 'spotify:artist:2kxP07DLgs4xlWz8YHlvfh', 'spotify:artist:3PhoLpVuITZKcymswpck5b', 'spotify:artist:5K4W6rqBFWDnAN6FQUkS6x', 'spotify:artist:1Xyo4u8uXC1ZmMpatF05PJ', 'spotify:artist:13ubrt8QOOCPljQ2FL1Kca', 'spotify:artist:7gW0r5CkdEUMm42w9XpyZO', 'spotify:artist:2RdwBSPQiwcmiDo9kixcl8', 'spotify:artist:4IVAbR2w4JJNJDDRFP3E83'], 'artist_name': ['Don Toliver', 'Beyoncé', 'Fordo', 'Led Zeppelin', 'ericdoa', 'Black Eyed Peas', 'Noah Kahan', 'Jimmy Gnecco', 'Glockboybobo', 'Zach Bryan', 'Vance Joy', 'DPR IAN', '2hollis', 'keshi', 'Kanye West', 'The Districts', 'Lana Del Rey', 'Knock2', 'NewJeans', 'Gang of Youths', 'Lady Gaga', 'Juliet Ivy', 'Frank Ocean', 'Old Dominion', 'Fred again..', 'Franz Ferdinand', 'Mac Miller', 'Taylor Swift', 'Lake Street Dive', '浮生梦', 'The Killers', 'beabadoobee', 'Cage The Elephant', 'Set It Off', 'Eldzhey', 'Rich Brian', 'League of Legends', 'The Weeknd', 'AURORA', 'Billy Joel', 'Jeff Buckley', 'The Lumineers', 'Toby Fox', 'Pink Floyd', 'Pharrell Williams', 'Taylor Swift', 'Zach Bryan', 'Zucchero', 'The Lumineers', 'SEVENTEEN', 'Justin Timberlake', 'Rashid Ali', 'Levity', '*NSYNC', 'Metro Boomin', 'Jeremy Passion', 'Star Workshop Orchestra', 'Ray LaMontagne', 'George Harrison', 'Kevin MacLeod', 'The Modern Lovers', 'Travis Scott', 'ABBA', 'Leslie Cheung', 'Goose', 'Coldplay', 'Sarah Geronimo', 'Santana', 'BSS', 'U2', 'Adriano Celentano', 'Childish Gambino', 'Noname', 'NewJeans', 'Radiohead', 'Coi Leray', 'MF DOOM', 'Polo & Pan', 'The Kid LAROI', 'keshi', 'ヨルシカ', 'Avicii', 'beabadoobee', 'TTNG', 'CASIOPEA', 'The Strokes', 'Mac Miller', 'd4vd', 'Pat Metheny Group', 'Pierce The Veil', 'Wildstylez', 'Reol', 'NIKI', 'Elton John', 'Kanye West', 'The Weeknd', 'A$AP Rocky', 'Laufey', 'Pharrell Williams', '6LACK'], 'artist_pop': [86, 87, 53, 77, 60, 81, 87, 48, 34, 91, 76, 67, 60, 79, 93, 38, 92, 61, 82, 57, 91, 45, 88, 72, 81, 70, 83, 100, 65, 32, 79, 81, 76, 66, 57, 67, 78, 96, 75, 78, 68, 79, 72, 79, 81, 100, 91, 64, 79, 80, 82, 58, 52, 78, 90, 56, 0, 66, 68, 54, 43, 94, 82, 54, 53, 91, 64, 72, 61, 78, 63, 82, 53, 82, 83, 73, 78, 62, 85, 79, 74, 82, 81, 40, 53, 78, 83, 79, 51, 75, 55, 57, 78, 84, 93, 96, 86, 82, 81, 73], 'artist_genres': [['rap'], ['pop', 'r&b'], [], ['album rock', 'classic rock', 'hard rock', 'rock'], ['glitchcore', 'hyperpop'], ['dance pop', 'pop', 'pop rap'], ['pov: indie', 'singer-songwriter pop'], ['video game music'], ['chicago drill'], ['classic oklahoma country'], ['folk-pop', 'modern rock'], ['k-rap'], ['hyperpop'], ['chill r&b'], ['chicago rap', 'hip hop', 'rap'], ['lancaster pa indie'], ['art pop', 'pop'], ['bassline'], ['k-pop', 'k-pop girl group'], ['australian indie', 'modern rock'], ['art pop', 'dance pop', 'pop'], [], ['lgbtq+ hip hop', 'neo soul'], ['contemporary country', 'country', 'country road', 'modern country rock'], ['edm', 'house', 'stutter house'], ['alternative rock', 'dance rock', 'indie rock', 'modern rock', 'rock', 'scottish rock'], ['hip hop', 'pittsburgh rap', 'rap'], ['pop'], ['boston rock', 'indie folk', 'new americana'], ['zhongguo feng'], ['alternative rock', 'dance rock', 'modern rock', 'permanent wave', 'rock'], ['bedroom pop', 'bubblegrunge', 'indie pop', 'pov: indie'], ['modern alternative rock', 'modern rock', 'pov: indie', 'punk blues', 'rock'], ['electropowerpop', 'otacore', 'pixie', 'pov: indie'], ['russian hip hop', 'russian pop'], ['indonesian hip hop'], ['speedrun', 'video game music'], ['canadian contemporary r&b', 'canadian pop', 'pop'], ['art pop', 'norwegian pop'], ['album rock', 'classic rock', 'mellow gold', 'piano rock', 'rock', 'singer-songwriter', 'soft rock'], ['melancholia', 'permanent wave', 'singer-songwriter'], ['folk-pop', 'modern rock', 'neo mellow', 'stomp and holler'], ['indie game soundtrack', 'otacore', 'pixel'], ['album rock', 'art rock', 'classic rock', 'progressive rock', 'psychedelic rock', 'rock', 'symphonic rock'], ['dance pop', 'pop'], ['pop'], ['classic oklahoma country'], ['italian adult pop', 'italian pop rock'], ['folk-pop', 'modern rock', 'neo mellow', 'stomp and holler'], ['k-pop', 'k-pop boy group'], ['dance pop', 'pop'], ['filmi', 'modern bollywood'], [], ['boy band', 'dance pop', 'pop'], ['rap'], ['chill r&b', 'pop soul'], [], ['acoustic pop', 'indie folk', 'neo mellow', 'new americana', 'stomp and holler'], ['album rock', 'classic rock', 'folk rock', 'mellow gold', 'rock', 'singer-songwriter', 'soft rock'], ['meme', 'sillycore'], ['alternative rock', 'boston rock', 'experimental rock', 'garage rock', 'lo-fi', 'no wave'], ['rap', 'slap house'], ['europop', 'swedish pop'], ['c-pop', 'cantopop'], ['jam band', 'jamtronica'], ['permanent wave', 'pop'], ['opm'], ['blues rock', 'classic rock', 'mexican classic rock'], ['k-pop'], ['irish rock', 'permanent wave', 'rock'], ['classic italian pop', 'italian adult pop'], ['atl hip hop', 'hip hop', 'rap'], ['alternative r&b', 'chicago rap'], ['k-pop', 'k-pop girl group'], ['alternative rock', 'art rock', 'melancholia', 'oxford indie', 'permanent wave', 'rock'], ['new jersey underground rap', 'trap queen'], ['east coast hip hop', 'hip hop', 'instrumental hip hop', 'rap'], ['dark disco', 'electro-pop francais', 'french indietronica'], ['australian hip hop'], ['chill r&b'], ['j-pop'], ['dance pop', 'edm', 'pop', 'pop dance'], ['bedroom pop', 'bubblegrunge', 'indie pop', 'pov: indie'], ['british math rock', 'math rock', 'midwest emo', 'oxford indie'], ['japanese jazz', 'japanese jazz fusion'], ['alternative rock', 'garage rock', 'modern rock', 'permanent wave', 'rock'], ['hip hop', 'pittsburgh rap', 'rap'], ['bedroom pop', 'bedroom r&b'], ['contemporary post-bop', 'ecm-style jazz', 'jazz', 'jazz fusion'], ['modern rock', 'pop punk', 'screamo'], ['classic hardstyle', 'euphoric hardstyle'], ['anime rock', 'japanese electropop'], ['indonesian r&b'], ['glam rock', 'mellow gold', 'piano rock', 'rock'], ['chicago rap', 'hip hop', 'rap'], ['canadian contemporary r&b', 'canadian pop', 'pop'], ['east coast hip hop', 'hip hop', 'rap'], ['gen z singer-songwriter'], ['dance pop', 'pop'], ['atl hip hop', 'melodic rap', 'r&b', 'rap', 'trap']], 'album': ['Deep in the Water', 'I AM...SASHA FIERCE', 'OBVIOUS', 'Led Zeppelin IV (Deluxe Edition)', 'things with wings', 'THE E.N.D. (THE ENERGY NEVER DIES)', 'I Was / I Am', 'METAL GEAR RISING REVENGEANCE Vocal Tracks Selection', 'No Rap Cap', 'The Great American Bar Scene', 'Dream Your Life Away - Special Edition', 'Moodswings in This Order', 'jeans', 'Requiem', 'The Life Of Pablo', 'Telephone', 'Born To Die - The Paradise Edition', 'buttons!', \"NewJeans 2nd EP 'Get Up'\", 'Go Farther In Lightness', 'Die With A Smile', 'playpen', 'channel ORANGE', 'Happy Endings', 'places to be', 'Franz Ferdinand', 'Swimming', \"Red (Taylor's Version)\", 'Obviously', '探窗', 'Hot Fuss', 'Glue Song', 'Cage The Elephant (Expanded Edition)', 'Cinematics (Expanded Edition)', 'Sayonara Boy X', '1999', 'Legends Never Die', 'Starboy', 'A Different Kind Of Human (Step II)', 'The Stranger (Legacy Edition)', 'Grace', 'III', 'UNDERTALE Soundtrack', 'Wish You Were Here', 'Double Life (From \"Despicable Me 4\")', 'folklore', 'Boys Of Faith', 'Zucchero - Sugar Fornaciari (Official Documentary Soundtrack)', 'The Lumineers', \"SEVENTEEN BEST ALBUM '17 IS RIGHT HERE'\", 'Justified', 'Jaane Tu... Ya Jaane Na', 'Moment', 'No Strings Attached', 'HEROES & VILLAINS', 'For More Than A Feeling', 'Music For Mother Nature: Pastoral Music (Da Zi Ran Feng Qing Yin Yue Xi Lie: Tian Yuan Mu Ge)', 'Trouble', 'Cloud Nine', 'Monkeys Spinning Monkeys', 'The Modern Lovers (Expanded Version)', 'Birds In The Trap Sing McKnight', 'Arrival', '摯愛', 'Dripfield', 'Parachutes', 'Sarah Geronimo Greatest Hits, Vol. 1', 'Shaman', \"BSS 1st Single Album 'SECOND WIND'\", 'No Line On The Horizon', 'Adrian', 'Because the Internet', 'Telefone', \"NewJeans 2nd EP 'Get Up'\", 'OK Computer', 'Players', 'BORN LIKE THIS (Redux)', 'Caravelle', 'THE FIRST TIME (DELUXE VERSION)', 'skeletons', '晴る', 'The Days / Nights', 'Beaches', 'This Town Needs Guns', 'CASIOPEA', 'Room On Fire', 'The Divine Feminine', 'Take Me To The Sun', 'Imaginary Day', 'Collide With The Sky', 'Project One', '第六感', 'I Like U', 'Too Low For Zero', 'Late Registration', 'The Highlights', 'HIGHJACK', 'Bewitched: The Goddess Edition', 'Double Life (From \"Despicable Me 4\")', 'Since I Have A Lover'], 'track_pop': [59, 72, 61, 77, 43, 74, 63, 60, 6, 85, 76, 63, 61, 36, 71, 41, 66, 35, 73, 65, 100, 56, 77, 59, 75, 81, 58, 80, 62, 42, 86, 79, 77, 40, 20, 35, 74, 88, 44, 80, 73, 50, 52, 64, 82, 84, 67, 27, 75, 69, 79, 72, 48, 89, 83, 26, 1, 63, 76, 41, 34, 85, 84, 11, 49, 85, 38, 62, 68, 26, 28, 64, 52, 76, 70, 69, 47, 61, 85, 56, 71, 84, 65, 35, 49, 55, 76, 65, 36, 76, 28, 57, 65, 83, 62, 75, 75, 57, 82, 58]}\n"
     ]
    }
   ],
   "source": [
    "for items in track:\n",
    "    playlist_dict[\"track_uri\"].append(items[\"uri\"])\n",
    "    playlist_dict[\"track_name\"].append(items[\"name\"])\n",
    "    playlist_dict[\"artist_uri\"].append(items[\"artists\"][0][\"uri\"])\n",
    "    playlist_dict[\"artist_name\"].append(items[\"artists\"][0][\"name\"])\n",
    "    artist_data = sp.artist(items[\"artists\"][0][\"uri\"])\n",
    "    playlist_dict[\"artist_pop\"].append(artist_data[\"popularity\"])\n",
    "    playlist_dict[\"artist_genres\"].append(artist_data[\"genres\"])\n",
    "    playlist_dict[\"album\"].append(items[\"album\"][\"name\"])\n",
    "    playlist_dict[\"track_pop\"].append(items[\"popularity\"])\n",
    "\n",
    "print(playlist_dict)"
   ]
  },
  {
   "cell_type": "code",
   "execution_count": 109,
   "metadata": {},
   "outputs": [
    {
     "data": {
      "text/plain": [
       "100"
      ]
     },
     "execution_count": 109,
     "metadata": {},
     "output_type": "execute_result"
    }
   ],
   "source": [
    "len(playlist_dict['track_uri'])"
   ]
  },
  {
   "cell_type": "markdown",
   "metadata": {},
   "source": [
    "## Part 2.3: Extracting Features from Tracks (5 points)\n",
    "\n",
    "Now that we have a list of track URIs, we can extract features from these tracks. Spotify has a list of these features for each of its tracks, from analysis of the audio. We can access these with a single method of the spotify object `audio_features(uri)`. This gives us a list of mostly numerical features that we can use for analysis."
   ]
  },
  {
   "cell_type": "code",
   "execution_count": 110,
   "metadata": {},
   "outputs": [
    {
     "data": {
      "text/plain": [
       "[{'danceability': 0.671,\n",
       "  'energy': 0.543,\n",
       "  'key': 7,\n",
       "  'loudness': -5.45,\n",
       "  'mode': 0,\n",
       "  'speechiness': 0.0357,\n",
       "  'acousticness': 0.376,\n",
       "  'instrumentalness': 0.000209,\n",
       "  'liveness': 0.11,\n",
       "  'valence': 0.112,\n",
       "  'tempo': 124.051,\n",
       "  'type': 'audio_features',\n",
       "  'id': '2dshtwEGNpyrE0x69wUiHj',\n",
       "  'uri': 'spotify:track:2dshtwEGNpyrE0x69wUiHj',\n",
       "  'track_href': 'https://api.spotify.com/v1/tracks/2dshtwEGNpyrE0x69wUiHj',\n",
       "  'analysis_url': 'https://api.spotify.com/v1/audio-analysis/2dshtwEGNpyrE0x69wUiHj',\n",
       "  'duration_ms': 170453,\n",
       "  'time_signature': 4}]"
      ]
     },
     "execution_count": 110,
     "metadata": {},
     "output_type": "execute_result"
    }
   ],
   "source": [
    "# note that .audio_features returns a dictionary in a list of 1\n",
    "sp.audio_features(playlist_dict['track_uri'][0])"
   ]
  },
  {
   "cell_type": "markdown",
   "metadata": {},
   "source": [
    "I have initiated an empty `song_dict` for you below. Loop through the track URIs of our `playlist_dict` from the previous part then for each song, loop through the audio features and add corresponding key-value pairs to the dictionary. Finally, after you have created the dictionary, cast it to a Data Frame called `song_df` using pandas. **Note**: if you know of a faster way to do this than with a nested for loop, you are welcome to use it."
   ]
  },
  {
   "cell_type": "code",
   "execution_count": 111,
   "metadata": {},
   "outputs": [],
   "source": [
    "from collections import defaultdict\n",
    "import pandas as pd\n",
    "\n",
    "song_dict = defaultdict(list)"
   ]
  },
  {
   "cell_type": "code",
   "execution_count": 112,
   "metadata": {},
   "outputs": [],
   "source": [
    "for track_uri in playlist_dict['track_uri']:\n",
    "    audio_features = sp.audio_features(track_uri)[0]\n",
    "    for key, value in audio_features.items():\n",
    "        song_dict[key].append(value)\n",
    "\n",
    "song_df = pd.DataFrame(song_dict)"
   ]
  },
  {
   "cell_type": "code",
   "execution_count": 113,
   "metadata": {
    "scrolled": true
   },
   "outputs": [
    {
     "data": {
      "text/html": [
       "<div>\n",
       "<style scoped>\n",
       "    .dataframe tbody tr th:only-of-type {\n",
       "        vertical-align: middle;\n",
       "    }\n",
       "\n",
       "    .dataframe tbody tr th {\n",
       "        vertical-align: top;\n",
       "    }\n",
       "\n",
       "    .dataframe thead th {\n",
       "        text-align: right;\n",
       "    }\n",
       "</style>\n",
       "<table border=\"1\" class=\"dataframe\">\n",
       "  <thead>\n",
       "    <tr style=\"text-align: right;\">\n",
       "      <th></th>\n",
       "      <th>danceability</th>\n",
       "      <th>energy</th>\n",
       "      <th>key</th>\n",
       "      <th>loudness</th>\n",
       "      <th>mode</th>\n",
       "      <th>speechiness</th>\n",
       "      <th>acousticness</th>\n",
       "      <th>instrumentalness</th>\n",
       "      <th>liveness</th>\n",
       "      <th>valence</th>\n",
       "      <th>tempo</th>\n",
       "      <th>type</th>\n",
       "      <th>id</th>\n",
       "      <th>uri</th>\n",
       "      <th>track_href</th>\n",
       "      <th>analysis_url</th>\n",
       "      <th>duration_ms</th>\n",
       "      <th>time_signature</th>\n",
       "    </tr>\n",
       "  </thead>\n",
       "  <tbody>\n",
       "    <tr>\n",
       "      <th>0</th>\n",
       "      <td>0.671</td>\n",
       "      <td>0.543</td>\n",
       "      <td>7</td>\n",
       "      <td>-5.450</td>\n",
       "      <td>0</td>\n",
       "      <td>0.0357</td>\n",
       "      <td>0.37600</td>\n",
       "      <td>0.000209</td>\n",
       "      <td>0.1100</td>\n",
       "      <td>0.112</td>\n",
       "      <td>124.051</td>\n",
       "      <td>audio_features</td>\n",
       "      <td>2dshtwEGNpyrE0x69wUiHj</td>\n",
       "      <td>spotify:track:2dshtwEGNpyrE0x69wUiHj</td>\n",
       "      <td>https://api.spotify.com/v1/tracks/2dshtwEGNpyr...</td>\n",
       "      <td>https://api.spotify.com/v1/audio-analysis/2dsh...</td>\n",
       "      <td>170453</td>\n",
       "      <td>4</td>\n",
       "    </tr>\n",
       "    <tr>\n",
       "      <th>1</th>\n",
       "      <td>0.508</td>\n",
       "      <td>0.720</td>\n",
       "      <td>11</td>\n",
       "      <td>-5.908</td>\n",
       "      <td>0</td>\n",
       "      <td>0.0628</td>\n",
       "      <td>0.27200</td>\n",
       "      <td>0.000000</td>\n",
       "      <td>0.0563</td>\n",
       "      <td>0.472</td>\n",
       "      <td>79.983</td>\n",
       "      <td>audio_features</td>\n",
       "      <td>4JehYebiI9JE8sR8MisGVb</td>\n",
       "      <td>spotify:track:4JehYebiI9JE8sR8MisGVb</td>\n",
       "      <td>https://api.spotify.com/v1/tracks/4JehYebiI9JE...</td>\n",
       "      <td>https://api.spotify.com/v1/audio-analysis/4Jeh...</td>\n",
       "      <td>261640</td>\n",
       "      <td>4</td>\n",
       "    </tr>\n",
       "    <tr>\n",
       "      <th>2</th>\n",
       "      <td>0.765</td>\n",
       "      <td>0.796</td>\n",
       "      <td>9</td>\n",
       "      <td>-3.476</td>\n",
       "      <td>1</td>\n",
       "      <td>0.0356</td>\n",
       "      <td>0.03530</td>\n",
       "      <td>0.000000</td>\n",
       "      <td>0.6980</td>\n",
       "      <td>0.492</td>\n",
       "      <td>107.966</td>\n",
       "      <td>audio_features</td>\n",
       "      <td>42sqQTi2EqDPd6Iex66joE</td>\n",
       "      <td>spotify:track:42sqQTi2EqDPd6Iex66joE</td>\n",
       "      <td>https://api.spotify.com/v1/tracks/42sqQTi2EqDP...</td>\n",
       "      <td>https://api.spotify.com/v1/audio-analysis/42sq...</td>\n",
       "      <td>190903</td>\n",
       "      <td>4</td>\n",
       "    </tr>\n",
       "    <tr>\n",
       "      <th>3</th>\n",
       "      <td>0.338</td>\n",
       "      <td>0.340</td>\n",
       "      <td>9</td>\n",
       "      <td>-12.049</td>\n",
       "      <td>0</td>\n",
       "      <td>0.0339</td>\n",
       "      <td>0.58000</td>\n",
       "      <td>0.003200</td>\n",
       "      <td>0.1160</td>\n",
       "      <td>0.197</td>\n",
       "      <td>82.433</td>\n",
       "      <td>audio_features</td>\n",
       "      <td>5CQ30WqJwcep0pYcV4AMNc</td>\n",
       "      <td>spotify:track:5CQ30WqJwcep0pYcV4AMNc</td>\n",
       "      <td>https://api.spotify.com/v1/tracks/5CQ30WqJwcep...</td>\n",
       "      <td>https://api.spotify.com/v1/audio-analysis/5CQ3...</td>\n",
       "      <td>482830</td>\n",
       "      <td>4</td>\n",
       "    </tr>\n",
       "    <tr>\n",
       "      <th>4</th>\n",
       "      <td>0.665</td>\n",
       "      <td>0.655</td>\n",
       "      <td>2</td>\n",
       "      <td>-6.335</td>\n",
       "      <td>1</td>\n",
       "      <td>0.0535</td>\n",
       "      <td>0.00266</td>\n",
       "      <td>0.000000</td>\n",
       "      <td>0.2980</td>\n",
       "      <td>0.626</td>\n",
       "      <td>124.028</td>\n",
       "      <td>audio_features</td>\n",
       "      <td>2GDnUFJ1ZwP3ooFqQHY1ht</td>\n",
       "      <td>spotify:track:2GDnUFJ1ZwP3ooFqQHY1ht</td>\n",
       "      <td>https://api.spotify.com/v1/tracks/2GDnUFJ1ZwP3...</td>\n",
       "      <td>https://api.spotify.com/v1/audio-analysis/2GDn...</td>\n",
       "      <td>128512</td>\n",
       "      <td>4</td>\n",
       "    </tr>\n",
       "    <tr>\n",
       "      <th>...</th>\n",
       "      <td>...</td>\n",
       "      <td>...</td>\n",
       "      <td>...</td>\n",
       "      <td>...</td>\n",
       "      <td>...</td>\n",
       "      <td>...</td>\n",
       "      <td>...</td>\n",
       "      <td>...</td>\n",
       "      <td>...</td>\n",
       "      <td>...</td>\n",
       "      <td>...</td>\n",
       "      <td>...</td>\n",
       "      <td>...</td>\n",
       "      <td>...</td>\n",
       "      <td>...</td>\n",
       "      <td>...</td>\n",
       "      <td>...</td>\n",
       "      <td>...</td>\n",
       "    </tr>\n",
       "    <tr>\n",
       "      <th>95</th>\n",
       "      <td>0.658</td>\n",
       "      <td>0.282</td>\n",
       "      <td>2</td>\n",
       "      <td>-8.282</td>\n",
       "      <td>0</td>\n",
       "      <td>0.0353</td>\n",
       "      <td>0.43300</td>\n",
       "      <td>0.000000</td>\n",
       "      <td>0.0741</td>\n",
       "      <td>0.390</td>\n",
       "      <td>119.757</td>\n",
       "      <td>audio_features</td>\n",
       "      <td>1cQ3LIkZE68pMSnPhZWXLu</td>\n",
       "      <td>spotify:track:1cQ3LIkZE68pMSnPhZWXLu</td>\n",
       "      <td>https://api.spotify.com/v1/tracks/1cQ3LIkZE68p...</td>\n",
       "      <td>https://api.spotify.com/v1/audio-analysis/1cQ3...</td>\n",
       "      <td>277724</td>\n",
       "      <td>3</td>\n",
       "    </tr>\n",
       "    <tr>\n",
       "      <th>96</th>\n",
       "      <td>0.610</td>\n",
       "      <td>0.682</td>\n",
       "      <td>7</td>\n",
       "      <td>-4.877</td>\n",
       "      <td>1</td>\n",
       "      <td>0.1230</td>\n",
       "      <td>0.31800</td>\n",
       "      <td>0.000000</td>\n",
       "      <td>0.3210</td>\n",
       "      <td>0.694</td>\n",
       "      <td>142.966</td>\n",
       "      <td>audio_features</td>\n",
       "      <td>57L5EYzCfHS7Jd58rV33lW</td>\n",
       "      <td>spotify:track:57L5EYzCfHS7Jd58rV33lW</td>\n",
       "      <td>https://api.spotify.com/v1/tracks/57L5EYzCfHS7...</td>\n",
       "      <td>https://api.spotify.com/v1/audio-analysis/57L5...</td>\n",
       "      <td>190075</td>\n",
       "      <td>4</td>\n",
       "    </tr>\n",
       "    <tr>\n",
       "      <th>97</th>\n",
       "      <td>0.613</td>\n",
       "      <td>0.146</td>\n",
       "      <td>2</td>\n",
       "      <td>-11.211</td>\n",
       "      <td>1</td>\n",
       "      <td>0.0394</td>\n",
       "      <td>0.95400</td>\n",
       "      <td>0.000000</td>\n",
       "      <td>0.0857</td>\n",
       "      <td>0.413</td>\n",
       "      <td>117.075</td>\n",
       "      <td>audio_features</td>\n",
       "      <td>59ufJBDa8L0dduJwcxXnZj</td>\n",
       "      <td>spotify:track:59ufJBDa8L0dduJwcxXnZj</td>\n",
       "      <td>https://api.spotify.com/v1/tracks/59ufJBDa8L0d...</td>\n",
       "      <td>https://api.spotify.com/v1/audio-analysis/59uf...</td>\n",
       "      <td>210827</td>\n",
       "      <td>4</td>\n",
       "    </tr>\n",
       "    <tr>\n",
       "      <th>98</th>\n",
       "      <td>0.851</td>\n",
       "      <td>0.652</td>\n",
       "      <td>8</td>\n",
       "      <td>-4.333</td>\n",
       "      <td>1</td>\n",
       "      <td>0.0367</td>\n",
       "      <td>0.03170</td>\n",
       "      <td>0.000000</td>\n",
       "      <td>0.0936</td>\n",
       "      <td>0.696</td>\n",
       "      <td>119.944</td>\n",
       "      <td>audio_features</td>\n",
       "      <td>07oO1U722crtVcavi6frX6</td>\n",
       "      <td>spotify:track:07oO1U722crtVcavi6frX6</td>\n",
       "      <td>https://api.spotify.com/v1/tracks/07oO1U722crt...</td>\n",
       "      <td>https://api.spotify.com/v1/audio-analysis/07oO...</td>\n",
       "      <td>190782</td>\n",
       "      <td>4</td>\n",
       "    </tr>\n",
       "    <tr>\n",
       "      <th>99</th>\n",
       "      <td>0.752</td>\n",
       "      <td>0.684</td>\n",
       "      <td>1</td>\n",
       "      <td>-7.248</td>\n",
       "      <td>1</td>\n",
       "      <td>0.1200</td>\n",
       "      <td>0.02790</td>\n",
       "      <td>0.009950</td>\n",
       "      <td>0.1230</td>\n",
       "      <td>0.539</td>\n",
       "      <td>95.023</td>\n",
       "      <td>audio_features</td>\n",
       "      <td>4qZLrKsaGkYmVRGUviVPtk</td>\n",
       "      <td>spotify:track:4qZLrKsaGkYmVRGUviVPtk</td>\n",
       "      <td>https://api.spotify.com/v1/tracks/4qZLrKsaGkYm...</td>\n",
       "      <td>https://api.spotify.com/v1/audio-analysis/4qZL...</td>\n",
       "      <td>189680</td>\n",
       "      <td>4</td>\n",
       "    </tr>\n",
       "  </tbody>\n",
       "</table>\n",
       "<p>100 rows × 18 columns</p>\n",
       "</div>"
      ],
      "text/plain": [
       "    danceability  energy  key  loudness  mode  speechiness  acousticness  \\\n",
       "0          0.671   0.543    7    -5.450     0       0.0357       0.37600   \n",
       "1          0.508   0.720   11    -5.908     0       0.0628       0.27200   \n",
       "2          0.765   0.796    9    -3.476     1       0.0356       0.03530   \n",
       "3          0.338   0.340    9   -12.049     0       0.0339       0.58000   \n",
       "4          0.665   0.655    2    -6.335     1       0.0535       0.00266   \n",
       "..           ...     ...  ...       ...   ...          ...           ...   \n",
       "95         0.658   0.282    2    -8.282     0       0.0353       0.43300   \n",
       "96         0.610   0.682    7    -4.877     1       0.1230       0.31800   \n",
       "97         0.613   0.146    2   -11.211     1       0.0394       0.95400   \n",
       "98         0.851   0.652    8    -4.333     1       0.0367       0.03170   \n",
       "99         0.752   0.684    1    -7.248     1       0.1200       0.02790   \n",
       "\n",
       "    instrumentalness  liveness  valence    tempo            type  \\\n",
       "0           0.000209    0.1100    0.112  124.051  audio_features   \n",
       "1           0.000000    0.0563    0.472   79.983  audio_features   \n",
       "2           0.000000    0.6980    0.492  107.966  audio_features   \n",
       "3           0.003200    0.1160    0.197   82.433  audio_features   \n",
       "4           0.000000    0.2980    0.626  124.028  audio_features   \n",
       "..               ...       ...      ...      ...             ...   \n",
       "95          0.000000    0.0741    0.390  119.757  audio_features   \n",
       "96          0.000000    0.3210    0.694  142.966  audio_features   \n",
       "97          0.000000    0.0857    0.413  117.075  audio_features   \n",
       "98          0.000000    0.0936    0.696  119.944  audio_features   \n",
       "99          0.009950    0.1230    0.539   95.023  audio_features   \n",
       "\n",
       "                        id                                   uri  \\\n",
       "0   2dshtwEGNpyrE0x69wUiHj  spotify:track:2dshtwEGNpyrE0x69wUiHj   \n",
       "1   4JehYebiI9JE8sR8MisGVb  spotify:track:4JehYebiI9JE8sR8MisGVb   \n",
       "2   42sqQTi2EqDPd6Iex66joE  spotify:track:42sqQTi2EqDPd6Iex66joE   \n",
       "3   5CQ30WqJwcep0pYcV4AMNc  spotify:track:5CQ30WqJwcep0pYcV4AMNc   \n",
       "4   2GDnUFJ1ZwP3ooFqQHY1ht  spotify:track:2GDnUFJ1ZwP3ooFqQHY1ht   \n",
       "..                     ...                                   ...   \n",
       "95  1cQ3LIkZE68pMSnPhZWXLu  spotify:track:1cQ3LIkZE68pMSnPhZWXLu   \n",
       "96  57L5EYzCfHS7Jd58rV33lW  spotify:track:57L5EYzCfHS7Jd58rV33lW   \n",
       "97  59ufJBDa8L0dduJwcxXnZj  spotify:track:59ufJBDa8L0dduJwcxXnZj   \n",
       "98  07oO1U722crtVcavi6frX6  spotify:track:07oO1U722crtVcavi6frX6   \n",
       "99  4qZLrKsaGkYmVRGUviVPtk  spotify:track:4qZLrKsaGkYmVRGUviVPtk   \n",
       "\n",
       "                                           track_href  \\\n",
       "0   https://api.spotify.com/v1/tracks/2dshtwEGNpyr...   \n",
       "1   https://api.spotify.com/v1/tracks/4JehYebiI9JE...   \n",
       "2   https://api.spotify.com/v1/tracks/42sqQTi2EqDP...   \n",
       "3   https://api.spotify.com/v1/tracks/5CQ30WqJwcep...   \n",
       "4   https://api.spotify.com/v1/tracks/2GDnUFJ1ZwP3...   \n",
       "..                                                ...   \n",
       "95  https://api.spotify.com/v1/tracks/1cQ3LIkZE68p...   \n",
       "96  https://api.spotify.com/v1/tracks/57L5EYzCfHS7...   \n",
       "97  https://api.spotify.com/v1/tracks/59ufJBDa8L0d...   \n",
       "98  https://api.spotify.com/v1/tracks/07oO1U722crt...   \n",
       "99  https://api.spotify.com/v1/tracks/4qZLrKsaGkYm...   \n",
       "\n",
       "                                         analysis_url  duration_ms  \\\n",
       "0   https://api.spotify.com/v1/audio-analysis/2dsh...       170453   \n",
       "1   https://api.spotify.com/v1/audio-analysis/4Jeh...       261640   \n",
       "2   https://api.spotify.com/v1/audio-analysis/42sq...       190903   \n",
       "3   https://api.spotify.com/v1/audio-analysis/5CQ3...       482830   \n",
       "4   https://api.spotify.com/v1/audio-analysis/2GDn...       128512   \n",
       "..                                                ...          ...   \n",
       "95  https://api.spotify.com/v1/audio-analysis/1cQ3...       277724   \n",
       "96  https://api.spotify.com/v1/audio-analysis/57L5...       190075   \n",
       "97  https://api.spotify.com/v1/audio-analysis/59uf...       210827   \n",
       "98  https://api.spotify.com/v1/audio-analysis/07oO...       190782   \n",
       "99  https://api.spotify.com/v1/audio-analysis/4qZL...       189680   \n",
       "\n",
       "    time_signature  \n",
       "0                4  \n",
       "1                4  \n",
       "2                4  \n",
       "3                4  \n",
       "4                4  \n",
       "..             ...  \n",
       "95               3  \n",
       "96               4  \n",
       "97               4  \n",
       "98               4  \n",
       "99               4  \n",
       "\n",
       "[100 rows x 18 columns]"
      ]
     },
     "execution_count": 113,
     "metadata": {},
     "output_type": "execute_result"
    }
   ],
   "source": [
    "# uncomment the below to see if you completed your task\n",
    "song_df"
   ]
  },
  {
   "cell_type": "markdown",
   "metadata": {},
   "source": [
    "## Part 2.4: Cleaning/manipulating (5 points)\n",
    "\n",
    "Look at the information in `playlist_dict` and the information in `song_df`. What information would you like to add to `song_df` from `playlist_dict`? What information is in `song_df` that is not very useful?\n",
    "\n",
    "**Briefly discuss** your answers to those two questions in a markdown cell, then make the changes to `song_df`. That is: add the columns to the Data Frame that you wish to add, and delete the columns that are not useful. Keep in mind that there are many \"correct\" answers here."
   ]
  },
  {
   "cell_type": "markdown",
   "metadata": {},
   "source": [
    "I believe the type, id, uri, analysis_url, and track_href isn't very helpful and could be removed mainly because it isn't information someone needs unless they are an developer, danceability is cool to have, and the others I believe it would be more beneficial for people who understands music better\n",
    "\n",
    "What I would add in the song_df would be the track name, artist name, and the track popularity as well, just to have more information about the music"
   ]
  },
  {
   "cell_type": "code",
   "execution_count": 114,
   "metadata": {},
   "outputs": [
    {
     "data": {
      "text/html": [
       "<div>\n",
       "<style scoped>\n",
       "    .dataframe tbody tr th:only-of-type {\n",
       "        vertical-align: middle;\n",
       "    }\n",
       "\n",
       "    .dataframe tbody tr th {\n",
       "        vertical-align: top;\n",
       "    }\n",
       "\n",
       "    .dataframe thead th {\n",
       "        text-align: right;\n",
       "    }\n",
       "</style>\n",
       "<table border=\"1\" class=\"dataframe\">\n",
       "  <thead>\n",
       "    <tr style=\"text-align: right;\">\n",
       "      <th></th>\n",
       "      <th>danceability</th>\n",
       "      <th>energy</th>\n",
       "      <th>key</th>\n",
       "      <th>loudness</th>\n",
       "      <th>mode</th>\n",
       "      <th>speechiness</th>\n",
       "      <th>acousticness</th>\n",
       "      <th>instrumentalness</th>\n",
       "      <th>liveness</th>\n",
       "      <th>valence</th>\n",
       "      <th>tempo</th>\n",
       "      <th>duration_ms</th>\n",
       "      <th>time_signature</th>\n",
       "      <th>track_name</th>\n",
       "      <th>artist_name</th>\n",
       "      <th>track_pop</th>\n",
       "    </tr>\n",
       "  </thead>\n",
       "  <tbody>\n",
       "    <tr>\n",
       "      <th>0</th>\n",
       "      <td>0.671</td>\n",
       "      <td>0.543</td>\n",
       "      <td>7</td>\n",
       "      <td>-5.450</td>\n",
       "      <td>0</td>\n",
       "      <td>0.0357</td>\n",
       "      <td>0.37600</td>\n",
       "      <td>0.000209</td>\n",
       "      <td>0.1100</td>\n",
       "      <td>0.112</td>\n",
       "      <td>124.051</td>\n",
       "      <td>170453</td>\n",
       "      <td>4</td>\n",
       "      <td>DEEP IN THE WATER</td>\n",
       "      <td>Don Toliver</td>\n",
       "      <td>59</td>\n",
       "    </tr>\n",
       "    <tr>\n",
       "      <th>1</th>\n",
       "      <td>0.508</td>\n",
       "      <td>0.720</td>\n",
       "      <td>11</td>\n",
       "      <td>-5.908</td>\n",
       "      <td>0</td>\n",
       "      <td>0.0628</td>\n",
       "      <td>0.27200</td>\n",
       "      <td>0.000000</td>\n",
       "      <td>0.0563</td>\n",
       "      <td>0.472</td>\n",
       "      <td>79.983</td>\n",
       "      <td>261640</td>\n",
       "      <td>4</td>\n",
       "      <td>Halo</td>\n",
       "      <td>Beyoncé</td>\n",
       "      <td>72</td>\n",
       "    </tr>\n",
       "    <tr>\n",
       "      <th>2</th>\n",
       "      <td>0.765</td>\n",
       "      <td>0.796</td>\n",
       "      <td>9</td>\n",
       "      <td>-3.476</td>\n",
       "      <td>1</td>\n",
       "      <td>0.0356</td>\n",
       "      <td>0.03530</td>\n",
       "      <td>0.000000</td>\n",
       "      <td>0.6980</td>\n",
       "      <td>0.492</td>\n",
       "      <td>107.966</td>\n",
       "      <td>190903</td>\n",
       "      <td>4</td>\n",
       "      <td>OBVIOUS</td>\n",
       "      <td>Fordo</td>\n",
       "      <td>61</td>\n",
       "    </tr>\n",
       "    <tr>\n",
       "      <th>3</th>\n",
       "      <td>0.338</td>\n",
       "      <td>0.340</td>\n",
       "      <td>9</td>\n",
       "      <td>-12.049</td>\n",
       "      <td>0</td>\n",
       "      <td>0.0339</td>\n",
       "      <td>0.58000</td>\n",
       "      <td>0.003200</td>\n",
       "      <td>0.1160</td>\n",
       "      <td>0.197</td>\n",
       "      <td>82.433</td>\n",
       "      <td>482830</td>\n",
       "      <td>4</td>\n",
       "      <td>Stairway to Heaven - Remaster</td>\n",
       "      <td>Led Zeppelin</td>\n",
       "      <td>77</td>\n",
       "    </tr>\n",
       "    <tr>\n",
       "      <th>4</th>\n",
       "      <td>0.665</td>\n",
       "      <td>0.655</td>\n",
       "      <td>2</td>\n",
       "      <td>-6.335</td>\n",
       "      <td>1</td>\n",
       "      <td>0.0535</td>\n",
       "      <td>0.00266</td>\n",
       "      <td>0.000000</td>\n",
       "      <td>0.2980</td>\n",
       "      <td>0.626</td>\n",
       "      <td>124.028</td>\n",
       "      <td>128512</td>\n",
       "      <td>4</td>\n",
       "      <td>ocd</td>\n",
       "      <td>ericdoa</td>\n",
       "      <td>43</td>\n",
       "    </tr>\n",
       "    <tr>\n",
       "      <th>...</th>\n",
       "      <td>...</td>\n",
       "      <td>...</td>\n",
       "      <td>...</td>\n",
       "      <td>...</td>\n",
       "      <td>...</td>\n",
       "      <td>...</td>\n",
       "      <td>...</td>\n",
       "      <td>...</td>\n",
       "      <td>...</td>\n",
       "      <td>...</td>\n",
       "      <td>...</td>\n",
       "      <td>...</td>\n",
       "      <td>...</td>\n",
       "      <td>...</td>\n",
       "      <td>...</td>\n",
       "      <td>...</td>\n",
       "    </tr>\n",
       "    <tr>\n",
       "      <th>95</th>\n",
       "      <td>0.658</td>\n",
       "      <td>0.282</td>\n",
       "      <td>2</td>\n",
       "      <td>-8.282</td>\n",
       "      <td>0</td>\n",
       "      <td>0.0353</td>\n",
       "      <td>0.43300</td>\n",
       "      <td>0.000000</td>\n",
       "      <td>0.0741</td>\n",
       "      <td>0.390</td>\n",
       "      <td>119.757</td>\n",
       "      <td>277724</td>\n",
       "      <td>3</td>\n",
       "      <td>Earned It (Fifty Shades Of Grey)</td>\n",
       "      <td>The Weeknd</td>\n",
       "      <td>75</td>\n",
       "    </tr>\n",
       "    <tr>\n",
       "      <th>96</th>\n",
       "      <td>0.610</td>\n",
       "      <td>0.682</td>\n",
       "      <td>7</td>\n",
       "      <td>-4.877</td>\n",
       "      <td>1</td>\n",
       "      <td>0.1230</td>\n",
       "      <td>0.31800</td>\n",
       "      <td>0.000000</td>\n",
       "      <td>0.3210</td>\n",
       "      <td>0.694</td>\n",
       "      <td>142.966</td>\n",
       "      <td>190075</td>\n",
       "      <td>4</td>\n",
       "      <td>HIGHJACK</td>\n",
       "      <td>A$AP Rocky</td>\n",
       "      <td>75</td>\n",
       "    </tr>\n",
       "    <tr>\n",
       "      <th>97</th>\n",
       "      <td>0.613</td>\n",
       "      <td>0.146</td>\n",
       "      <td>2</td>\n",
       "      <td>-11.211</td>\n",
       "      <td>1</td>\n",
       "      <td>0.0394</td>\n",
       "      <td>0.95400</td>\n",
       "      <td>0.000000</td>\n",
       "      <td>0.0857</td>\n",
       "      <td>0.413</td>\n",
       "      <td>117.075</td>\n",
       "      <td>210827</td>\n",
       "      <td>4</td>\n",
       "      <td>Dreamer</td>\n",
       "      <td>Laufey</td>\n",
       "      <td>57</td>\n",
       "    </tr>\n",
       "    <tr>\n",
       "      <th>98</th>\n",
       "      <td>0.851</td>\n",
       "      <td>0.652</td>\n",
       "      <td>8</td>\n",
       "      <td>-4.333</td>\n",
       "      <td>1</td>\n",
       "      <td>0.0367</td>\n",
       "      <td>0.03170</td>\n",
       "      <td>0.000000</td>\n",
       "      <td>0.0936</td>\n",
       "      <td>0.696</td>\n",
       "      <td>119.944</td>\n",
       "      <td>190782</td>\n",
       "      <td>4</td>\n",
       "      <td>Double Life - From \"Despicable Me 4\"</td>\n",
       "      <td>Pharrell Williams</td>\n",
       "      <td>82</td>\n",
       "    </tr>\n",
       "    <tr>\n",
       "      <th>99</th>\n",
       "      <td>0.752</td>\n",
       "      <td>0.684</td>\n",
       "      <td>1</td>\n",
       "      <td>-7.248</td>\n",
       "      <td>1</td>\n",
       "      <td>0.1200</td>\n",
       "      <td>0.02790</td>\n",
       "      <td>0.009950</td>\n",
       "      <td>0.1230</td>\n",
       "      <td>0.539</td>\n",
       "      <td>95.023</td>\n",
       "      <td>189680</td>\n",
       "      <td>4</td>\n",
       "      <td>Inwood Hill Park</td>\n",
       "      <td>6LACK</td>\n",
       "      <td>58</td>\n",
       "    </tr>\n",
       "  </tbody>\n",
       "</table>\n",
       "<p>100 rows × 16 columns</p>\n",
       "</div>"
      ],
      "text/plain": [
       "    danceability  energy  key  loudness  mode  speechiness  acousticness  \\\n",
       "0          0.671   0.543    7    -5.450     0       0.0357       0.37600   \n",
       "1          0.508   0.720   11    -5.908     0       0.0628       0.27200   \n",
       "2          0.765   0.796    9    -3.476     1       0.0356       0.03530   \n",
       "3          0.338   0.340    9   -12.049     0       0.0339       0.58000   \n",
       "4          0.665   0.655    2    -6.335     1       0.0535       0.00266   \n",
       "..           ...     ...  ...       ...   ...          ...           ...   \n",
       "95         0.658   0.282    2    -8.282     0       0.0353       0.43300   \n",
       "96         0.610   0.682    7    -4.877     1       0.1230       0.31800   \n",
       "97         0.613   0.146    2   -11.211     1       0.0394       0.95400   \n",
       "98         0.851   0.652    8    -4.333     1       0.0367       0.03170   \n",
       "99         0.752   0.684    1    -7.248     1       0.1200       0.02790   \n",
       "\n",
       "    instrumentalness  liveness  valence    tempo  duration_ms  time_signature  \\\n",
       "0           0.000209    0.1100    0.112  124.051       170453               4   \n",
       "1           0.000000    0.0563    0.472   79.983       261640               4   \n",
       "2           0.000000    0.6980    0.492  107.966       190903               4   \n",
       "3           0.003200    0.1160    0.197   82.433       482830               4   \n",
       "4           0.000000    0.2980    0.626  124.028       128512               4   \n",
       "..               ...       ...      ...      ...          ...             ...   \n",
       "95          0.000000    0.0741    0.390  119.757       277724               3   \n",
       "96          0.000000    0.3210    0.694  142.966       190075               4   \n",
       "97          0.000000    0.0857    0.413  117.075       210827               4   \n",
       "98          0.000000    0.0936    0.696  119.944       190782               4   \n",
       "99          0.009950    0.1230    0.539   95.023       189680               4   \n",
       "\n",
       "                              track_name        artist_name  track_pop  \n",
       "0                      DEEP IN THE WATER        Don Toliver         59  \n",
       "1                                   Halo            Beyoncé         72  \n",
       "2                                OBVIOUS              Fordo         61  \n",
       "3          Stairway to Heaven - Remaster       Led Zeppelin         77  \n",
       "4                                    ocd            ericdoa         43  \n",
       "..                                   ...                ...        ...  \n",
       "95      Earned It (Fifty Shades Of Grey)         The Weeknd         75  \n",
       "96                              HIGHJACK         A$AP Rocky         75  \n",
       "97                               Dreamer             Laufey         57  \n",
       "98  Double Life - From \"Despicable Me 4\"  Pharrell Williams         82  \n",
       "99                      Inwood Hill Park              6LACK         58  \n",
       "\n",
       "[100 rows x 16 columns]"
      ]
     },
     "execution_count": 114,
     "metadata": {},
     "output_type": "execute_result"
    }
   ],
   "source": [
    "\n",
    "song_df['track_name'] = playlist_dict['track_name']\n",
    "song_df['artist_name'] = playlist_dict['artist_name']\n",
    "song_df['track_pop'] = playlist_dict['track_pop']\n",
    "\n",
    "song_df.pop('type')\n",
    "song_df.pop(\"id\")\n",
    "song_df.pop(\"uri\")\n",
    "song_df.pop(\"analysis_url\")\n",
    "song_df.pop(\"track_href\")\n",
    "\n",
    "song_df\n"
   ]
  },
  {
   "cell_type": "markdown",
   "metadata": {},
   "source": [
    "## Part 2.5: Plotting (5 points)\n",
    "\n",
    "Using plotly, make two plots (in separate code cells):\n",
    "- of energy (x-axis) versus danceability (y-axis) that has the song title as hover data.\n",
    "- of acousticness (x-axis) versus loudness (y-axis) that has the song title as hover data.\n",
    "\n",
    "**Then**, in a markdown cell, discuss the relationships (if any) you see in these plots and whether those relationships make sense to you/what you would have expected to see."
   ]
  },
  {
   "cell_type": "code",
   "execution_count": 115,
   "metadata": {},
   "outputs": [],
   "source": [
    "import plotly.express as px"
   ]
  },
  {
   "cell_type": "code",
   "execution_count": 116,
   "metadata": {},
   "outputs": [
    {
     "name": "stdout",
     "output_type": "stream",
     "text": [
      "Columns in song_df: ['danceability', 'energy', 'key', 'loudness', 'mode', 'speechiness', 'acousticness', 'instrumentalness', 'liveness', 'valence', 'tempo', 'duration_ms', 'time_signature', 'track_name', 'artist_name', 'track_pop']\n"
     ]
    },
    {
     "data": {
      "application/vnd.plotly.v1+json": {
       "config": {
        "plotlyServerURL": "https://plot.ly"
       },
       "data": [
        {
         "customdata": [
          [
           "DEEP IN THE WATER",
           "Don Toliver"
          ],
          [
           "Halo",
           "Beyoncé"
          ],
          [
           "OBVIOUS",
           "Fordo"
          ],
          [
           "Stairway to Heaven - Remaster",
           "Led Zeppelin"
          ],
          [
           "ocd",
           "ericdoa"
          ],
          [
           "Meet Me Halfway",
           "Black Eyed Peas"
          ],
          [
           "Godlight",
           "Noah Kahan"
          ],
          [
           "It Has To Be This Way - Platinum Mix",
           "Jimmy Gnecco"
          ],
          [
           "No Rap Cap",
           "Glockboybobo"
          ],
          [
           "28",
           "Zach Bryan"
          ],
          [
           "Riptide",
           "Vance Joy"
          ],
          [
           "No Blueberries",
           "DPR IAN"
          ],
          [
           "jeans",
           "2hollis"
          ],
          [
           "Say",
           "keshi"
          ],
          [
           "Famous",
           "Kanye West"
          ],
          [
           "Long Distance",
           "The Districts"
          ],
          [
           "Summertime Sadness",
           "Lana Del Rey"
          ],
          [
           "buttons!",
           "Knock2"
          ],
          [
           "Cool With You",
           "NewJeans"
          ],
          [
           "Achilles Come Down",
           "Gang of Youths"
          ],
          [
           "Die With A Smile",
           "Lady Gaga"
          ],
          [
           "we're all eating each other",
           "Juliet Ivy"
          ],
          [
           "Pyramids",
           "Frank Ocean"
          ],
          [
           "No Such Thing as a Broken Heart",
           "Old Dominion"
          ],
          [
           "places to be",
           "Fred again.."
          ],
          [
           "Take Me Out",
           "Franz Ferdinand"
          ],
          [
           "So It Goes",
           "Mac Miller"
          ],
          [
           "All Too Well (10 Minute Version) (Taylor's Version) (From The Vault)",
           "Taylor Swift"
          ],
          [
           "Hypotheticals",
           "Lake Street Dive"
          ],
          [
           "探窗",
           "浮生梦"
          ],
          [
           "Mr. Brightside",
           "The Killers"
          ],
          [
           "Glue Song",
           "beabadoobee"
          ],
          [
           "Ain't No Rest for the Wicked",
           "Cage The Elephant"
          ],
          [
           "Plastic Promises",
           "Set It Off"
          ],
          [
           "LEGO",
           "Eldzhey"
          ],
          [
           "Sometimes",
           "Rich Brian"
          ],
          [
           "Legends Never Die",
           "League of Legends"
          ],
          [
           "Starboy",
           "The Weeknd"
          ],
          [
           "Daydreamer",
           "AURORA"
          ],
          [
           "Vienna",
           "Billy Joel"
          ],
          [
           "Lover, You Should've Come Over",
           "Jeff Buckley"
          ],
          [
           "Life In The City",
           "The Lumineers"
          ],
          [
           "Another Medium",
           "Toby Fox"
          ],
          [
           "Shine On You Crazy Diamond (Pts. 1-5)",
           "Pink Floyd"
          ],
          [
           "Double Life - From \"Despicable Me 4\"",
           "Pharrell Williams"
          ],
          [
           "cardigan",
           "Taylor Swift"
          ],
          [
           "Deep Satin",
           "Zach Bryan"
          ],
          [
           "Il Volo",
           "Zucchero"
          ],
          [
           "Flowers In Your Hair",
           "The Lumineers"
          ],
          [
           "LALALI",
           "SEVENTEEN"
          ],
          [
           "Rock Your Body",
           "Justin Timberlake"
          ],
          [
           "Kabhi Kabhi Aditi",
           "Rashid Ali"
          ],
          [
           "Moment",
           "Levity"
          ],
          [
           "Bye Bye Bye - From Deadpool and Wolverine Soundtrack",
           "*NSYNC"
          ],
          [
           "Too Many Nights (feat. Don Toliver & with Future)",
           "Metro Boomin"
          ],
          [
           "Lemonade",
           "Jeremy Passion"
          ],
          [
           "Try To Remember (Ming Ji)",
           "Star Workshop Orchestra"
          ],
          [
           "Jolene",
           "Ray LaMontagne"
          ],
          [
           "Got My Mind Set on You",
           "George Harrison"
          ],
          [
           "Monkeys Spinning Monkeys",
           "Kevin MacLeod"
          ],
          [
           "Roadrunner",
           "The Modern Lovers"
          ],
          [
           "goosebumps",
           "Travis Scott"
          ],
          [
           "Dancing Queen",
           "ABBA"
          ],
          [
           "Boulevard of Broken Dreams",
           "Leslie Cheung"
          ],
          [
           "Hungersite",
           "Goose"
          ],
          [
           "Sparks",
           "Coldplay"
          ],
          [
           "Forever's Not Enough",
           "Sarah Geronimo"
          ],
          [
           "The Game of Love (feat. Michelle Branch) - Main / Radio Mix",
           "Santana"
          ],
          [
           "Fighting (Feat. Lee Young Ji)",
           "BSS"
          ],
          [
           "No Line On The Horizon",
           "U2"
          ],
          [
           "I Want To Know - Pt. 2",
           "Adriano Celentano"
          ],
          [
           "III. Telegraph Ave. (\"Oakland\" by Lloyd)",
           "Childish Gambino"
          ],
          [
           "Diddy Bop",
           "Noname"
          ],
          [
           "ETA",
           "NewJeans"
          ],
          [
           "Let Down",
           "Radiohead"
          ],
          [
           "Players",
           "Coi Leray"
          ],
          [
           "THAT'S THAT",
           "MF DOOM"
          ],
          [
           "Nanã",
           "Polo & Pan"
          ],
          [
           "BABY I'M BACK",
           "The Kid LAROI"
          ],
          [
           "summer",
           "keshi"
          ],
          [
           "晴る",
           "ヨルシカ"
          ],
          [
           "The Nights",
           "Avicii"
          ],
          [
           "Beaches",
           "beabadoobee"
          ],
          [
           "If I Sit Still, Maybe I'll Get Out of Here",
           "TTNG"
          ],
          [
           "ミッドナイト・ランデブー",
           "CASIOPEA"
          ],
          [
           "Under Control",
           "The Strokes"
          ],
          [
           "Congratulations (feat. Bilal)",
           "Mac Miller"
          ],
          [
           "Take Me To The Sun",
           "d4vd"
          ],
          [
           "Follow Me",
           "Pat Metheny Group"
          ],
          [
           "King For A Day",
           "Pierce The Veil"
          ],
          [
           "The Story Unfolds",
           "Wildstylez"
          ],
          [
           "第六感",
           "Reol"
          ],
          [
           "I Like U",
           "NIKI"
          ],
          [
           "I'm Still Standing",
           "Elton John"
          ],
          [
           "Roses",
           "Kanye West"
          ],
          [
           "Earned It (Fifty Shades Of Grey)",
           "The Weeknd"
          ],
          [
           "HIGHJACK",
           "A$AP Rocky"
          ],
          [
           "Dreamer",
           "Laufey"
          ],
          [
           "Double Life - From \"Despicable Me 4\"",
           "Pharrell Williams"
          ],
          [
           "Inwood Hill Park",
           "6LACK"
          ]
         ],
         "hovertemplate": "Energy=%{x}<br>Danceability=%{y}<br>track_name=%{customdata[0]}<br>artist_name=%{customdata[1]}<extra></extra>",
         "legendgroup": "",
         "marker": {
          "color": "#636efa",
          "symbol": "circle"
         },
         "mode": "markers",
         "name": "",
         "orientation": "v",
         "showlegend": false,
         "type": "scatter",
         "x": [
          0.543,
          0.72,
          0.796,
          0.34,
          0.655,
          0.629,
          0.709,
          0.975,
          0.816,
          0.519,
          0.731,
          0.617,
          0.906,
          0.678,
          0.735,
          0.421,
          0.654,
          0.953,
          0.65,
          0.523,
          0.592,
          0.639,
          0.65,
          0.782,
          0.878,
          0.663,
          0.556,
          0.518,
          0.664,
          0.399,
          0.911,
          0.409,
          0.849,
          0.948,
          0.829,
          0.804,
          0.598,
          0.587,
          0.56,
          0.495,
          0.595,
          0.57,
          0.734,
          0.294,
          0.652,
          0.581,
          0.697,
          0.356,
          0.609,
          0.836,
          0.714,
          0.558,
          0.787,
          0.926,
          0.668,
          0.221,
          0.188,
          0.142,
          0.85,
          0.212,
          0.84,
          0.728,
          0.87,
          0.453,
          0.669,
          0.268,
          0.328,
          0.929,
          0.86,
          0.717,
          0.685,
          0.694,
          0.503,
          0.749,
          0.676,
          0.512,
          0.728,
          0.735,
          0.743,
          0.453,
          0.571,
          0.835,
          0.812,
          0.673,
          0.7,
          0.72,
          0.225,
          0.734,
          0.696,
          0.965,
          0.76,
          0.959,
          0.527,
          0.904,
          0.465,
          0.282,
          0.682,
          0.146,
          0.652,
          0.684
         ],
         "xaxis": "x",
         "y": [
          0.671,
          0.508,
          0.765,
          0.338,
          0.665,
          0.798,
          0.375,
          0.435,
          0.788,
          0.492,
          0.484,
          0.721,
          0.634,
          0.666,
          0.465,
          0.476,
          0.565,
          0.731,
          0.752,
          0.223,
          0.521,
          0.777,
          0.4,
          0.651,
          0.548,
          0.277,
          0.576,
          0.631,
          0.69,
          0.581,
          0.352,
          0.62,
          0.636,
          0.214,
          0.781,
          0.623,
          0.498,
          0.679,
          0.604,
          0.532,
          0.387,
          0.743,
          0.592,
          0.264,
          0.851,
          0.613,
          0.509,
          0.452,
          0.67,
          0.841,
          0.892,
          0.791,
          0.821,
          0.61,
          0.573,
          0.548,
          0.488,
          0.588,
          0.759,
          0.932,
          0.462,
          0.841,
          0.543,
          0.367,
          0.421,
          0.371,
          0.496,
          0.59,
          0.707,
          0.452,
          0.784,
          0.489,
          0.637,
          0.812,
          0.351,
          0.948,
          0.499,
          0.685,
          0.417,
          0.717,
          0.695,
          0.527,
          0.417,
          0.512,
          0.599,
          0.406,
          0.465,
          0.446,
          0.541,
          0.403,
          0.688,
          0.675,
          0.479,
          0.505,
          0.723,
          0.658,
          0.61,
          0.613,
          0.851,
          0.752
         ],
         "yaxis": "y"
        }
       ],
       "layout": {
        "legend": {
         "tracegroupgap": 0
        },
        "template": {
         "data": {
          "bar": [
           {
            "error_x": {
             "color": "#2a3f5f"
            },
            "error_y": {
             "color": "#2a3f5f"
            },
            "marker": {
             "line": {
              "color": "#E5ECF6",
              "width": 0.5
             },
             "pattern": {
              "fillmode": "overlay",
              "size": 10,
              "solidity": 0.2
             }
            },
            "type": "bar"
           }
          ],
          "barpolar": [
           {
            "marker": {
             "line": {
              "color": "#E5ECF6",
              "width": 0.5
             },
             "pattern": {
              "fillmode": "overlay",
              "size": 10,
              "solidity": 0.2
             }
            },
            "type": "barpolar"
           }
          ],
          "carpet": [
           {
            "aaxis": {
             "endlinecolor": "#2a3f5f",
             "gridcolor": "white",
             "linecolor": "white",
             "minorgridcolor": "white",
             "startlinecolor": "#2a3f5f"
            },
            "baxis": {
             "endlinecolor": "#2a3f5f",
             "gridcolor": "white",
             "linecolor": "white",
             "minorgridcolor": "white",
             "startlinecolor": "#2a3f5f"
            },
            "type": "carpet"
           }
          ],
          "choropleth": [
           {
            "colorbar": {
             "outlinewidth": 0,
             "ticks": ""
            },
            "type": "choropleth"
           }
          ],
          "contour": [
           {
            "colorbar": {
             "outlinewidth": 0,
             "ticks": ""
            },
            "colorscale": [
             [
              0,
              "#0d0887"
             ],
             [
              0.1111111111111111,
              "#46039f"
             ],
             [
              0.2222222222222222,
              "#7201a8"
             ],
             [
              0.3333333333333333,
              "#9c179e"
             ],
             [
              0.4444444444444444,
              "#bd3786"
             ],
             [
              0.5555555555555556,
              "#d8576b"
             ],
             [
              0.6666666666666666,
              "#ed7953"
             ],
             [
              0.7777777777777778,
              "#fb9f3a"
             ],
             [
              0.8888888888888888,
              "#fdca26"
             ],
             [
              1,
              "#f0f921"
             ]
            ],
            "type": "contour"
           }
          ],
          "contourcarpet": [
           {
            "colorbar": {
             "outlinewidth": 0,
             "ticks": ""
            },
            "type": "contourcarpet"
           }
          ],
          "heatmap": [
           {
            "colorbar": {
             "outlinewidth": 0,
             "ticks": ""
            },
            "colorscale": [
             [
              0,
              "#0d0887"
             ],
             [
              0.1111111111111111,
              "#46039f"
             ],
             [
              0.2222222222222222,
              "#7201a8"
             ],
             [
              0.3333333333333333,
              "#9c179e"
             ],
             [
              0.4444444444444444,
              "#bd3786"
             ],
             [
              0.5555555555555556,
              "#d8576b"
             ],
             [
              0.6666666666666666,
              "#ed7953"
             ],
             [
              0.7777777777777778,
              "#fb9f3a"
             ],
             [
              0.8888888888888888,
              "#fdca26"
             ],
             [
              1,
              "#f0f921"
             ]
            ],
            "type": "heatmap"
           }
          ],
          "heatmapgl": [
           {
            "colorbar": {
             "outlinewidth": 0,
             "ticks": ""
            },
            "colorscale": [
             [
              0,
              "#0d0887"
             ],
             [
              0.1111111111111111,
              "#46039f"
             ],
             [
              0.2222222222222222,
              "#7201a8"
             ],
             [
              0.3333333333333333,
              "#9c179e"
             ],
             [
              0.4444444444444444,
              "#bd3786"
             ],
             [
              0.5555555555555556,
              "#d8576b"
             ],
             [
              0.6666666666666666,
              "#ed7953"
             ],
             [
              0.7777777777777778,
              "#fb9f3a"
             ],
             [
              0.8888888888888888,
              "#fdca26"
             ],
             [
              1,
              "#f0f921"
             ]
            ],
            "type": "heatmapgl"
           }
          ],
          "histogram": [
           {
            "marker": {
             "pattern": {
              "fillmode": "overlay",
              "size": 10,
              "solidity": 0.2
             }
            },
            "type": "histogram"
           }
          ],
          "histogram2d": [
           {
            "colorbar": {
             "outlinewidth": 0,
             "ticks": ""
            },
            "colorscale": [
             [
              0,
              "#0d0887"
             ],
             [
              0.1111111111111111,
              "#46039f"
             ],
             [
              0.2222222222222222,
              "#7201a8"
             ],
             [
              0.3333333333333333,
              "#9c179e"
             ],
             [
              0.4444444444444444,
              "#bd3786"
             ],
             [
              0.5555555555555556,
              "#d8576b"
             ],
             [
              0.6666666666666666,
              "#ed7953"
             ],
             [
              0.7777777777777778,
              "#fb9f3a"
             ],
             [
              0.8888888888888888,
              "#fdca26"
             ],
             [
              1,
              "#f0f921"
             ]
            ],
            "type": "histogram2d"
           }
          ],
          "histogram2dcontour": [
           {
            "colorbar": {
             "outlinewidth": 0,
             "ticks": ""
            },
            "colorscale": [
             [
              0,
              "#0d0887"
             ],
             [
              0.1111111111111111,
              "#46039f"
             ],
             [
              0.2222222222222222,
              "#7201a8"
             ],
             [
              0.3333333333333333,
              "#9c179e"
             ],
             [
              0.4444444444444444,
              "#bd3786"
             ],
             [
              0.5555555555555556,
              "#d8576b"
             ],
             [
              0.6666666666666666,
              "#ed7953"
             ],
             [
              0.7777777777777778,
              "#fb9f3a"
             ],
             [
              0.8888888888888888,
              "#fdca26"
             ],
             [
              1,
              "#f0f921"
             ]
            ],
            "type": "histogram2dcontour"
           }
          ],
          "mesh3d": [
           {
            "colorbar": {
             "outlinewidth": 0,
             "ticks": ""
            },
            "type": "mesh3d"
           }
          ],
          "parcoords": [
           {
            "line": {
             "colorbar": {
              "outlinewidth": 0,
              "ticks": ""
             }
            },
            "type": "parcoords"
           }
          ],
          "pie": [
           {
            "automargin": true,
            "type": "pie"
           }
          ],
          "scatter": [
           {
            "fillpattern": {
             "fillmode": "overlay",
             "size": 10,
             "solidity": 0.2
            },
            "type": "scatter"
           }
          ],
          "scatter3d": [
           {
            "line": {
             "colorbar": {
              "outlinewidth": 0,
              "ticks": ""
             }
            },
            "marker": {
             "colorbar": {
              "outlinewidth": 0,
              "ticks": ""
             }
            },
            "type": "scatter3d"
           }
          ],
          "scattercarpet": [
           {
            "marker": {
             "colorbar": {
              "outlinewidth": 0,
              "ticks": ""
             }
            },
            "type": "scattercarpet"
           }
          ],
          "scattergeo": [
           {
            "marker": {
             "colorbar": {
              "outlinewidth": 0,
              "ticks": ""
             }
            },
            "type": "scattergeo"
           }
          ],
          "scattergl": [
           {
            "marker": {
             "colorbar": {
              "outlinewidth": 0,
              "ticks": ""
             }
            },
            "type": "scattergl"
           }
          ],
          "scattermapbox": [
           {
            "marker": {
             "colorbar": {
              "outlinewidth": 0,
              "ticks": ""
             }
            },
            "type": "scattermapbox"
           }
          ],
          "scatterpolar": [
           {
            "marker": {
             "colorbar": {
              "outlinewidth": 0,
              "ticks": ""
             }
            },
            "type": "scatterpolar"
           }
          ],
          "scatterpolargl": [
           {
            "marker": {
             "colorbar": {
              "outlinewidth": 0,
              "ticks": ""
             }
            },
            "type": "scatterpolargl"
           }
          ],
          "scatterternary": [
           {
            "marker": {
             "colorbar": {
              "outlinewidth": 0,
              "ticks": ""
             }
            },
            "type": "scatterternary"
           }
          ],
          "surface": [
           {
            "colorbar": {
             "outlinewidth": 0,
             "ticks": ""
            },
            "colorscale": [
             [
              0,
              "#0d0887"
             ],
             [
              0.1111111111111111,
              "#46039f"
             ],
             [
              0.2222222222222222,
              "#7201a8"
             ],
             [
              0.3333333333333333,
              "#9c179e"
             ],
             [
              0.4444444444444444,
              "#bd3786"
             ],
             [
              0.5555555555555556,
              "#d8576b"
             ],
             [
              0.6666666666666666,
              "#ed7953"
             ],
             [
              0.7777777777777778,
              "#fb9f3a"
             ],
             [
              0.8888888888888888,
              "#fdca26"
             ],
             [
              1,
              "#f0f921"
             ]
            ],
            "type": "surface"
           }
          ],
          "table": [
           {
            "cells": {
             "fill": {
              "color": "#EBF0F8"
             },
             "line": {
              "color": "white"
             }
            },
            "header": {
             "fill": {
              "color": "#C8D4E3"
             },
             "line": {
              "color": "white"
             }
            },
            "type": "table"
           }
          ]
         },
         "layout": {
          "annotationdefaults": {
           "arrowcolor": "#2a3f5f",
           "arrowhead": 0,
           "arrowwidth": 1
          },
          "autotypenumbers": "strict",
          "coloraxis": {
           "colorbar": {
            "outlinewidth": 0,
            "ticks": ""
           }
          },
          "colorscale": {
           "diverging": [
            [
             0,
             "#8e0152"
            ],
            [
             0.1,
             "#c51b7d"
            ],
            [
             0.2,
             "#de77ae"
            ],
            [
             0.3,
             "#f1b6da"
            ],
            [
             0.4,
             "#fde0ef"
            ],
            [
             0.5,
             "#f7f7f7"
            ],
            [
             0.6,
             "#e6f5d0"
            ],
            [
             0.7,
             "#b8e186"
            ],
            [
             0.8,
             "#7fbc41"
            ],
            [
             0.9,
             "#4d9221"
            ],
            [
             1,
             "#276419"
            ]
           ],
           "sequential": [
            [
             0,
             "#0d0887"
            ],
            [
             0.1111111111111111,
             "#46039f"
            ],
            [
             0.2222222222222222,
             "#7201a8"
            ],
            [
             0.3333333333333333,
             "#9c179e"
            ],
            [
             0.4444444444444444,
             "#bd3786"
            ],
            [
             0.5555555555555556,
             "#d8576b"
            ],
            [
             0.6666666666666666,
             "#ed7953"
            ],
            [
             0.7777777777777778,
             "#fb9f3a"
            ],
            [
             0.8888888888888888,
             "#fdca26"
            ],
            [
             1,
             "#f0f921"
            ]
           ],
           "sequentialminus": [
            [
             0,
             "#0d0887"
            ],
            [
             0.1111111111111111,
             "#46039f"
            ],
            [
             0.2222222222222222,
             "#7201a8"
            ],
            [
             0.3333333333333333,
             "#9c179e"
            ],
            [
             0.4444444444444444,
             "#bd3786"
            ],
            [
             0.5555555555555556,
             "#d8576b"
            ],
            [
             0.6666666666666666,
             "#ed7953"
            ],
            [
             0.7777777777777778,
             "#fb9f3a"
            ],
            [
             0.8888888888888888,
             "#fdca26"
            ],
            [
             1,
             "#f0f921"
            ]
           ]
          },
          "colorway": [
           "#636efa",
           "#EF553B",
           "#00cc96",
           "#ab63fa",
           "#FFA15A",
           "#19d3f3",
           "#FF6692",
           "#B6E880",
           "#FF97FF",
           "#FECB52"
          ],
          "font": {
           "color": "#2a3f5f"
          },
          "geo": {
           "bgcolor": "white",
           "lakecolor": "white",
           "landcolor": "#E5ECF6",
           "showlakes": true,
           "showland": true,
           "subunitcolor": "white"
          },
          "hoverlabel": {
           "align": "left"
          },
          "hovermode": "closest",
          "mapbox": {
           "style": "light"
          },
          "paper_bgcolor": "white",
          "plot_bgcolor": "#E5ECF6",
          "polar": {
           "angularaxis": {
            "gridcolor": "white",
            "linecolor": "white",
            "ticks": ""
           },
           "bgcolor": "#E5ECF6",
           "radialaxis": {
            "gridcolor": "white",
            "linecolor": "white",
            "ticks": ""
           }
          },
          "scene": {
           "xaxis": {
            "backgroundcolor": "#E5ECF6",
            "gridcolor": "white",
            "gridwidth": 2,
            "linecolor": "white",
            "showbackground": true,
            "ticks": "",
            "zerolinecolor": "white"
           },
           "yaxis": {
            "backgroundcolor": "#E5ECF6",
            "gridcolor": "white",
            "gridwidth": 2,
            "linecolor": "white",
            "showbackground": true,
            "ticks": "",
            "zerolinecolor": "white"
           },
           "zaxis": {
            "backgroundcolor": "#E5ECF6",
            "gridcolor": "white",
            "gridwidth": 2,
            "linecolor": "white",
            "showbackground": true,
            "ticks": "",
            "zerolinecolor": "white"
           }
          },
          "shapedefaults": {
           "line": {
            "color": "#2a3f5f"
           }
          },
          "ternary": {
           "aaxis": {
            "gridcolor": "white",
            "linecolor": "white",
            "ticks": ""
           },
           "baxis": {
            "gridcolor": "white",
            "linecolor": "white",
            "ticks": ""
           },
           "bgcolor": "#E5ECF6",
           "caxis": {
            "gridcolor": "white",
            "linecolor": "white",
            "ticks": ""
           }
          },
          "title": {
           "x": 0.05
          },
          "xaxis": {
           "automargin": true,
           "gridcolor": "white",
           "linecolor": "white",
           "ticks": "",
           "title": {
            "standoff": 15
           },
           "zerolinecolor": "white",
           "zerolinewidth": 2
          },
          "yaxis": {
           "automargin": true,
           "gridcolor": "white",
           "linecolor": "white",
           "ticks": "",
           "title": {
            "standoff": 15
           },
           "zerolinecolor": "white",
           "zerolinewidth": 2
          }
         }
        },
        "title": {
         "text": "Energy | Danceability"
        },
        "xaxis": {
         "anchor": "y",
         "domain": [
          0,
          1
         ],
         "title": {
          "text": "Energy"
         }
        },
        "yaxis": {
         "anchor": "x",
         "domain": [
          0,
          1
         ],
         "title": {
          "text": "Danceability"
         }
        }
       }
      }
     },
     "metadata": {},
     "output_type": "display_data"
    }
   ],
   "source": [
    "print(\"Columns in song_df:\", song_df.columns.tolist())\n",
    "\n",
    "energy_dance = px.scatter(\n",
    "    song_df,\n",
    "    x='energy',\n",
    "    y='danceability',\n",
    "    hover_data=['track_name', 'artist_name'],\n",
    "    title='Energy | Danceability',\n",
    "    labels={\n",
    "        'energy': 'Energy',\n",
    "        'danceability': 'Danceability'\n",
    "    }\n",
    ")\n",
    "\n",
    "energy_dance"
   ]
  },
  {
   "cell_type": "code",
   "execution_count": 117,
   "metadata": {},
   "outputs": [
    {
     "data": {
      "application/vnd.plotly.v1+json": {
       "config": {
        "plotlyServerURL": "https://plot.ly"
       },
       "data": [
        {
         "customdata": [
          [
           "DEEP IN THE WATER",
           "Don Toliver"
          ],
          [
           "Halo",
           "Beyoncé"
          ],
          [
           "OBVIOUS",
           "Fordo"
          ],
          [
           "Stairway to Heaven - Remaster",
           "Led Zeppelin"
          ],
          [
           "ocd",
           "ericdoa"
          ],
          [
           "Meet Me Halfway",
           "Black Eyed Peas"
          ],
          [
           "Godlight",
           "Noah Kahan"
          ],
          [
           "It Has To Be This Way - Platinum Mix",
           "Jimmy Gnecco"
          ],
          [
           "No Rap Cap",
           "Glockboybobo"
          ],
          [
           "28",
           "Zach Bryan"
          ],
          [
           "Riptide",
           "Vance Joy"
          ],
          [
           "No Blueberries",
           "DPR IAN"
          ],
          [
           "jeans",
           "2hollis"
          ],
          [
           "Say",
           "keshi"
          ],
          [
           "Famous",
           "Kanye West"
          ],
          [
           "Long Distance",
           "The Districts"
          ],
          [
           "Summertime Sadness",
           "Lana Del Rey"
          ],
          [
           "buttons!",
           "Knock2"
          ],
          [
           "Cool With You",
           "NewJeans"
          ],
          [
           "Achilles Come Down",
           "Gang of Youths"
          ],
          [
           "Die With A Smile",
           "Lady Gaga"
          ],
          [
           "we're all eating each other",
           "Juliet Ivy"
          ],
          [
           "Pyramids",
           "Frank Ocean"
          ],
          [
           "No Such Thing as a Broken Heart",
           "Old Dominion"
          ],
          [
           "places to be",
           "Fred again.."
          ],
          [
           "Take Me Out",
           "Franz Ferdinand"
          ],
          [
           "So It Goes",
           "Mac Miller"
          ],
          [
           "All Too Well (10 Minute Version) (Taylor's Version) (From The Vault)",
           "Taylor Swift"
          ],
          [
           "Hypotheticals",
           "Lake Street Dive"
          ],
          [
           "探窗",
           "浮生梦"
          ],
          [
           "Mr. Brightside",
           "The Killers"
          ],
          [
           "Glue Song",
           "beabadoobee"
          ],
          [
           "Ain't No Rest for the Wicked",
           "Cage The Elephant"
          ],
          [
           "Plastic Promises",
           "Set It Off"
          ],
          [
           "LEGO",
           "Eldzhey"
          ],
          [
           "Sometimes",
           "Rich Brian"
          ],
          [
           "Legends Never Die",
           "League of Legends"
          ],
          [
           "Starboy",
           "The Weeknd"
          ],
          [
           "Daydreamer",
           "AURORA"
          ],
          [
           "Vienna",
           "Billy Joel"
          ],
          [
           "Lover, You Should've Come Over",
           "Jeff Buckley"
          ],
          [
           "Life In The City",
           "The Lumineers"
          ],
          [
           "Another Medium",
           "Toby Fox"
          ],
          [
           "Shine On You Crazy Diamond (Pts. 1-5)",
           "Pink Floyd"
          ],
          [
           "Double Life - From \"Despicable Me 4\"",
           "Pharrell Williams"
          ],
          [
           "cardigan",
           "Taylor Swift"
          ],
          [
           "Deep Satin",
           "Zach Bryan"
          ],
          [
           "Il Volo",
           "Zucchero"
          ],
          [
           "Flowers In Your Hair",
           "The Lumineers"
          ],
          [
           "LALALI",
           "SEVENTEEN"
          ],
          [
           "Rock Your Body",
           "Justin Timberlake"
          ],
          [
           "Kabhi Kabhi Aditi",
           "Rashid Ali"
          ],
          [
           "Moment",
           "Levity"
          ],
          [
           "Bye Bye Bye - From Deadpool and Wolverine Soundtrack",
           "*NSYNC"
          ],
          [
           "Too Many Nights (feat. Don Toliver & with Future)",
           "Metro Boomin"
          ],
          [
           "Lemonade",
           "Jeremy Passion"
          ],
          [
           "Try To Remember (Ming Ji)",
           "Star Workshop Orchestra"
          ],
          [
           "Jolene",
           "Ray LaMontagne"
          ],
          [
           "Got My Mind Set on You",
           "George Harrison"
          ],
          [
           "Monkeys Spinning Monkeys",
           "Kevin MacLeod"
          ],
          [
           "Roadrunner",
           "The Modern Lovers"
          ],
          [
           "goosebumps",
           "Travis Scott"
          ],
          [
           "Dancing Queen",
           "ABBA"
          ],
          [
           "Boulevard of Broken Dreams",
           "Leslie Cheung"
          ],
          [
           "Hungersite",
           "Goose"
          ],
          [
           "Sparks",
           "Coldplay"
          ],
          [
           "Forever's Not Enough",
           "Sarah Geronimo"
          ],
          [
           "The Game of Love (feat. Michelle Branch) - Main / Radio Mix",
           "Santana"
          ],
          [
           "Fighting (Feat. Lee Young Ji)",
           "BSS"
          ],
          [
           "No Line On The Horizon",
           "U2"
          ],
          [
           "I Want To Know - Pt. 2",
           "Adriano Celentano"
          ],
          [
           "III. Telegraph Ave. (\"Oakland\" by Lloyd)",
           "Childish Gambino"
          ],
          [
           "Diddy Bop",
           "Noname"
          ],
          [
           "ETA",
           "NewJeans"
          ],
          [
           "Let Down",
           "Radiohead"
          ],
          [
           "Players",
           "Coi Leray"
          ],
          [
           "THAT'S THAT",
           "MF DOOM"
          ],
          [
           "Nanã",
           "Polo & Pan"
          ],
          [
           "BABY I'M BACK",
           "The Kid LAROI"
          ],
          [
           "summer",
           "keshi"
          ],
          [
           "晴る",
           "ヨルシカ"
          ],
          [
           "The Nights",
           "Avicii"
          ],
          [
           "Beaches",
           "beabadoobee"
          ],
          [
           "If I Sit Still, Maybe I'll Get Out of Here",
           "TTNG"
          ],
          [
           "ミッドナイト・ランデブー",
           "CASIOPEA"
          ],
          [
           "Under Control",
           "The Strokes"
          ],
          [
           "Congratulations (feat. Bilal)",
           "Mac Miller"
          ],
          [
           "Take Me To The Sun",
           "d4vd"
          ],
          [
           "Follow Me",
           "Pat Metheny Group"
          ],
          [
           "King For A Day",
           "Pierce The Veil"
          ],
          [
           "The Story Unfolds",
           "Wildstylez"
          ],
          [
           "第六感",
           "Reol"
          ],
          [
           "I Like U",
           "NIKI"
          ],
          [
           "I'm Still Standing",
           "Elton John"
          ],
          [
           "Roses",
           "Kanye West"
          ],
          [
           "Earned It (Fifty Shades Of Grey)",
           "The Weeknd"
          ],
          [
           "HIGHJACK",
           "A$AP Rocky"
          ],
          [
           "Dreamer",
           "Laufey"
          ],
          [
           "Double Life - From \"Despicable Me 4\"",
           "Pharrell Williams"
          ],
          [
           "Inwood Hill Park",
           "6LACK"
          ]
         ],
         "hovertemplate": "Acousticness=%{x}<br>Loudness=%{y}<br>track_name=%{customdata[0]}<br>artist_name=%{customdata[1]}<extra></extra>",
         "legendgroup": "",
         "marker": {
          "color": "#636efa",
          "symbol": "circle"
         },
         "mode": "markers",
         "name": "",
         "orientation": "v",
         "showlegend": false,
         "type": "scatter",
         "x": [
          0.376,
          0.272,
          0.0353,
          0.58,
          0.00266,
          0.00474,
          0.00506,
          0.000946,
          0.193,
          0.227,
          0.431,
          0.507,
          0.0103,
          0.424,
          0.0711,
          0.048,
          0.0542,
          0.0076,
          0.653,
          0.435,
          0.308,
          0.0117,
          0.0118,
          0.295,
          0.0253,
          0.000409,
          0.812,
          0.274,
          0.00753,
          0.59,
          0.00121,
          0.77,
          0.0438,
          0.00495,
          0.0713,
          0.199,
          0.00786,
          0.141,
          0.0398,
          0.659,
          0.361,
          0.506,
          0.0122,
          0.772,
          0.0317,
          0.537,
          0.12,
          0.0287,
          0.75,
          0.0426,
          0.201,
          0.276,
          0.0369,
          0.031,
          0.189,
          0.886,
          0.288,
          0.863,
          0.456,
          0.904,
          0.0000505,
          0.0847,
          0.358,
          0.746,
          0.243,
          0.748,
          0.734,
          0.0714,
          0.103,
          0.000333,
          0.2,
          0.156,
          0.713,
          0.108,
          0.000121,
          0.0269,
          0.235,
          0.191,
          0.0154,
          0.144,
          0.032,
          0.0166,
          0.0154,
          0.037,
          0.563,
          0.354,
          0.948,
          0.00000824,
          0.329,
          0.0000381,
          0.029,
          0.00893,
          0.0729,
          0.355,
          0.259,
          0.433,
          0.318,
          0.954,
          0.0317,
          0.0279
         ],
         "xaxis": "x",
         "y": [
          -5.45,
          -5.908,
          -3.476,
          -12.049,
          -6.335,
          -6.857,
          -6.34,
          -4.361,
          -7.841,
          -6.886,
          -6.694,
          -6.178,
          -4.762,
          -7.955,
          -3.715,
          -7.588,
          -6.826,
          -4.703,
          -6.683,
          -9.281,
          -7.777,
          -5.701,
          -6.104,
          -4.295,
          -5.154,
          -8.821,
          -6.474,
          -8.771,
          -6.488,
          -7.643,
          -5.23,
          -10.146,
          -7.075,
          -4.151,
          -4.41,
          -6.076,
          -6.638,
          -7.015,
          -8.617,
          -6.662,
          -5.67,
          -7.376,
          -12.388,
          -11.941,
          -4.333,
          -8.588,
          -4.425,
          -13.775,
          -10.088,
          -4.459,
          -6.055,
          -7.155,
          -5.09,
          -4.843,
          -4.356,
          -8.906,
          -22.122,
          -15.196,
          -7.156,
          -17.997,
          -6.667,
          -3.37,
          -6.514,
          -9.346,
          -7.534,
          -10.506,
          -8.643,
          -3.236,
          -2.935,
          -5.954,
          -5.22,
          -9.586,
          -6.927,
          -6.389,
          -9.017,
          -5.74,
          -4.922,
          -6.337,
          -5.094,
          -9.394,
          -6.249,
          -5.298,
          -3.979,
          -8.137,
          -8.191,
          -4.647,
          -12.637,
          -9.75,
          -6.985,
          -2.238,
          -9.177,
          -1.754,
          -7.1,
          -6.863,
          -6.454,
          -8.282,
          -4.877,
          -11.211,
          -4.333,
          -7.248
         ],
         "yaxis": "y"
        }
       ],
       "layout": {
        "legend": {
         "tracegroupgap": 0
        },
        "template": {
         "data": {
          "bar": [
           {
            "error_x": {
             "color": "#2a3f5f"
            },
            "error_y": {
             "color": "#2a3f5f"
            },
            "marker": {
             "line": {
              "color": "#E5ECF6",
              "width": 0.5
             },
             "pattern": {
              "fillmode": "overlay",
              "size": 10,
              "solidity": 0.2
             }
            },
            "type": "bar"
           }
          ],
          "barpolar": [
           {
            "marker": {
             "line": {
              "color": "#E5ECF6",
              "width": 0.5
             },
             "pattern": {
              "fillmode": "overlay",
              "size": 10,
              "solidity": 0.2
             }
            },
            "type": "barpolar"
           }
          ],
          "carpet": [
           {
            "aaxis": {
             "endlinecolor": "#2a3f5f",
             "gridcolor": "white",
             "linecolor": "white",
             "minorgridcolor": "white",
             "startlinecolor": "#2a3f5f"
            },
            "baxis": {
             "endlinecolor": "#2a3f5f",
             "gridcolor": "white",
             "linecolor": "white",
             "minorgridcolor": "white",
             "startlinecolor": "#2a3f5f"
            },
            "type": "carpet"
           }
          ],
          "choropleth": [
           {
            "colorbar": {
             "outlinewidth": 0,
             "ticks": ""
            },
            "type": "choropleth"
           }
          ],
          "contour": [
           {
            "colorbar": {
             "outlinewidth": 0,
             "ticks": ""
            },
            "colorscale": [
             [
              0,
              "#0d0887"
             ],
             [
              0.1111111111111111,
              "#46039f"
             ],
             [
              0.2222222222222222,
              "#7201a8"
             ],
             [
              0.3333333333333333,
              "#9c179e"
             ],
             [
              0.4444444444444444,
              "#bd3786"
             ],
             [
              0.5555555555555556,
              "#d8576b"
             ],
             [
              0.6666666666666666,
              "#ed7953"
             ],
             [
              0.7777777777777778,
              "#fb9f3a"
             ],
             [
              0.8888888888888888,
              "#fdca26"
             ],
             [
              1,
              "#f0f921"
             ]
            ],
            "type": "contour"
           }
          ],
          "contourcarpet": [
           {
            "colorbar": {
             "outlinewidth": 0,
             "ticks": ""
            },
            "type": "contourcarpet"
           }
          ],
          "heatmap": [
           {
            "colorbar": {
             "outlinewidth": 0,
             "ticks": ""
            },
            "colorscale": [
             [
              0,
              "#0d0887"
             ],
             [
              0.1111111111111111,
              "#46039f"
             ],
             [
              0.2222222222222222,
              "#7201a8"
             ],
             [
              0.3333333333333333,
              "#9c179e"
             ],
             [
              0.4444444444444444,
              "#bd3786"
             ],
             [
              0.5555555555555556,
              "#d8576b"
             ],
             [
              0.6666666666666666,
              "#ed7953"
             ],
             [
              0.7777777777777778,
              "#fb9f3a"
             ],
             [
              0.8888888888888888,
              "#fdca26"
             ],
             [
              1,
              "#f0f921"
             ]
            ],
            "type": "heatmap"
           }
          ],
          "heatmapgl": [
           {
            "colorbar": {
             "outlinewidth": 0,
             "ticks": ""
            },
            "colorscale": [
             [
              0,
              "#0d0887"
             ],
             [
              0.1111111111111111,
              "#46039f"
             ],
             [
              0.2222222222222222,
              "#7201a8"
             ],
             [
              0.3333333333333333,
              "#9c179e"
             ],
             [
              0.4444444444444444,
              "#bd3786"
             ],
             [
              0.5555555555555556,
              "#d8576b"
             ],
             [
              0.6666666666666666,
              "#ed7953"
             ],
             [
              0.7777777777777778,
              "#fb9f3a"
             ],
             [
              0.8888888888888888,
              "#fdca26"
             ],
             [
              1,
              "#f0f921"
             ]
            ],
            "type": "heatmapgl"
           }
          ],
          "histogram": [
           {
            "marker": {
             "pattern": {
              "fillmode": "overlay",
              "size": 10,
              "solidity": 0.2
             }
            },
            "type": "histogram"
           }
          ],
          "histogram2d": [
           {
            "colorbar": {
             "outlinewidth": 0,
             "ticks": ""
            },
            "colorscale": [
             [
              0,
              "#0d0887"
             ],
             [
              0.1111111111111111,
              "#46039f"
             ],
             [
              0.2222222222222222,
              "#7201a8"
             ],
             [
              0.3333333333333333,
              "#9c179e"
             ],
             [
              0.4444444444444444,
              "#bd3786"
             ],
             [
              0.5555555555555556,
              "#d8576b"
             ],
             [
              0.6666666666666666,
              "#ed7953"
             ],
             [
              0.7777777777777778,
              "#fb9f3a"
             ],
             [
              0.8888888888888888,
              "#fdca26"
             ],
             [
              1,
              "#f0f921"
             ]
            ],
            "type": "histogram2d"
           }
          ],
          "histogram2dcontour": [
           {
            "colorbar": {
             "outlinewidth": 0,
             "ticks": ""
            },
            "colorscale": [
             [
              0,
              "#0d0887"
             ],
             [
              0.1111111111111111,
              "#46039f"
             ],
             [
              0.2222222222222222,
              "#7201a8"
             ],
             [
              0.3333333333333333,
              "#9c179e"
             ],
             [
              0.4444444444444444,
              "#bd3786"
             ],
             [
              0.5555555555555556,
              "#d8576b"
             ],
             [
              0.6666666666666666,
              "#ed7953"
             ],
             [
              0.7777777777777778,
              "#fb9f3a"
             ],
             [
              0.8888888888888888,
              "#fdca26"
             ],
             [
              1,
              "#f0f921"
             ]
            ],
            "type": "histogram2dcontour"
           }
          ],
          "mesh3d": [
           {
            "colorbar": {
             "outlinewidth": 0,
             "ticks": ""
            },
            "type": "mesh3d"
           }
          ],
          "parcoords": [
           {
            "line": {
             "colorbar": {
              "outlinewidth": 0,
              "ticks": ""
             }
            },
            "type": "parcoords"
           }
          ],
          "pie": [
           {
            "automargin": true,
            "type": "pie"
           }
          ],
          "scatter": [
           {
            "fillpattern": {
             "fillmode": "overlay",
             "size": 10,
             "solidity": 0.2
            },
            "type": "scatter"
           }
          ],
          "scatter3d": [
           {
            "line": {
             "colorbar": {
              "outlinewidth": 0,
              "ticks": ""
             }
            },
            "marker": {
             "colorbar": {
              "outlinewidth": 0,
              "ticks": ""
             }
            },
            "type": "scatter3d"
           }
          ],
          "scattercarpet": [
           {
            "marker": {
             "colorbar": {
              "outlinewidth": 0,
              "ticks": ""
             }
            },
            "type": "scattercarpet"
           }
          ],
          "scattergeo": [
           {
            "marker": {
             "colorbar": {
              "outlinewidth": 0,
              "ticks": ""
             }
            },
            "type": "scattergeo"
           }
          ],
          "scattergl": [
           {
            "marker": {
             "colorbar": {
              "outlinewidth": 0,
              "ticks": ""
             }
            },
            "type": "scattergl"
           }
          ],
          "scattermapbox": [
           {
            "marker": {
             "colorbar": {
              "outlinewidth": 0,
              "ticks": ""
             }
            },
            "type": "scattermapbox"
           }
          ],
          "scatterpolar": [
           {
            "marker": {
             "colorbar": {
              "outlinewidth": 0,
              "ticks": ""
             }
            },
            "type": "scatterpolar"
           }
          ],
          "scatterpolargl": [
           {
            "marker": {
             "colorbar": {
              "outlinewidth": 0,
              "ticks": ""
             }
            },
            "type": "scatterpolargl"
           }
          ],
          "scatterternary": [
           {
            "marker": {
             "colorbar": {
              "outlinewidth": 0,
              "ticks": ""
             }
            },
            "type": "scatterternary"
           }
          ],
          "surface": [
           {
            "colorbar": {
             "outlinewidth": 0,
             "ticks": ""
            },
            "colorscale": [
             [
              0,
              "#0d0887"
             ],
             [
              0.1111111111111111,
              "#46039f"
             ],
             [
              0.2222222222222222,
              "#7201a8"
             ],
             [
              0.3333333333333333,
              "#9c179e"
             ],
             [
              0.4444444444444444,
              "#bd3786"
             ],
             [
              0.5555555555555556,
              "#d8576b"
             ],
             [
              0.6666666666666666,
              "#ed7953"
             ],
             [
              0.7777777777777778,
              "#fb9f3a"
             ],
             [
              0.8888888888888888,
              "#fdca26"
             ],
             [
              1,
              "#f0f921"
             ]
            ],
            "type": "surface"
           }
          ],
          "table": [
           {
            "cells": {
             "fill": {
              "color": "#EBF0F8"
             },
             "line": {
              "color": "white"
             }
            },
            "header": {
             "fill": {
              "color": "#C8D4E3"
             },
             "line": {
              "color": "white"
             }
            },
            "type": "table"
           }
          ]
         },
         "layout": {
          "annotationdefaults": {
           "arrowcolor": "#2a3f5f",
           "arrowhead": 0,
           "arrowwidth": 1
          },
          "autotypenumbers": "strict",
          "coloraxis": {
           "colorbar": {
            "outlinewidth": 0,
            "ticks": ""
           }
          },
          "colorscale": {
           "diverging": [
            [
             0,
             "#8e0152"
            ],
            [
             0.1,
             "#c51b7d"
            ],
            [
             0.2,
             "#de77ae"
            ],
            [
             0.3,
             "#f1b6da"
            ],
            [
             0.4,
             "#fde0ef"
            ],
            [
             0.5,
             "#f7f7f7"
            ],
            [
             0.6,
             "#e6f5d0"
            ],
            [
             0.7,
             "#b8e186"
            ],
            [
             0.8,
             "#7fbc41"
            ],
            [
             0.9,
             "#4d9221"
            ],
            [
             1,
             "#276419"
            ]
           ],
           "sequential": [
            [
             0,
             "#0d0887"
            ],
            [
             0.1111111111111111,
             "#46039f"
            ],
            [
             0.2222222222222222,
             "#7201a8"
            ],
            [
             0.3333333333333333,
             "#9c179e"
            ],
            [
             0.4444444444444444,
             "#bd3786"
            ],
            [
             0.5555555555555556,
             "#d8576b"
            ],
            [
             0.6666666666666666,
             "#ed7953"
            ],
            [
             0.7777777777777778,
             "#fb9f3a"
            ],
            [
             0.8888888888888888,
             "#fdca26"
            ],
            [
             1,
             "#f0f921"
            ]
           ],
           "sequentialminus": [
            [
             0,
             "#0d0887"
            ],
            [
             0.1111111111111111,
             "#46039f"
            ],
            [
             0.2222222222222222,
             "#7201a8"
            ],
            [
             0.3333333333333333,
             "#9c179e"
            ],
            [
             0.4444444444444444,
             "#bd3786"
            ],
            [
             0.5555555555555556,
             "#d8576b"
            ],
            [
             0.6666666666666666,
             "#ed7953"
            ],
            [
             0.7777777777777778,
             "#fb9f3a"
            ],
            [
             0.8888888888888888,
             "#fdca26"
            ],
            [
             1,
             "#f0f921"
            ]
           ]
          },
          "colorway": [
           "#636efa",
           "#EF553B",
           "#00cc96",
           "#ab63fa",
           "#FFA15A",
           "#19d3f3",
           "#FF6692",
           "#B6E880",
           "#FF97FF",
           "#FECB52"
          ],
          "font": {
           "color": "#2a3f5f"
          },
          "geo": {
           "bgcolor": "white",
           "lakecolor": "white",
           "landcolor": "#E5ECF6",
           "showlakes": true,
           "showland": true,
           "subunitcolor": "white"
          },
          "hoverlabel": {
           "align": "left"
          },
          "hovermode": "closest",
          "mapbox": {
           "style": "light"
          },
          "paper_bgcolor": "white",
          "plot_bgcolor": "#E5ECF6",
          "polar": {
           "angularaxis": {
            "gridcolor": "white",
            "linecolor": "white",
            "ticks": ""
           },
           "bgcolor": "#E5ECF6",
           "radialaxis": {
            "gridcolor": "white",
            "linecolor": "white",
            "ticks": ""
           }
          },
          "scene": {
           "xaxis": {
            "backgroundcolor": "#E5ECF6",
            "gridcolor": "white",
            "gridwidth": 2,
            "linecolor": "white",
            "showbackground": true,
            "ticks": "",
            "zerolinecolor": "white"
           },
           "yaxis": {
            "backgroundcolor": "#E5ECF6",
            "gridcolor": "white",
            "gridwidth": 2,
            "linecolor": "white",
            "showbackground": true,
            "ticks": "",
            "zerolinecolor": "white"
           },
           "zaxis": {
            "backgroundcolor": "#E5ECF6",
            "gridcolor": "white",
            "gridwidth": 2,
            "linecolor": "white",
            "showbackground": true,
            "ticks": "",
            "zerolinecolor": "white"
           }
          },
          "shapedefaults": {
           "line": {
            "color": "#2a3f5f"
           }
          },
          "ternary": {
           "aaxis": {
            "gridcolor": "white",
            "linecolor": "white",
            "ticks": ""
           },
           "baxis": {
            "gridcolor": "white",
            "linecolor": "white",
            "ticks": ""
           },
           "bgcolor": "#E5ECF6",
           "caxis": {
            "gridcolor": "white",
            "linecolor": "white",
            "ticks": ""
           }
          },
          "title": {
           "x": 0.05
          },
          "xaxis": {
           "automargin": true,
           "gridcolor": "white",
           "linecolor": "white",
           "ticks": "",
           "title": {
            "standoff": 15
           },
           "zerolinecolor": "white",
           "zerolinewidth": 2
          },
          "yaxis": {
           "automargin": true,
           "gridcolor": "white",
           "linecolor": "white",
           "ticks": "",
           "title": {
            "standoff": 15
           },
           "zerolinecolor": "white",
           "zerolinewidth": 2
          }
         }
        },
        "title": {
         "text": "Acousticness | Loudness"
        },
        "xaxis": {
         "anchor": "y",
         "domain": [
          0,
          1
         ],
         "title": {
          "text": "Acousticness"
         }
        },
        "yaxis": {
         "anchor": "x",
         "domain": [
          0,
          1
         ],
         "title": {
          "text": "Loudness"
         }
        }
       }
      }
     },
     "metadata": {},
     "output_type": "display_data"
    }
   ],
   "source": [
    "acoustic_loudness = px.scatter(\n",
    "    song_df,\n",
    "    x='acousticness',\n",
    "    y='loudness',\n",
    "    hover_data=['track_name', 'artist_name'],  \n",
    "    title='Acousticness | Loudness',\n",
    "    labels={\n",
    "        'acousticness': 'Acousticness',\n",
    "        'loudness': 'Loudness'\n",
    "    }\n",
    ")\n",
    "\n",
    "acoustic_loudness\n"
   ]
  },
  {
   "cell_type": "markdown",
   "metadata": {},
   "source": [
    "# Part 3: Web Scraping Fantasy Football\n",
    "\n",
    "## Part 3.1: Get a table (5 points)\n",
    "\n",
    "In Fantasy Football, real NFL players gain points for fans at home based on some scoring criteria (which differs based on the website, but in all cases more points is better). Use the `pd.read_html` function to pull in the table located at the following url from Week 1 of the current Yahoo Fantasy Football season: https://football.fantasysports.yahoo.com/f1/whoshot?pos=ALL&week=1"
   ]
  },
  {
   "cell_type": "code",
   "execution_count": 118,
   "metadata": {},
   "outputs": [
    {
     "name": "stderr",
     "output_type": "stream",
     "text": [
      "/var/folders/nv/_dmndl2x6t94h6p46lbwrl180000gn/T/ipykernel_33373/703208665.py:10: FutureWarning:\n",
      "\n",
      "Passing literal html to 'read_html' is deprecated and will be removed in a future version. To read from a literal string, wrap it in a 'StringIO' object.\n",
      "\n"
     ]
    },
    {
     "data": {
      "text/html": [
       "<div>\n",
       "<style scoped>\n",
       "    .dataframe tbody tr th:only-of-type {\n",
       "        vertical-align: middle;\n",
       "    }\n",
       "\n",
       "    .dataframe tbody tr th {\n",
       "        vertical-align: top;\n",
       "    }\n",
       "\n",
       "    .dataframe thead th {\n",
       "        text-align: right;\n",
       "    }\n",
       "</style>\n",
       "<table border=\"1\" class=\"dataframe\">\n",
       "  <thead>\n",
       "    <tr style=\"text-align: right;\">\n",
       "      <th></th>\n",
       "      <th>Name</th>\n",
       "      <th>Stats</th>\n",
       "      <th>Fan Pts</th>\n",
       "    </tr>\n",
       "  </thead>\n",
       "  <tbody>\n",
       "    <tr>\n",
       "      <th>0</th>\n",
       "      <td>Saquon BarkleyPhi - RB Final W 34-29 vs GB  Pl...</td>\n",
       "      <td>109 Rush Yds, 2 Rush TD, 2 Rec</td>\n",
       "      <td>32.20</td>\n",
       "    </tr>\n",
       "    <tr>\n",
       "      <th>1</th>\n",
       "      <td>Josh AllenBuf - QB Final W 34-28 vs Ari  Playe...</td>\n",
       "      <td>232 Pass Yds, 2 Pass TD, 39 Rush Yds</td>\n",
       "      <td>31.18</td>\n",
       "    </tr>\n",
       "    <tr>\n",
       "      <th>2</th>\n",
       "      <td>Jayden ReedGB - WR Final L 29-34 @ Phi  Player...</td>\n",
       "      <td>33 Rush Yds, 1 Rush TD, 4 Rec</td>\n",
       "      <td>31.10</td>\n",
       "    </tr>\n",
       "    <tr>\n",
       "      <th>3</th>\n",
       "      <td>Baker MayfieldTB - QB Final W 37-20 vs Was  Vi...</td>\n",
       "      <td>289 Pass Yds, 4 Pass TD, 21 Rush Yds</td>\n",
       "      <td>29.66</td>\n",
       "    </tr>\n",
       "    <tr>\n",
       "      <th>4</th>\n",
       "      <td>Jayden DanielsWas - QB Final L 20-37 @ TB  Pla...</td>\n",
       "      <td>184 Pass Yds, 88 Rush Yds, 2 Rush TD</td>\n",
       "      <td>28.16</td>\n",
       "    </tr>\n",
       "    <tr>\n",
       "      <th>5</th>\n",
       "      <td>Anthony RichardsonInd - QB Final L 27-29 vs Ho...</td>\n",
       "      <td>212 Pass Yds, 2 Pass TD, 1 Int</td>\n",
       "      <td>27.08</td>\n",
       "    </tr>\n",
       "    <tr>\n",
       "      <th>6</th>\n",
       "      <td>Chris BoswellPit - K Final W 18-10 @ Atl  Play...</td>\n",
       "      <td>1 FG 20-29, 2 FG 40-49, 3 FG 50+</td>\n",
       "      <td>26.00</td>\n",
       "    </tr>\n",
       "    <tr>\n",
       "      <th>7</th>\n",
       "      <td>Jake MoodySF - K Final W 32-19 vs NYJ  New Pla...</td>\n",
       "      <td>1 FG 20-29, 1 FG 30-39, 2 FG 40-49</td>\n",
       "      <td>26.00</td>\n",
       "    </tr>\n",
       "    <tr>\n",
       "      <th>8</th>\n",
       "      <td>Joe MixonHou - RB Final W 29-27 @ Ind  Player ...</td>\n",
       "      <td>159 Rush Yds, 1 Rush TD, 3 Rec</td>\n",
       "      <td>25.30</td>\n",
       "    </tr>\n",
       "    <tr>\n",
       "      <th>9</th>\n",
       "      <td>Lamar JacksonBal - QB Final L 20-27 @ KC  Play...</td>\n",
       "      <td>273 Pass Yds, 1 Pass TD, 122 Rush Yds</td>\n",
       "      <td>25.12</td>\n",
       "    </tr>\n",
       "    <tr>\n",
       "      <th>10</th>\n",
       "      <td>Cooper KuppLAR - WR Final L 20-26 @ Det  Playe...</td>\n",
       "      <td>10 Rush Yds, 14 Rec, 110 Rec Yds</td>\n",
       "      <td>25.00</td>\n",
       "    </tr>\n",
       "    <tr>\n",
       "      <th>11</th>\n",
       "      <td>ChicagoChi - DEF Final W 24-17 vs Ten  No new ...</td>\n",
       "      <td>3 Sack, 2 Int, 1 Fum Rec</td>\n",
       "      <td>24.00</td>\n",
       "    </tr>\n",
       "    <tr>\n",
       "      <th>12</th>\n",
       "      <td>Allen LazardNYJ - WR Final L 19-32 @ SF  Playe...</td>\n",
       "      <td>6 Rec, 89 Rec Yds, 2 Rec TD</td>\n",
       "      <td>23.90</td>\n",
       "    </tr>\n",
       "    <tr>\n",
       "      <th>13</th>\n",
       "      <td>Tyreek HillMia - WR Final W 20-17 vs Jax  New ...</td>\n",
       "      <td>7 Rec, 130 Rec Yds, 1 Rec TD</td>\n",
       "      <td>22.50</td>\n",
       "    </tr>\n",
       "    <tr>\n",
       "      <th>14</th>\n",
       "      <td>Blake GrupeNO - K Final W 47-10 vs Car  Player...</td>\n",
       "      <td>1 FG 30-39, 1 FG 40-49, 2 FG 50+</td>\n",
       "      <td>22.00</td>\n",
       "    </tr>\n",
       "    <tr>\n",
       "      <th>15</th>\n",
       "      <td>MinnesotaMin - DEF Final W 28-6 @ NYG  No new ...</td>\n",
       "      <td>5 Sack, 2 Int, 1 TD</td>\n",
       "      <td>22.00</td>\n",
       "    </tr>\n",
       "    <tr>\n",
       "      <th>16</th>\n",
       "      <td>Jameson WilliamsDet - WR Final W 26-20 vs LAR ...</td>\n",
       "      <td>13 Rush Yds, 5 Rec, 121 Rec Yds</td>\n",
       "      <td>21.90</td>\n",
       "    </tr>\n",
       "    <tr>\n",
       "      <th>17</th>\n",
       "      <td>Jordan MasonSF - RB Final W 32-19 vs NYJ  Play...</td>\n",
       "      <td>147 Rush Yds, 1 Rush TD, 1 Rec</td>\n",
       "      <td>21.70</td>\n",
       "    </tr>\n",
       "    <tr>\n",
       "      <th>18</th>\n",
       "      <td>Isaiah LikelyBal - TE Final L 20-27 @ KC  Play...</td>\n",
       "      <td>9 Rec, 111 Rec Yds, 1 Rec TD</td>\n",
       "      <td>21.60</td>\n",
       "    </tr>\n",
       "    <tr>\n",
       "      <th>19</th>\n",
       "      <td>J.K. DobbinsLAC - RB Final W 22-10 vs LV  Play...</td>\n",
       "      <td>135 Rush Yds, 1 Rush TD, 3 Rec</td>\n",
       "      <td>21.40</td>\n",
       "    </tr>\n",
       "    <tr>\n",
       "      <th>20</th>\n",
       "      <td>Derek CarrNO - QB Final W 47-10 vs Car  Player...</td>\n",
       "      <td>200 Pass Yds, 3 Pass TD, 13 Rush Yds</td>\n",
       "      <td>21.30</td>\n",
       "    </tr>\n",
       "    <tr>\n",
       "      <th>21</th>\n",
       "      <td>Brandon AubreyDal - K Final W 33-17 @ Cle  Pla...</td>\n",
       "      <td>2 FG 40-49, 2 FG 50+, 3 PAT Made</td>\n",
       "      <td>21.00</td>\n",
       "    </tr>\n",
       "    <tr>\n",
       "      <th>22</th>\n",
       "      <td>Mike EvansTB - WR Final W 37-20 vs Was  New Pl...</td>\n",
       "      <td>5 Rec, 61 Rec Yds, 2 Rec TD</td>\n",
       "      <td>20.60</td>\n",
       "    </tr>\n",
       "    <tr>\n",
       "      <th>23</th>\n",
       "      <td>A.J. BrownPhi - WR Final W 34-29 vs GB  Player...</td>\n",
       "      <td>5 Rec, 119 Rec Yds, 1 Rec TD</td>\n",
       "      <td>20.40</td>\n",
       "    </tr>\n",
       "    <tr>\n",
       "      <th>24</th>\n",
       "      <td>Rhamondre StevensonNE - RB Final W 16-10 @ Cin...</td>\n",
       "      <td>120 Rush Yds, 1 Rush TD, 3 Rec</td>\n",
       "      <td>20.10</td>\n",
       "    </tr>\n",
       "  </tbody>\n",
       "</table>\n",
       "</div>"
      ],
      "text/plain": [
       "                                                 Name  \\\n",
       "0   Saquon BarkleyPhi - RB Final W 34-29 vs GB  Pl...   \n",
       "1   Josh AllenBuf - QB Final W 34-28 vs Ari  Playe...   \n",
       "2   Jayden ReedGB - WR Final L 29-34 @ Phi  Player...   \n",
       "3   Baker MayfieldTB - QB Final W 37-20 vs Was  Vi...   \n",
       "4   Jayden DanielsWas - QB Final L 20-37 @ TB  Pla...   \n",
       "5   Anthony RichardsonInd - QB Final L 27-29 vs Ho...   \n",
       "6   Chris BoswellPit - K Final W 18-10 @ Atl  Play...   \n",
       "7   Jake MoodySF - K Final W 32-19 vs NYJ  New Pla...   \n",
       "8   Joe MixonHou - RB Final W 29-27 @ Ind  Player ...   \n",
       "9   Lamar JacksonBal - QB Final L 20-27 @ KC  Play...   \n",
       "10  Cooper KuppLAR - WR Final L 20-26 @ Det  Playe...   \n",
       "11  ChicagoChi - DEF Final W 24-17 vs Ten  No new ...   \n",
       "12  Allen LazardNYJ - WR Final L 19-32 @ SF  Playe...   \n",
       "13  Tyreek HillMia - WR Final W 20-17 vs Jax  New ...   \n",
       "14  Blake GrupeNO - K Final W 47-10 vs Car  Player...   \n",
       "15  MinnesotaMin - DEF Final W 28-6 @ NYG  No new ...   \n",
       "16  Jameson WilliamsDet - WR Final W 26-20 vs LAR ...   \n",
       "17  Jordan MasonSF - RB Final W 32-19 vs NYJ  Play...   \n",
       "18  Isaiah LikelyBal - TE Final L 20-27 @ KC  Play...   \n",
       "19  J.K. DobbinsLAC - RB Final W 22-10 vs LV  Play...   \n",
       "20  Derek CarrNO - QB Final W 47-10 vs Car  Player...   \n",
       "21  Brandon AubreyDal - K Final W 33-17 @ Cle  Pla...   \n",
       "22  Mike EvansTB - WR Final W 37-20 vs Was  New Pl...   \n",
       "23  A.J. BrownPhi - WR Final W 34-29 vs GB  Player...   \n",
       "24  Rhamondre StevensonNE - RB Final W 16-10 @ Cin...   \n",
       "\n",
       "                                    Stats  Fan Pts  \n",
       "0          109 Rush Yds, 2 Rush TD, 2 Rec    32.20  \n",
       "1    232 Pass Yds, 2 Pass TD, 39 Rush Yds    31.18  \n",
       "2           33 Rush Yds, 1 Rush TD, 4 Rec    31.10  \n",
       "3    289 Pass Yds, 4 Pass TD, 21 Rush Yds    29.66  \n",
       "4    184 Pass Yds, 88 Rush Yds, 2 Rush TD    28.16  \n",
       "5          212 Pass Yds, 2 Pass TD, 1 Int    27.08  \n",
       "6        1 FG 20-29, 2 FG 40-49, 3 FG 50+    26.00  \n",
       "7      1 FG 20-29, 1 FG 30-39, 2 FG 40-49    26.00  \n",
       "8          159 Rush Yds, 1 Rush TD, 3 Rec    25.30  \n",
       "9   273 Pass Yds, 1 Pass TD, 122 Rush Yds    25.12  \n",
       "10       10 Rush Yds, 14 Rec, 110 Rec Yds    25.00  \n",
       "11               3 Sack, 2 Int, 1 Fum Rec    24.00  \n",
       "12            6 Rec, 89 Rec Yds, 2 Rec TD    23.90  \n",
       "13           7 Rec, 130 Rec Yds, 1 Rec TD    22.50  \n",
       "14       1 FG 30-39, 1 FG 40-49, 2 FG 50+    22.00  \n",
       "15                    5 Sack, 2 Int, 1 TD    22.00  \n",
       "16        13 Rush Yds, 5 Rec, 121 Rec Yds    21.90  \n",
       "17         147 Rush Yds, 1 Rush TD, 1 Rec    21.70  \n",
       "18           9 Rec, 111 Rec Yds, 1 Rec TD    21.60  \n",
       "19         135 Rush Yds, 1 Rush TD, 3 Rec    21.40  \n",
       "20   200 Pass Yds, 3 Pass TD, 13 Rush Yds    21.30  \n",
       "21       2 FG 40-49, 2 FG 50+, 3 PAT Made    21.00  \n",
       "22            5 Rec, 61 Rec Yds, 2 Rec TD    20.60  \n",
       "23           5 Rec, 119 Rec Yds, 1 Rec TD    20.40  \n",
       "24         120 Rush Yds, 1 Rush TD, 3 Rec    20.10  "
      ]
     },
     "execution_count": 118,
     "metadata": {},
     "output_type": "execute_result"
    }
   ],
   "source": [
    "import requests\n",
    "import pandas as pd\n",
    "\n",
    "url = \"https://football.fantasysports.yahoo.com/f1/whoshot?pos=ALL&week=1\"\n",
    "\n",
    "# getting the URL\n",
    "response = requests.get(url)\n",
    "response.raise_for_status()\n",
    "\n",
    "tables = pd.read_html(response.text)\n",
    "\n",
    "# 0 should be week 1\n",
    "tables[0]"
   ]
  },
  {
   "cell_type": "markdown",
   "metadata": {},
   "source": [
    "## Part 3.2: Build a clean Data Frame (10 points)\n",
    "\n",
    "Write a function `clean_nfl_df()` which takes the table from Part 3.1 as input and :\n",
    "\n",
    "- breaks up the `Name` column into three columns: `Name`, `Team`, `Pos` (position). For example, the first couple observations under the `Name` column as it is read in by default should be:\n",
    "\n",
    "| Name                                                                  |\n",
    "|----------------------------------------------------------------------:|\n",
    "| Saquon BarkleyPhi - RB Final W 34-29 vs GB  Video ForecastPlayer Note |\n",
    "| Josh AllenBuf - QB Final W 34-28 vs Ari  Video ForecastPlayer Note    |\n",
    "\n",
    "    this should be replaced with three columns:\n",
    "\n",
    "| Name             | Team | Pos |\n",
    "|-----------------:|-----:|----:|\n",
    "| Saquon Barkley   | Phi  | RB  |\n",
    "| Josh Allen       | Buf  | QB  |\n",
    "\n",
    "- breaks up the `Stats` column into different numeric columns based on the statistics. There should be:\n",
    "    * `Pass Yds`\n",
    "    * `Rec Yds`\n",
    "    * `Rush Yds`\n",
    "    * `Pass TD`\n",
    "    * `Rec TD`\n",
    "    * `Rush TD`\n",
    "    * `Rec`\n",
    "    * `Sack`\n",
    "    * `Int`\n",
    "    * `Fum Rec`\n",
    "    \n",
    "    so that the first couple observations:\n",
    "    \n",
    "| Stats                               |\n",
    "|------------------------------------:|\n",
    "| 109 Rush Yds, 2 Rush TD, 2 Rec      |\n",
    "| 232 Pass Yds, 2 Pass TD, 39 Rush Yds|\n",
    "\n",
    "    becomes\n",
    "    \n",
    "| Pass Yds | Rec Yds | Rush Yds | Pass TD | Rec TD | Rush TD | Rec | Sack | Int | Fum Rec |\n",
    "|---------:|--------:|---------:|--------:|-------:|--------:|----:|-----:|----:|--------:|\n",
    "|   NaN    |  NaN    |    109   |   NaN   | NaN    | 2       | 2   | NaN  | NaN | NaN     |\n",
    "|   232    |  NaN    |     39   |   2     | NaN    | NaN     | NaN | NaN  | NaN | NaN     |\n",
    "\n",
    "- produces the final clean data frame whose first two rows look like (**Note** the final `Fan Pts` column):\n",
    "\n",
    "| Name             | Team | Pos | Pass Yds | Rec Yds | Rush Yds | Pass TD | Rec TD | Rush TD | Rec | Sack | Int | Fum Rec | Fan Pts   |\n",
    "|-----------------:|-----:|----:|---------:|--------:|---------:|--------:|-------:|--------:|----:|-----:|----:|--------:|----------:|\n",
    "| Saquon Barkley   | Phi  | RB  |   NaN    |  NaN    |    109   |   NaN   | NaN    | 2       | 2   | NaN  | NaN | NaN     |  32.20    |\n",
    "| Josh Allen       | Buf  | QB  |   232    |  NaN    |     39   |   2     | NaN    | NaN     | NaN | NaN  | NaN | NaN     |  31.18    |"
   ]
  },
  {
   "cell_type": "markdown",
   "metadata": {},
   "source": [
    "### Some Help\n",
    "Below is an example of using regular expressions in Python which should help you figure out part of what is needed for this problem. You do not need to understand this fully, just figure out where to use it."
   ]
  },
  {
   "cell_type": "code",
   "execution_count": 119,
   "metadata": {},
   "outputs": [
    {
     "name": "stdout",
     "output_type": "stream",
     "text": [
      "Saquon Barkley\n",
      "Phi\n"
     ]
    }
   ],
   "source": [
    "import math\n",
    "import re\n",
    "\n",
    "# Example string\n",
    "s1 = 'Saquon BarkleyPhi'\n",
    "# Some teams may have all caps strings, so this can adjust that\n",
    "s2 = 'Allen LazardNYJ - WR Final L 19-32 @ SF'\n",
    "\n",
    "# (try this with both s1 and s2 to make sure it works)\n",
    "# Use regular expression to split at uppercase letters \n",
    "match = re.search(r'(?:[A-Z][a-z]*|[A-Z]+)$', s1)\n",
    "name = s1[:match.start()].strip()\n",
    "team = match.group()\n",
    "    \n",
    "print(name)\n",
    "print(team)"
   ]
  },
  {
   "cell_type": "code",
   "execution_count": 120,
   "metadata": {},
   "outputs": [],
   "source": [
    "def clean_nfl_df(info):\n",
    "    \"\"\"\n",
    "    Cleans an NFL DataFrame by splitting the 'Name' column into separate 'Name', 'Team', and 'Pos' columns.\n",
    "    \n",
    "    Also processes the 'Stats' column by extracting numeric values and their corresponding labels.\n",
    "    If a player does not have a particular stat, it is marked as 'N/A'.\n",
    "\n",
    "    Returns:\n",
    "        pd.DataFrame: A DataFrame with separate columns for 'Name', 'Team', 'Pos', and stats.\n",
    "    \"\"\"\n",
    "    clean = []\n",
    "    table = info[0] \n",
    "    \n",
    "    all_stat_names = set()  \n",
    "\n",
    "    for index, row in table.iterrows():\n",
    "        stats_dict = {}\n",
    "\n",
    "        name_entry = row[\"Name\"]\n",
    "        stats_entry = row[\"Stats\"]\n",
    "        fan_entry = row[\"Fan Pts\"]\n",
    "\n",
    "        name_and_team, pos_section = name_entry.split(\" - \", 1)\n",
    "\n",
    "        stats = stats_entry.split(',')  \n",
    "        for entry in stats:\n",
    "            entry = entry.strip() \n",
    "            number = entry.split()[0]\n",
    "            stats_name = ' '.join(entry.split()[1:])  \n",
    "            stats_dict[stats_name] = number  \n",
    "            all_stat_names.add(stats_name)  \n",
    "\n",
    "        match = re.search(r'(?:[A-Z][a-z]*|[A-Z]+)$', name_and_team)\n",
    "        name = name_and_team[:match.start()].strip()  \n",
    "        team = match.group()  #\n",
    "        pos = pos_section.split()[0] \n",
    "\n",
    "        clean.append({\n",
    "            \"Name\": name, \n",
    "            \"Team\": team, \n",
    "            \"Pos\": pos,\n",
    "            **stats_dict,\n",
    "            \"Fan Pts\" : fan_entry\n",
    "        })\n",
    "\n",
    "    df = pd.DataFrame(clean)\n",
    "\n",
    "    for stat in all_stat_names:\n",
    "        if stat not in df.columns:\n",
    "            df[stat] = 'N/A'\n",
    "    \n",
    "    df = df.fillna('N/A')\n",
    "    \n",
    "    return df"
   ]
  },
  {
   "cell_type": "code",
   "execution_count": 121,
   "metadata": {},
   "outputs": [
    {
     "data": {
      "text/html": [
       "<div>\n",
       "<style scoped>\n",
       "    .dataframe tbody tr th:only-of-type {\n",
       "        vertical-align: middle;\n",
       "    }\n",
       "\n",
       "    .dataframe tbody tr th {\n",
       "        vertical-align: top;\n",
       "    }\n",
       "\n",
       "    .dataframe thead th {\n",
       "        text-align: right;\n",
       "    }\n",
       "</style>\n",
       "<table border=\"1\" class=\"dataframe\">\n",
       "  <thead>\n",
       "    <tr style=\"text-align: right;\">\n",
       "      <th></th>\n",
       "      <th>Name</th>\n",
       "      <th>Team</th>\n",
       "      <th>Pos</th>\n",
       "      <th>Rush Yds</th>\n",
       "      <th>Rush TD</th>\n",
       "      <th>Rec</th>\n",
       "      <th>Fan Pts</th>\n",
       "      <th>Pass Yds</th>\n",
       "      <th>Pass TD</th>\n",
       "      <th>Int</th>\n",
       "      <th>FG 20-29</th>\n",
       "      <th>FG 40-49</th>\n",
       "      <th>FG 50+</th>\n",
       "      <th>FG 30-39</th>\n",
       "      <th>Rec Yds</th>\n",
       "      <th>Sack</th>\n",
       "      <th>Fum Rec</th>\n",
       "      <th>Rec TD</th>\n",
       "      <th>TD</th>\n",
       "      <th>PAT Made</th>\n",
       "    </tr>\n",
       "  </thead>\n",
       "  <tbody>\n",
       "    <tr>\n",
       "      <th>0</th>\n",
       "      <td>Saquon Barkley</td>\n",
       "      <td>Phi</td>\n",
       "      <td>RB</td>\n",
       "      <td>109</td>\n",
       "      <td>2</td>\n",
       "      <td>2</td>\n",
       "      <td>32.20</td>\n",
       "      <td>N/A</td>\n",
       "      <td>N/A</td>\n",
       "      <td>N/A</td>\n",
       "      <td>N/A</td>\n",
       "      <td>N/A</td>\n",
       "      <td>N/A</td>\n",
       "      <td>N/A</td>\n",
       "      <td>N/A</td>\n",
       "      <td>N/A</td>\n",
       "      <td>N/A</td>\n",
       "      <td>N/A</td>\n",
       "      <td>N/A</td>\n",
       "      <td>N/A</td>\n",
       "    </tr>\n",
       "    <tr>\n",
       "      <th>1</th>\n",
       "      <td>Josh Allen</td>\n",
       "      <td>Buf</td>\n",
       "      <td>QB</td>\n",
       "      <td>39</td>\n",
       "      <td>N/A</td>\n",
       "      <td>N/A</td>\n",
       "      <td>31.18</td>\n",
       "      <td>232</td>\n",
       "      <td>2</td>\n",
       "      <td>N/A</td>\n",
       "      <td>N/A</td>\n",
       "      <td>N/A</td>\n",
       "      <td>N/A</td>\n",
       "      <td>N/A</td>\n",
       "      <td>N/A</td>\n",
       "      <td>N/A</td>\n",
       "      <td>N/A</td>\n",
       "      <td>N/A</td>\n",
       "      <td>N/A</td>\n",
       "      <td>N/A</td>\n",
       "    </tr>\n",
       "    <tr>\n",
       "      <th>2</th>\n",
       "      <td>Jayden Reed</td>\n",
       "      <td>GB</td>\n",
       "      <td>WR</td>\n",
       "      <td>33</td>\n",
       "      <td>1</td>\n",
       "      <td>4</td>\n",
       "      <td>31.10</td>\n",
       "      <td>N/A</td>\n",
       "      <td>N/A</td>\n",
       "      <td>N/A</td>\n",
       "      <td>N/A</td>\n",
       "      <td>N/A</td>\n",
       "      <td>N/A</td>\n",
       "      <td>N/A</td>\n",
       "      <td>N/A</td>\n",
       "      <td>N/A</td>\n",
       "      <td>N/A</td>\n",
       "      <td>N/A</td>\n",
       "      <td>N/A</td>\n",
       "      <td>N/A</td>\n",
       "    </tr>\n",
       "    <tr>\n",
       "      <th>3</th>\n",
       "      <td>Baker Mayfield</td>\n",
       "      <td>TB</td>\n",
       "      <td>QB</td>\n",
       "      <td>21</td>\n",
       "      <td>N/A</td>\n",
       "      <td>N/A</td>\n",
       "      <td>29.66</td>\n",
       "      <td>289</td>\n",
       "      <td>4</td>\n",
       "      <td>N/A</td>\n",
       "      <td>N/A</td>\n",
       "      <td>N/A</td>\n",
       "      <td>N/A</td>\n",
       "      <td>N/A</td>\n",
       "      <td>N/A</td>\n",
       "      <td>N/A</td>\n",
       "      <td>N/A</td>\n",
       "      <td>N/A</td>\n",
       "      <td>N/A</td>\n",
       "      <td>N/A</td>\n",
       "    </tr>\n",
       "    <tr>\n",
       "      <th>4</th>\n",
       "      <td>Jayden Daniels</td>\n",
       "      <td>Was</td>\n",
       "      <td>QB</td>\n",
       "      <td>88</td>\n",
       "      <td>2</td>\n",
       "      <td>N/A</td>\n",
       "      <td>28.16</td>\n",
       "      <td>184</td>\n",
       "      <td>N/A</td>\n",
       "      <td>N/A</td>\n",
       "      <td>N/A</td>\n",
       "      <td>N/A</td>\n",
       "      <td>N/A</td>\n",
       "      <td>N/A</td>\n",
       "      <td>N/A</td>\n",
       "      <td>N/A</td>\n",
       "      <td>N/A</td>\n",
       "      <td>N/A</td>\n",
       "      <td>N/A</td>\n",
       "      <td>N/A</td>\n",
       "    </tr>\n",
       "    <tr>\n",
       "      <th>5</th>\n",
       "      <td>Anthony Richardson</td>\n",
       "      <td>Ind</td>\n",
       "      <td>QB</td>\n",
       "      <td>N/A</td>\n",
       "      <td>N/A</td>\n",
       "      <td>N/A</td>\n",
       "      <td>27.08</td>\n",
       "      <td>212</td>\n",
       "      <td>2</td>\n",
       "      <td>1</td>\n",
       "      <td>N/A</td>\n",
       "      <td>N/A</td>\n",
       "      <td>N/A</td>\n",
       "      <td>N/A</td>\n",
       "      <td>N/A</td>\n",
       "      <td>N/A</td>\n",
       "      <td>N/A</td>\n",
       "      <td>N/A</td>\n",
       "      <td>N/A</td>\n",
       "      <td>N/A</td>\n",
       "    </tr>\n",
       "    <tr>\n",
       "      <th>6</th>\n",
       "      <td>Chris Boswell</td>\n",
       "      <td>Pit</td>\n",
       "      <td>K</td>\n",
       "      <td>N/A</td>\n",
       "      <td>N/A</td>\n",
       "      <td>N/A</td>\n",
       "      <td>26.00</td>\n",
       "      <td>N/A</td>\n",
       "      <td>N/A</td>\n",
       "      <td>N/A</td>\n",
       "      <td>1</td>\n",
       "      <td>2</td>\n",
       "      <td>3</td>\n",
       "      <td>N/A</td>\n",
       "      <td>N/A</td>\n",
       "      <td>N/A</td>\n",
       "      <td>N/A</td>\n",
       "      <td>N/A</td>\n",
       "      <td>N/A</td>\n",
       "      <td>N/A</td>\n",
       "    </tr>\n",
       "    <tr>\n",
       "      <th>7</th>\n",
       "      <td>Jake Moody</td>\n",
       "      <td>SF</td>\n",
       "      <td>K</td>\n",
       "      <td>N/A</td>\n",
       "      <td>N/A</td>\n",
       "      <td>N/A</td>\n",
       "      <td>26.00</td>\n",
       "      <td>N/A</td>\n",
       "      <td>N/A</td>\n",
       "      <td>N/A</td>\n",
       "      <td>1</td>\n",
       "      <td>2</td>\n",
       "      <td>N/A</td>\n",
       "      <td>1</td>\n",
       "      <td>N/A</td>\n",
       "      <td>N/A</td>\n",
       "      <td>N/A</td>\n",
       "      <td>N/A</td>\n",
       "      <td>N/A</td>\n",
       "      <td>N/A</td>\n",
       "    </tr>\n",
       "    <tr>\n",
       "      <th>8</th>\n",
       "      <td>Joe Mixon</td>\n",
       "      <td>Hou</td>\n",
       "      <td>RB</td>\n",
       "      <td>159</td>\n",
       "      <td>1</td>\n",
       "      <td>3</td>\n",
       "      <td>25.30</td>\n",
       "      <td>N/A</td>\n",
       "      <td>N/A</td>\n",
       "      <td>N/A</td>\n",
       "      <td>N/A</td>\n",
       "      <td>N/A</td>\n",
       "      <td>N/A</td>\n",
       "      <td>N/A</td>\n",
       "      <td>N/A</td>\n",
       "      <td>N/A</td>\n",
       "      <td>N/A</td>\n",
       "      <td>N/A</td>\n",
       "      <td>N/A</td>\n",
       "      <td>N/A</td>\n",
       "    </tr>\n",
       "    <tr>\n",
       "      <th>9</th>\n",
       "      <td>Lamar Jackson</td>\n",
       "      <td>Bal</td>\n",
       "      <td>QB</td>\n",
       "      <td>122</td>\n",
       "      <td>N/A</td>\n",
       "      <td>N/A</td>\n",
       "      <td>25.12</td>\n",
       "      <td>273</td>\n",
       "      <td>1</td>\n",
       "      <td>N/A</td>\n",
       "      <td>N/A</td>\n",
       "      <td>N/A</td>\n",
       "      <td>N/A</td>\n",
       "      <td>N/A</td>\n",
       "      <td>N/A</td>\n",
       "      <td>N/A</td>\n",
       "      <td>N/A</td>\n",
       "      <td>N/A</td>\n",
       "      <td>N/A</td>\n",
       "      <td>N/A</td>\n",
       "    </tr>\n",
       "    <tr>\n",
       "      <th>10</th>\n",
       "      <td>Cooper Kupp</td>\n",
       "      <td>LAR</td>\n",
       "      <td>WR</td>\n",
       "      <td>10</td>\n",
       "      <td>N/A</td>\n",
       "      <td>14</td>\n",
       "      <td>25.00</td>\n",
       "      <td>N/A</td>\n",
       "      <td>N/A</td>\n",
       "      <td>N/A</td>\n",
       "      <td>N/A</td>\n",
       "      <td>N/A</td>\n",
       "      <td>N/A</td>\n",
       "      <td>N/A</td>\n",
       "      <td>110</td>\n",
       "      <td>N/A</td>\n",
       "      <td>N/A</td>\n",
       "      <td>N/A</td>\n",
       "      <td>N/A</td>\n",
       "      <td>N/A</td>\n",
       "    </tr>\n",
       "    <tr>\n",
       "      <th>11</th>\n",
       "      <td>Chicago</td>\n",
       "      <td>Chi</td>\n",
       "      <td>DEF</td>\n",
       "      <td>N/A</td>\n",
       "      <td>N/A</td>\n",
       "      <td>N/A</td>\n",
       "      <td>24.00</td>\n",
       "      <td>N/A</td>\n",
       "      <td>N/A</td>\n",
       "      <td>2</td>\n",
       "      <td>N/A</td>\n",
       "      <td>N/A</td>\n",
       "      <td>N/A</td>\n",
       "      <td>N/A</td>\n",
       "      <td>N/A</td>\n",
       "      <td>3</td>\n",
       "      <td>1</td>\n",
       "      <td>N/A</td>\n",
       "      <td>N/A</td>\n",
       "      <td>N/A</td>\n",
       "    </tr>\n",
       "    <tr>\n",
       "      <th>12</th>\n",
       "      <td>Allen Lazard</td>\n",
       "      <td>NYJ</td>\n",
       "      <td>WR</td>\n",
       "      <td>N/A</td>\n",
       "      <td>N/A</td>\n",
       "      <td>6</td>\n",
       "      <td>23.90</td>\n",
       "      <td>N/A</td>\n",
       "      <td>N/A</td>\n",
       "      <td>N/A</td>\n",
       "      <td>N/A</td>\n",
       "      <td>N/A</td>\n",
       "      <td>N/A</td>\n",
       "      <td>N/A</td>\n",
       "      <td>89</td>\n",
       "      <td>N/A</td>\n",
       "      <td>N/A</td>\n",
       "      <td>2</td>\n",
       "      <td>N/A</td>\n",
       "      <td>N/A</td>\n",
       "    </tr>\n",
       "    <tr>\n",
       "      <th>13</th>\n",
       "      <td>Tyreek Hill</td>\n",
       "      <td>Mia</td>\n",
       "      <td>WR</td>\n",
       "      <td>N/A</td>\n",
       "      <td>N/A</td>\n",
       "      <td>7</td>\n",
       "      <td>22.50</td>\n",
       "      <td>N/A</td>\n",
       "      <td>N/A</td>\n",
       "      <td>N/A</td>\n",
       "      <td>N/A</td>\n",
       "      <td>N/A</td>\n",
       "      <td>N/A</td>\n",
       "      <td>N/A</td>\n",
       "      <td>130</td>\n",
       "      <td>N/A</td>\n",
       "      <td>N/A</td>\n",
       "      <td>1</td>\n",
       "      <td>N/A</td>\n",
       "      <td>N/A</td>\n",
       "    </tr>\n",
       "    <tr>\n",
       "      <th>14</th>\n",
       "      <td>Blake Grupe</td>\n",
       "      <td>NO</td>\n",
       "      <td>K</td>\n",
       "      <td>N/A</td>\n",
       "      <td>N/A</td>\n",
       "      <td>N/A</td>\n",
       "      <td>22.00</td>\n",
       "      <td>N/A</td>\n",
       "      <td>N/A</td>\n",
       "      <td>N/A</td>\n",
       "      <td>N/A</td>\n",
       "      <td>1</td>\n",
       "      <td>2</td>\n",
       "      <td>1</td>\n",
       "      <td>N/A</td>\n",
       "      <td>N/A</td>\n",
       "      <td>N/A</td>\n",
       "      <td>N/A</td>\n",
       "      <td>N/A</td>\n",
       "      <td>N/A</td>\n",
       "    </tr>\n",
       "    <tr>\n",
       "      <th>15</th>\n",
       "      <td>Minnesota</td>\n",
       "      <td>Min</td>\n",
       "      <td>DEF</td>\n",
       "      <td>N/A</td>\n",
       "      <td>N/A</td>\n",
       "      <td>N/A</td>\n",
       "      <td>22.00</td>\n",
       "      <td>N/A</td>\n",
       "      <td>N/A</td>\n",
       "      <td>2</td>\n",
       "      <td>N/A</td>\n",
       "      <td>N/A</td>\n",
       "      <td>N/A</td>\n",
       "      <td>N/A</td>\n",
       "      <td>N/A</td>\n",
       "      <td>5</td>\n",
       "      <td>N/A</td>\n",
       "      <td>N/A</td>\n",
       "      <td>1</td>\n",
       "      <td>N/A</td>\n",
       "    </tr>\n",
       "    <tr>\n",
       "      <th>16</th>\n",
       "      <td>Jameson Williams</td>\n",
       "      <td>Det</td>\n",
       "      <td>WR</td>\n",
       "      <td>13</td>\n",
       "      <td>N/A</td>\n",
       "      <td>5</td>\n",
       "      <td>21.90</td>\n",
       "      <td>N/A</td>\n",
       "      <td>N/A</td>\n",
       "      <td>N/A</td>\n",
       "      <td>N/A</td>\n",
       "      <td>N/A</td>\n",
       "      <td>N/A</td>\n",
       "      <td>N/A</td>\n",
       "      <td>121</td>\n",
       "      <td>N/A</td>\n",
       "      <td>N/A</td>\n",
       "      <td>N/A</td>\n",
       "      <td>N/A</td>\n",
       "      <td>N/A</td>\n",
       "    </tr>\n",
       "    <tr>\n",
       "      <th>17</th>\n",
       "      <td>Jordan Mason</td>\n",
       "      <td>SF</td>\n",
       "      <td>RB</td>\n",
       "      <td>147</td>\n",
       "      <td>1</td>\n",
       "      <td>1</td>\n",
       "      <td>21.70</td>\n",
       "      <td>N/A</td>\n",
       "      <td>N/A</td>\n",
       "      <td>N/A</td>\n",
       "      <td>N/A</td>\n",
       "      <td>N/A</td>\n",
       "      <td>N/A</td>\n",
       "      <td>N/A</td>\n",
       "      <td>N/A</td>\n",
       "      <td>N/A</td>\n",
       "      <td>N/A</td>\n",
       "      <td>N/A</td>\n",
       "      <td>N/A</td>\n",
       "      <td>N/A</td>\n",
       "    </tr>\n",
       "    <tr>\n",
       "      <th>18</th>\n",
       "      <td>Isaiah Likely</td>\n",
       "      <td>Bal</td>\n",
       "      <td>TE</td>\n",
       "      <td>N/A</td>\n",
       "      <td>N/A</td>\n",
       "      <td>9</td>\n",
       "      <td>21.60</td>\n",
       "      <td>N/A</td>\n",
       "      <td>N/A</td>\n",
       "      <td>N/A</td>\n",
       "      <td>N/A</td>\n",
       "      <td>N/A</td>\n",
       "      <td>N/A</td>\n",
       "      <td>N/A</td>\n",
       "      <td>111</td>\n",
       "      <td>N/A</td>\n",
       "      <td>N/A</td>\n",
       "      <td>1</td>\n",
       "      <td>N/A</td>\n",
       "      <td>N/A</td>\n",
       "    </tr>\n",
       "    <tr>\n",
       "      <th>19</th>\n",
       "      <td>J.K. Dobbins</td>\n",
       "      <td>LAC</td>\n",
       "      <td>RB</td>\n",
       "      <td>135</td>\n",
       "      <td>1</td>\n",
       "      <td>3</td>\n",
       "      <td>21.40</td>\n",
       "      <td>N/A</td>\n",
       "      <td>N/A</td>\n",
       "      <td>N/A</td>\n",
       "      <td>N/A</td>\n",
       "      <td>N/A</td>\n",
       "      <td>N/A</td>\n",
       "      <td>N/A</td>\n",
       "      <td>N/A</td>\n",
       "      <td>N/A</td>\n",
       "      <td>N/A</td>\n",
       "      <td>N/A</td>\n",
       "      <td>N/A</td>\n",
       "      <td>N/A</td>\n",
       "    </tr>\n",
       "    <tr>\n",
       "      <th>20</th>\n",
       "      <td>Derek Carr</td>\n",
       "      <td>NO</td>\n",
       "      <td>QB</td>\n",
       "      <td>13</td>\n",
       "      <td>N/A</td>\n",
       "      <td>N/A</td>\n",
       "      <td>21.30</td>\n",
       "      <td>200</td>\n",
       "      <td>3</td>\n",
       "      <td>N/A</td>\n",
       "      <td>N/A</td>\n",
       "      <td>N/A</td>\n",
       "      <td>N/A</td>\n",
       "      <td>N/A</td>\n",
       "      <td>N/A</td>\n",
       "      <td>N/A</td>\n",
       "      <td>N/A</td>\n",
       "      <td>N/A</td>\n",
       "      <td>N/A</td>\n",
       "      <td>N/A</td>\n",
       "    </tr>\n",
       "    <tr>\n",
       "      <th>21</th>\n",
       "      <td>Brandon Aubrey</td>\n",
       "      <td>Dal</td>\n",
       "      <td>K</td>\n",
       "      <td>N/A</td>\n",
       "      <td>N/A</td>\n",
       "      <td>N/A</td>\n",
       "      <td>21.00</td>\n",
       "      <td>N/A</td>\n",
       "      <td>N/A</td>\n",
       "      <td>N/A</td>\n",
       "      <td>N/A</td>\n",
       "      <td>2</td>\n",
       "      <td>2</td>\n",
       "      <td>N/A</td>\n",
       "      <td>N/A</td>\n",
       "      <td>N/A</td>\n",
       "      <td>N/A</td>\n",
       "      <td>N/A</td>\n",
       "      <td>N/A</td>\n",
       "      <td>3</td>\n",
       "    </tr>\n",
       "    <tr>\n",
       "      <th>22</th>\n",
       "      <td>Mike Evans</td>\n",
       "      <td>TB</td>\n",
       "      <td>WR</td>\n",
       "      <td>N/A</td>\n",
       "      <td>N/A</td>\n",
       "      <td>5</td>\n",
       "      <td>20.60</td>\n",
       "      <td>N/A</td>\n",
       "      <td>N/A</td>\n",
       "      <td>N/A</td>\n",
       "      <td>N/A</td>\n",
       "      <td>N/A</td>\n",
       "      <td>N/A</td>\n",
       "      <td>N/A</td>\n",
       "      <td>61</td>\n",
       "      <td>N/A</td>\n",
       "      <td>N/A</td>\n",
       "      <td>2</td>\n",
       "      <td>N/A</td>\n",
       "      <td>N/A</td>\n",
       "    </tr>\n",
       "    <tr>\n",
       "      <th>23</th>\n",
       "      <td>A.J. Brown</td>\n",
       "      <td>Phi</td>\n",
       "      <td>WR</td>\n",
       "      <td>N/A</td>\n",
       "      <td>N/A</td>\n",
       "      <td>5</td>\n",
       "      <td>20.40</td>\n",
       "      <td>N/A</td>\n",
       "      <td>N/A</td>\n",
       "      <td>N/A</td>\n",
       "      <td>N/A</td>\n",
       "      <td>N/A</td>\n",
       "      <td>N/A</td>\n",
       "      <td>N/A</td>\n",
       "      <td>119</td>\n",
       "      <td>N/A</td>\n",
       "      <td>N/A</td>\n",
       "      <td>1</td>\n",
       "      <td>N/A</td>\n",
       "      <td>N/A</td>\n",
       "    </tr>\n",
       "    <tr>\n",
       "      <th>24</th>\n",
       "      <td>Rhamondre Stevenson</td>\n",
       "      <td>NE</td>\n",
       "      <td>RB</td>\n",
       "      <td>120</td>\n",
       "      <td>1</td>\n",
       "      <td>3</td>\n",
       "      <td>20.10</td>\n",
       "      <td>N/A</td>\n",
       "      <td>N/A</td>\n",
       "      <td>N/A</td>\n",
       "      <td>N/A</td>\n",
       "      <td>N/A</td>\n",
       "      <td>N/A</td>\n",
       "      <td>N/A</td>\n",
       "      <td>N/A</td>\n",
       "      <td>N/A</td>\n",
       "      <td>N/A</td>\n",
       "      <td>N/A</td>\n",
       "      <td>N/A</td>\n",
       "      <td>N/A</td>\n",
       "    </tr>\n",
       "  </tbody>\n",
       "</table>\n",
       "</div>"
      ],
      "text/plain": [
       "                   Name Team  Pos Rush Yds Rush TD  Rec  Fan Pts Pass Yds  \\\n",
       "0        Saquon Barkley  Phi   RB      109       2    2    32.20      N/A   \n",
       "1            Josh Allen  Buf   QB       39     N/A  N/A    31.18      232   \n",
       "2           Jayden Reed   GB   WR       33       1    4    31.10      N/A   \n",
       "3        Baker Mayfield   TB   QB       21     N/A  N/A    29.66      289   \n",
       "4        Jayden Daniels  Was   QB       88       2  N/A    28.16      184   \n",
       "5    Anthony Richardson  Ind   QB      N/A     N/A  N/A    27.08      212   \n",
       "6         Chris Boswell  Pit    K      N/A     N/A  N/A    26.00      N/A   \n",
       "7            Jake Moody   SF    K      N/A     N/A  N/A    26.00      N/A   \n",
       "8             Joe Mixon  Hou   RB      159       1    3    25.30      N/A   \n",
       "9         Lamar Jackson  Bal   QB      122     N/A  N/A    25.12      273   \n",
       "10          Cooper Kupp  LAR   WR       10     N/A   14    25.00      N/A   \n",
       "11              Chicago  Chi  DEF      N/A     N/A  N/A    24.00      N/A   \n",
       "12         Allen Lazard  NYJ   WR      N/A     N/A    6    23.90      N/A   \n",
       "13          Tyreek Hill  Mia   WR      N/A     N/A    7    22.50      N/A   \n",
       "14          Blake Grupe   NO    K      N/A     N/A  N/A    22.00      N/A   \n",
       "15            Minnesota  Min  DEF      N/A     N/A  N/A    22.00      N/A   \n",
       "16     Jameson Williams  Det   WR       13     N/A    5    21.90      N/A   \n",
       "17         Jordan Mason   SF   RB      147       1    1    21.70      N/A   \n",
       "18        Isaiah Likely  Bal   TE      N/A     N/A    9    21.60      N/A   \n",
       "19         J.K. Dobbins  LAC   RB      135       1    3    21.40      N/A   \n",
       "20           Derek Carr   NO   QB       13     N/A  N/A    21.30      200   \n",
       "21       Brandon Aubrey  Dal    K      N/A     N/A  N/A    21.00      N/A   \n",
       "22           Mike Evans   TB   WR      N/A     N/A    5    20.60      N/A   \n",
       "23           A.J. Brown  Phi   WR      N/A     N/A    5    20.40      N/A   \n",
       "24  Rhamondre Stevenson   NE   RB      120       1    3    20.10      N/A   \n",
       "\n",
       "   Pass TD  Int FG 20-29 FG 40-49 FG 50+ FG 30-39 Rec Yds Sack Fum Rec Rec TD  \\\n",
       "0      N/A  N/A      N/A      N/A    N/A      N/A     N/A  N/A     N/A    N/A   \n",
       "1        2  N/A      N/A      N/A    N/A      N/A     N/A  N/A     N/A    N/A   \n",
       "2      N/A  N/A      N/A      N/A    N/A      N/A     N/A  N/A     N/A    N/A   \n",
       "3        4  N/A      N/A      N/A    N/A      N/A     N/A  N/A     N/A    N/A   \n",
       "4      N/A  N/A      N/A      N/A    N/A      N/A     N/A  N/A     N/A    N/A   \n",
       "5        2    1      N/A      N/A    N/A      N/A     N/A  N/A     N/A    N/A   \n",
       "6      N/A  N/A        1        2      3      N/A     N/A  N/A     N/A    N/A   \n",
       "7      N/A  N/A        1        2    N/A        1     N/A  N/A     N/A    N/A   \n",
       "8      N/A  N/A      N/A      N/A    N/A      N/A     N/A  N/A     N/A    N/A   \n",
       "9        1  N/A      N/A      N/A    N/A      N/A     N/A  N/A     N/A    N/A   \n",
       "10     N/A  N/A      N/A      N/A    N/A      N/A     110  N/A     N/A    N/A   \n",
       "11     N/A    2      N/A      N/A    N/A      N/A     N/A    3       1    N/A   \n",
       "12     N/A  N/A      N/A      N/A    N/A      N/A      89  N/A     N/A      2   \n",
       "13     N/A  N/A      N/A      N/A    N/A      N/A     130  N/A     N/A      1   \n",
       "14     N/A  N/A      N/A        1      2        1     N/A  N/A     N/A    N/A   \n",
       "15     N/A    2      N/A      N/A    N/A      N/A     N/A    5     N/A    N/A   \n",
       "16     N/A  N/A      N/A      N/A    N/A      N/A     121  N/A     N/A    N/A   \n",
       "17     N/A  N/A      N/A      N/A    N/A      N/A     N/A  N/A     N/A    N/A   \n",
       "18     N/A  N/A      N/A      N/A    N/A      N/A     111  N/A     N/A      1   \n",
       "19     N/A  N/A      N/A      N/A    N/A      N/A     N/A  N/A     N/A    N/A   \n",
       "20       3  N/A      N/A      N/A    N/A      N/A     N/A  N/A     N/A    N/A   \n",
       "21     N/A  N/A      N/A        2      2      N/A     N/A  N/A     N/A    N/A   \n",
       "22     N/A  N/A      N/A      N/A    N/A      N/A      61  N/A     N/A      2   \n",
       "23     N/A  N/A      N/A      N/A    N/A      N/A     119  N/A     N/A      1   \n",
       "24     N/A  N/A      N/A      N/A    N/A      N/A     N/A  N/A     N/A    N/A   \n",
       "\n",
       "     TD PAT Made  \n",
       "0   N/A      N/A  \n",
       "1   N/A      N/A  \n",
       "2   N/A      N/A  \n",
       "3   N/A      N/A  \n",
       "4   N/A      N/A  \n",
       "5   N/A      N/A  \n",
       "6   N/A      N/A  \n",
       "7   N/A      N/A  \n",
       "8   N/A      N/A  \n",
       "9   N/A      N/A  \n",
       "10  N/A      N/A  \n",
       "11  N/A      N/A  \n",
       "12  N/A      N/A  \n",
       "13  N/A      N/A  \n",
       "14  N/A      N/A  \n",
       "15    1      N/A  \n",
       "16  N/A      N/A  \n",
       "17  N/A      N/A  \n",
       "18  N/A      N/A  \n",
       "19  N/A      N/A  \n",
       "20  N/A      N/A  \n",
       "21  N/A        3  \n",
       "22  N/A      N/A  \n",
       "23  N/A      N/A  \n",
       "24  N/A      N/A  "
      ]
     },
     "execution_count": 121,
     "metadata": {},
     "output_type": "execute_result"
    }
   ],
   "source": [
    "clean_nfl_df(tables)"
   ]
  },
  {
   "cell_type": "markdown",
   "metadata": {},
   "source": [
    "## Part 3.3: More Cleaning (5 points)\n",
    "\n",
    "Go to the url from Part 2.1 in the browser and examine how the url changes when different positions or weeks are selected. Then, write the function `weekly_nfl_df()` which takes two arguments `pos` and `week`, and which uses your `clean_nfl_df()` function from Part 2.1 to produce a clean data frame for any position and any week (depending on when you complete this, there have only been 2-5 weeks so far; thus when you test this function only use 1 or 2 to be safe)."
   ]
  },
  {
   "cell_type": "code",
   "execution_count": 122,
   "metadata": {},
   "outputs": [],
   "source": [
    "def weekly_nfl_df(pos, week):\n",
    "    \"\"\"\n",
    "    Fetches weekly NFL player data from Yahoo Fantasy Sports based on position and week, \n",
    "    and returns a cleaned DataFrame with separate 'Name', 'Team', and 'Pos' columns.\n",
    "\n",
    "    Args:\n",
    "        pos (str): The position to filter the data by (e.g., 'QB', 'RB', 'WR').\n",
    "        week (int): The week of the NFL season to fetch data for.\n",
    "\n",
    "    Returns:\n",
    "        pd.DataFrame: A cleaned DataFrame with columns 'Name', 'Team', and 'Pos' \n",
    "                      containing player details from the Yahoo Fantasy Sports page.\n",
    "\n",
    "    Raises:\n",
    "        requests.exceptions.RequestException: If there is an issue with the HTTP request.\n",
    "    \"\"\"\n",
    "    try:\n",
    "        url = f\"https://football.fantasysports.yahoo.com/f1/whoshot?pos={pos}&week={week}\"\n",
    "        res = requests.get(url)\n",
    "        res.raise_for_status()  \n",
    "\n",
    "        info = pd.read_html(res.text)\n",
    "        return clean_nfl_df(info)\n",
    "    \n",
    "    except requests.exceptions.RequestException as err:\n",
    "        print(f\"Request error: {err}\")\n",
    "        raise\n"
   ]
  },
  {
   "cell_type": "code",
   "execution_count": 123,
   "metadata": {},
   "outputs": [
    {
     "name": "stderr",
     "output_type": "stream",
     "text": [
      "/var/folders/nv/_dmndl2x6t94h6p46lbwrl180000gn/T/ipykernel_33373/3025358844.py:22: FutureWarning:\n",
      "\n",
      "Passing literal html to 'read_html' is deprecated and will be removed in a future version. To read from a literal string, wrap it in a 'StringIO' object.\n",
      "\n"
     ]
    },
    {
     "data": {
      "text/html": [
       "<div>\n",
       "<style scoped>\n",
       "    .dataframe tbody tr th:only-of-type {\n",
       "        vertical-align: middle;\n",
       "    }\n",
       "\n",
       "    .dataframe tbody tr th {\n",
       "        vertical-align: top;\n",
       "    }\n",
       "\n",
       "    .dataframe thead th {\n",
       "        text-align: right;\n",
       "    }\n",
       "</style>\n",
       "<table border=\"1\" class=\"dataframe\">\n",
       "  <thead>\n",
       "    <tr style=\"text-align: right;\">\n",
       "      <th></th>\n",
       "      <th>Name</th>\n",
       "      <th>Team</th>\n",
       "      <th>Pos</th>\n",
       "      <th>Rush Yds</th>\n",
       "      <th>Rush TD</th>\n",
       "      <th>Rec</th>\n",
       "      <th>Fan Pts</th>\n",
       "      <th>Pass Yds</th>\n",
       "      <th>Pass TD</th>\n",
       "      <th>Rec Yds</th>\n",
       "      <th>Rec TD</th>\n",
       "      <th>Int</th>\n",
       "      <th>FG 20-29</th>\n",
       "      <th>FG 30-39</th>\n",
       "      <th>FG 40-49</th>\n",
       "      <th>FG 50+</th>\n",
       "      <th>PAT Made</th>\n",
       "    </tr>\n",
       "  </thead>\n",
       "  <tbody>\n",
       "    <tr>\n",
       "      <th>0</th>\n",
       "      <td>Alvin Kamara</td>\n",
       "      <td>NO</td>\n",
       "      <td>RB</td>\n",
       "      <td>115</td>\n",
       "      <td>3</td>\n",
       "      <td>2</td>\n",
       "      <td>43.00</td>\n",
       "      <td>N/A</td>\n",
       "      <td>N/A</td>\n",
       "      <td>N/A</td>\n",
       "      <td>N/A</td>\n",
       "      <td>N/A</td>\n",
       "      <td>N/A</td>\n",
       "      <td>N/A</td>\n",
       "      <td>N/A</td>\n",
       "      <td>N/A</td>\n",
       "      <td>N/A</td>\n",
       "    </tr>\n",
       "    <tr>\n",
       "      <th>1</th>\n",
       "      <td>Kyler Murray</td>\n",
       "      <td>Ari</td>\n",
       "      <td>QB</td>\n",
       "      <td>59</td>\n",
       "      <td>N/A</td>\n",
       "      <td>N/A</td>\n",
       "      <td>28.54</td>\n",
       "      <td>266</td>\n",
       "      <td>3</td>\n",
       "      <td>N/A</td>\n",
       "      <td>N/A</td>\n",
       "      <td>N/A</td>\n",
       "      <td>N/A</td>\n",
       "      <td>N/A</td>\n",
       "      <td>N/A</td>\n",
       "      <td>N/A</td>\n",
       "      <td>N/A</td>\n",
       "    </tr>\n",
       "    <tr>\n",
       "      <th>2</th>\n",
       "      <td>James Cook</td>\n",
       "      <td>Buf</td>\n",
       "      <td>RB</td>\n",
       "      <td>78</td>\n",
       "      <td>2</td>\n",
       "      <td>1</td>\n",
       "      <td>28.00</td>\n",
       "      <td>N/A</td>\n",
       "      <td>N/A</td>\n",
       "      <td>N/A</td>\n",
       "      <td>N/A</td>\n",
       "      <td>N/A</td>\n",
       "      <td>N/A</td>\n",
       "      <td>N/A</td>\n",
       "      <td>N/A</td>\n",
       "      <td>N/A</td>\n",
       "      <td>N/A</td>\n",
       "    </tr>\n",
       "    <tr>\n",
       "      <th>3</th>\n",
       "      <td>Marvin Harrison Jr.</td>\n",
       "      <td>Ari</td>\n",
       "      <td>WR</td>\n",
       "      <td>N/A</td>\n",
       "      <td>N/A</td>\n",
       "      <td>4</td>\n",
       "      <td>27.00</td>\n",
       "      <td>N/A</td>\n",
       "      <td>N/A</td>\n",
       "      <td>130</td>\n",
       "      <td>2</td>\n",
       "      <td>N/A</td>\n",
       "      <td>N/A</td>\n",
       "      <td>N/A</td>\n",
       "      <td>N/A</td>\n",
       "      <td>N/A</td>\n",
       "      <td>N/A</td>\n",
       "    </tr>\n",
       "    <tr>\n",
       "      <th>4</th>\n",
       "      <td>De'Von Achane</td>\n",
       "      <td>Mia</td>\n",
       "      <td>RB</td>\n",
       "      <td>96</td>\n",
       "      <td>N/A</td>\n",
       "      <td>7</td>\n",
       "      <td>26.00</td>\n",
       "      <td>N/A</td>\n",
       "      <td>N/A</td>\n",
       "      <td>69</td>\n",
       "      <td>N/A</td>\n",
       "      <td>N/A</td>\n",
       "      <td>N/A</td>\n",
       "      <td>N/A</td>\n",
       "      <td>N/A</td>\n",
       "      <td>N/A</td>\n",
       "      <td>N/A</td>\n",
       "    </tr>\n",
       "    <tr>\n",
       "      <th>5</th>\n",
       "      <td>Jalen Hurts</td>\n",
       "      <td>Phi</td>\n",
       "      <td>QB</td>\n",
       "      <td>N/A</td>\n",
       "      <td>N/A</td>\n",
       "      <td>N/A</td>\n",
       "      <td>24.82</td>\n",
       "      <td>183</td>\n",
       "      <td>1</td>\n",
       "      <td>N/A</td>\n",
       "      <td>N/A</td>\n",
       "      <td>1</td>\n",
       "      <td>N/A</td>\n",
       "      <td>N/A</td>\n",
       "      <td>N/A</td>\n",
       "      <td>N/A</td>\n",
       "      <td>N/A</td>\n",
       "    </tr>\n",
       "    <tr>\n",
       "      <th>6</th>\n",
       "      <td>DK Metcalf</td>\n",
       "      <td>Sea</td>\n",
       "      <td>WR</td>\n",
       "      <td>N/A</td>\n",
       "      <td>N/A</td>\n",
       "      <td>10</td>\n",
       "      <td>23.90</td>\n",
       "      <td>N/A</td>\n",
       "      <td>N/A</td>\n",
       "      <td>129</td>\n",
       "      <td>1</td>\n",
       "      <td>N/A</td>\n",
       "      <td>N/A</td>\n",
       "      <td>N/A</td>\n",
       "      <td>N/A</td>\n",
       "      <td>N/A</td>\n",
       "      <td>N/A</td>\n",
       "    </tr>\n",
       "    <tr>\n",
       "      <th>7</th>\n",
       "      <td>Malik Nabers</td>\n",
       "      <td>NYG</td>\n",
       "      <td>WR</td>\n",
       "      <td>N/A</td>\n",
       "      <td>N/A</td>\n",
       "      <td>10</td>\n",
       "      <td>23.70</td>\n",
       "      <td>N/A</td>\n",
       "      <td>N/A</td>\n",
       "      <td>127</td>\n",
       "      <td>1</td>\n",
       "      <td>N/A</td>\n",
       "      <td>N/A</td>\n",
       "      <td>N/A</td>\n",
       "      <td>N/A</td>\n",
       "      <td>N/A</td>\n",
       "      <td>N/A</td>\n",
       "    </tr>\n",
       "    <tr>\n",
       "      <th>8</th>\n",
       "      <td>Nico Collins</td>\n",
       "      <td>Hou</td>\n",
       "      <td>WR</td>\n",
       "      <td>N/A</td>\n",
       "      <td>N/A</td>\n",
       "      <td>8</td>\n",
       "      <td>23.50</td>\n",
       "      <td>N/A</td>\n",
       "      <td>N/A</td>\n",
       "      <td>135</td>\n",
       "      <td>1</td>\n",
       "      <td>N/A</td>\n",
       "      <td>N/A</td>\n",
       "      <td>N/A</td>\n",
       "      <td>N/A</td>\n",
       "      <td>N/A</td>\n",
       "      <td>N/A</td>\n",
       "    </tr>\n",
       "    <tr>\n",
       "      <th>9</th>\n",
       "      <td>Derek Carr</td>\n",
       "      <td>NO</td>\n",
       "      <td>QB</td>\n",
       "      <td>N/A</td>\n",
       "      <td>N/A</td>\n",
       "      <td>N/A</td>\n",
       "      <td>22.82</td>\n",
       "      <td>243</td>\n",
       "      <td>2</td>\n",
       "      <td>N/A</td>\n",
       "      <td>N/A</td>\n",
       "      <td>1</td>\n",
       "      <td>N/A</td>\n",
       "      <td>N/A</td>\n",
       "      <td>N/A</td>\n",
       "      <td>N/A</td>\n",
       "      <td>N/A</td>\n",
       "    </tr>\n",
       "    <tr>\n",
       "      <th>10</th>\n",
       "      <td>Calvin Ridley</td>\n",
       "      <td>Ten</td>\n",
       "      <td>WR</td>\n",
       "      <td>10</td>\n",
       "      <td>1</td>\n",
       "      <td>4</td>\n",
       "      <td>22.70</td>\n",
       "      <td>N/A</td>\n",
       "      <td>N/A</td>\n",
       "      <td>N/A</td>\n",
       "      <td>N/A</td>\n",
       "      <td>N/A</td>\n",
       "      <td>N/A</td>\n",
       "      <td>N/A</td>\n",
       "      <td>N/A</td>\n",
       "      <td>N/A</td>\n",
       "      <td>N/A</td>\n",
       "    </tr>\n",
       "    <tr>\n",
       "      <th>11</th>\n",
       "      <td>Austin Seibert</td>\n",
       "      <td>Was</td>\n",
       "      <td>K</td>\n",
       "      <td>N/A</td>\n",
       "      <td>N/A</td>\n",
       "      <td>N/A</td>\n",
       "      <td>22.00</td>\n",
       "      <td>N/A</td>\n",
       "      <td>N/A</td>\n",
       "      <td>N/A</td>\n",
       "      <td>N/A</td>\n",
       "      <td>N/A</td>\n",
       "      <td>4</td>\n",
       "      <td>2</td>\n",
       "      <td>1</td>\n",
       "      <td>N/A</td>\n",
       "      <td>N/A</td>\n",
       "    </tr>\n",
       "    <tr>\n",
       "      <th>12</th>\n",
       "      <td>Davante Adams</td>\n",
       "      <td>LV</td>\n",
       "      <td>WR</td>\n",
       "      <td>N/A</td>\n",
       "      <td>N/A</td>\n",
       "      <td>9</td>\n",
       "      <td>21.50</td>\n",
       "      <td>N/A</td>\n",
       "      <td>N/A</td>\n",
       "      <td>110</td>\n",
       "      <td>1</td>\n",
       "      <td>N/A</td>\n",
       "      <td>N/A</td>\n",
       "      <td>N/A</td>\n",
       "      <td>N/A</td>\n",
       "      <td>N/A</td>\n",
       "      <td>N/A</td>\n",
       "    </tr>\n",
       "    <tr>\n",
       "      <th>13</th>\n",
       "      <td>Justin Jefferson</td>\n",
       "      <td>Min</td>\n",
       "      <td>WR</td>\n",
       "      <td>N/A</td>\n",
       "      <td>N/A</td>\n",
       "      <td>4</td>\n",
       "      <td>21.30</td>\n",
       "      <td>N/A</td>\n",
       "      <td>N/A</td>\n",
       "      <td>133</td>\n",
       "      <td>1</td>\n",
       "      <td>N/A</td>\n",
       "      <td>N/A</td>\n",
       "      <td>N/A</td>\n",
       "      <td>N/A</td>\n",
       "      <td>N/A</td>\n",
       "      <td>N/A</td>\n",
       "    </tr>\n",
       "    <tr>\n",
       "      <th>14</th>\n",
       "      <td>Chris Godwin</td>\n",
       "      <td>TB</td>\n",
       "      <td>WR</td>\n",
       "      <td>N/A</td>\n",
       "      <td>N/A</td>\n",
       "      <td>7</td>\n",
       "      <td>21.20</td>\n",
       "      <td>N/A</td>\n",
       "      <td>N/A</td>\n",
       "      <td>117</td>\n",
       "      <td>1</td>\n",
       "      <td>N/A</td>\n",
       "      <td>N/A</td>\n",
       "      <td>N/A</td>\n",
       "      <td>N/A</td>\n",
       "      <td>N/A</td>\n",
       "      <td>N/A</td>\n",
       "    </tr>\n",
       "    <tr>\n",
       "      <th>15</th>\n",
       "      <td>Sam Darnold</td>\n",
       "      <td>Min</td>\n",
       "      <td>QB</td>\n",
       "      <td>N/A</td>\n",
       "      <td>N/A</td>\n",
       "      <td>N/A</td>\n",
       "      <td>20.92</td>\n",
       "      <td>268</td>\n",
       "      <td>2</td>\n",
       "      <td>N/A</td>\n",
       "      <td>N/A</td>\n",
       "      <td>1</td>\n",
       "      <td>N/A</td>\n",
       "      <td>N/A</td>\n",
       "      <td>N/A</td>\n",
       "      <td>N/A</td>\n",
       "      <td>N/A</td>\n",
       "    </tr>\n",
       "    <tr>\n",
       "      <th>16</th>\n",
       "      <td>Breece Hall</td>\n",
       "      <td>NYJ</td>\n",
       "      <td>RB</td>\n",
       "      <td>62</td>\n",
       "      <td>N/A</td>\n",
       "      <td>7</td>\n",
       "      <td>20.90</td>\n",
       "      <td>N/A</td>\n",
       "      <td>N/A</td>\n",
       "      <td>52</td>\n",
       "      <td>N/A</td>\n",
       "      <td>N/A</td>\n",
       "      <td>N/A</td>\n",
       "      <td>N/A</td>\n",
       "      <td>N/A</td>\n",
       "      <td>N/A</td>\n",
       "      <td>N/A</td>\n",
       "    </tr>\n",
       "    <tr>\n",
       "      <th>17</th>\n",
       "      <td>Ka'imi Fairbairn</td>\n",
       "      <td>Hou</td>\n",
       "      <td>K</td>\n",
       "      <td>N/A</td>\n",
       "      <td>N/A</td>\n",
       "      <td>N/A</td>\n",
       "      <td>20.00</td>\n",
       "      <td>N/A</td>\n",
       "      <td>N/A</td>\n",
       "      <td>N/A</td>\n",
       "      <td>N/A</td>\n",
       "      <td>N/A</td>\n",
       "      <td>N/A</td>\n",
       "      <td>N/A</td>\n",
       "      <td>1</td>\n",
       "      <td>3</td>\n",
       "      <td>1</td>\n",
       "    </tr>\n",
       "    <tr>\n",
       "      <th>18</th>\n",
       "      <td>Baker Mayfield</td>\n",
       "      <td>TB</td>\n",
       "      <td>QB</td>\n",
       "      <td>N/A</td>\n",
       "      <td>N/A</td>\n",
       "      <td>N/A</td>\n",
       "      <td>19.80</td>\n",
       "      <td>185</td>\n",
       "      <td>1</td>\n",
       "      <td>N/A</td>\n",
       "      <td>N/A</td>\n",
       "      <td>1</td>\n",
       "      <td>N/A</td>\n",
       "      <td>N/A</td>\n",
       "      <td>N/A</td>\n",
       "      <td>N/A</td>\n",
       "      <td>N/A</td>\n",
       "    </tr>\n",
       "    <tr>\n",
       "      <th>19</th>\n",
       "      <td>J.K. Dobbins</td>\n",
       "      <td>LAC</td>\n",
       "      <td>RB</td>\n",
       "      <td>131</td>\n",
       "      <td>1</td>\n",
       "      <td>1</td>\n",
       "      <td>19.60</td>\n",
       "      <td>N/A</td>\n",
       "      <td>N/A</td>\n",
       "      <td>N/A</td>\n",
       "      <td>N/A</td>\n",
       "      <td>N/A</td>\n",
       "      <td>N/A</td>\n",
       "      <td>N/A</td>\n",
       "      <td>N/A</td>\n",
       "      <td>N/A</td>\n",
       "      <td>N/A</td>\n",
       "    </tr>\n",
       "    <tr>\n",
       "      <th>20</th>\n",
       "      <td>Quentin Johnston</td>\n",
       "      <td>LAC</td>\n",
       "      <td>WR</td>\n",
       "      <td>N/A</td>\n",
       "      <td>N/A</td>\n",
       "      <td>5</td>\n",
       "      <td>19.60</td>\n",
       "      <td>N/A</td>\n",
       "      <td>N/A</td>\n",
       "      <td>51</td>\n",
       "      <td>2</td>\n",
       "      <td>N/A</td>\n",
       "      <td>N/A</td>\n",
       "      <td>N/A</td>\n",
       "      <td>N/A</td>\n",
       "      <td>N/A</td>\n",
       "      <td>N/A</td>\n",
       "    </tr>\n",
       "    <tr>\n",
       "      <th>21</th>\n",
       "      <td>James Conner</td>\n",
       "      <td>Ari</td>\n",
       "      <td>RB</td>\n",
       "      <td>122</td>\n",
       "      <td>1</td>\n",
       "      <td>1</td>\n",
       "      <td>18.90</td>\n",
       "      <td>N/A</td>\n",
       "      <td>N/A</td>\n",
       "      <td>N/A</td>\n",
       "      <td>N/A</td>\n",
       "      <td>N/A</td>\n",
       "      <td>N/A</td>\n",
       "      <td>N/A</td>\n",
       "      <td>N/A</td>\n",
       "      <td>N/A</td>\n",
       "      <td>N/A</td>\n",
       "    </tr>\n",
       "    <tr>\n",
       "      <th>22</th>\n",
       "      <td>Rashid Shaheed</td>\n",
       "      <td>NO</td>\n",
       "      <td>WR</td>\n",
       "      <td>13</td>\n",
       "      <td>N/A</td>\n",
       "      <td>4</td>\n",
       "      <td>18.90</td>\n",
       "      <td>N/A</td>\n",
       "      <td>N/A</td>\n",
       "      <td>96</td>\n",
       "      <td>N/A</td>\n",
       "      <td>N/A</td>\n",
       "      <td>N/A</td>\n",
       "      <td>N/A</td>\n",
       "      <td>N/A</td>\n",
       "      <td>N/A</td>\n",
       "      <td>N/A</td>\n",
       "    </tr>\n",
       "    <tr>\n",
       "      <th>23</th>\n",
       "      <td>Braelon Allen</td>\n",
       "      <td>NYJ</td>\n",
       "      <td>RB</td>\n",
       "      <td>33</td>\n",
       "      <td>1</td>\n",
       "      <td>2</td>\n",
       "      <td>18.60</td>\n",
       "      <td>N/A</td>\n",
       "      <td>N/A</td>\n",
       "      <td>N/A</td>\n",
       "      <td>N/A</td>\n",
       "      <td>N/A</td>\n",
       "      <td>N/A</td>\n",
       "      <td>N/A</td>\n",
       "      <td>N/A</td>\n",
       "      <td>N/A</td>\n",
       "      <td>N/A</td>\n",
       "    </tr>\n",
       "    <tr>\n",
       "      <th>24</th>\n",
       "      <td>Zay Flowers</td>\n",
       "      <td>Bal</td>\n",
       "      <td>WR</td>\n",
       "      <td>N/A</td>\n",
       "      <td>N/A</td>\n",
       "      <td>7</td>\n",
       "      <td>18.60</td>\n",
       "      <td>N/A</td>\n",
       "      <td>N/A</td>\n",
       "      <td>91</td>\n",
       "      <td>1</td>\n",
       "      <td>N/A</td>\n",
       "      <td>N/A</td>\n",
       "      <td>N/A</td>\n",
       "      <td>N/A</td>\n",
       "      <td>N/A</td>\n",
       "      <td>N/A</td>\n",
       "    </tr>\n",
       "  </tbody>\n",
       "</table>\n",
       "</div>"
      ],
      "text/plain": [
       "                   Name Team Pos Rush Yds Rush TD  Rec  Fan Pts Pass Yds  \\\n",
       "0          Alvin Kamara   NO  RB      115       3    2    43.00      N/A   \n",
       "1          Kyler Murray  Ari  QB       59     N/A  N/A    28.54      266   \n",
       "2            James Cook  Buf  RB       78       2    1    28.00      N/A   \n",
       "3   Marvin Harrison Jr.  Ari  WR      N/A     N/A    4    27.00      N/A   \n",
       "4         De'Von Achane  Mia  RB       96     N/A    7    26.00      N/A   \n",
       "5           Jalen Hurts  Phi  QB      N/A     N/A  N/A    24.82      183   \n",
       "6            DK Metcalf  Sea  WR      N/A     N/A   10    23.90      N/A   \n",
       "7          Malik Nabers  NYG  WR      N/A     N/A   10    23.70      N/A   \n",
       "8          Nico Collins  Hou  WR      N/A     N/A    8    23.50      N/A   \n",
       "9            Derek Carr   NO  QB      N/A     N/A  N/A    22.82      243   \n",
       "10        Calvin Ridley  Ten  WR       10       1    4    22.70      N/A   \n",
       "11       Austin Seibert  Was   K      N/A     N/A  N/A    22.00      N/A   \n",
       "12        Davante Adams   LV  WR      N/A     N/A    9    21.50      N/A   \n",
       "13     Justin Jefferson  Min  WR      N/A     N/A    4    21.30      N/A   \n",
       "14         Chris Godwin   TB  WR      N/A     N/A    7    21.20      N/A   \n",
       "15          Sam Darnold  Min  QB      N/A     N/A  N/A    20.92      268   \n",
       "16          Breece Hall  NYJ  RB       62     N/A    7    20.90      N/A   \n",
       "17     Ka'imi Fairbairn  Hou   K      N/A     N/A  N/A    20.00      N/A   \n",
       "18       Baker Mayfield   TB  QB      N/A     N/A  N/A    19.80      185   \n",
       "19         J.K. Dobbins  LAC  RB      131       1    1    19.60      N/A   \n",
       "20     Quentin Johnston  LAC  WR      N/A     N/A    5    19.60      N/A   \n",
       "21         James Conner  Ari  RB      122       1    1    18.90      N/A   \n",
       "22       Rashid Shaheed   NO  WR       13     N/A    4    18.90      N/A   \n",
       "23        Braelon Allen  NYJ  RB       33       1    2    18.60      N/A   \n",
       "24          Zay Flowers  Bal  WR      N/A     N/A    7    18.60      N/A   \n",
       "\n",
       "   Pass TD Rec Yds Rec TD  Int FG 20-29 FG 30-39 FG 40-49 FG 50+ PAT Made  \n",
       "0      N/A     N/A    N/A  N/A      N/A      N/A      N/A    N/A      N/A  \n",
       "1        3     N/A    N/A  N/A      N/A      N/A      N/A    N/A      N/A  \n",
       "2      N/A     N/A    N/A  N/A      N/A      N/A      N/A    N/A      N/A  \n",
       "3      N/A     130      2  N/A      N/A      N/A      N/A    N/A      N/A  \n",
       "4      N/A      69    N/A  N/A      N/A      N/A      N/A    N/A      N/A  \n",
       "5        1     N/A    N/A    1      N/A      N/A      N/A    N/A      N/A  \n",
       "6      N/A     129      1  N/A      N/A      N/A      N/A    N/A      N/A  \n",
       "7      N/A     127      1  N/A      N/A      N/A      N/A    N/A      N/A  \n",
       "8      N/A     135      1  N/A      N/A      N/A      N/A    N/A      N/A  \n",
       "9        2     N/A    N/A    1      N/A      N/A      N/A    N/A      N/A  \n",
       "10     N/A     N/A    N/A  N/A      N/A      N/A      N/A    N/A      N/A  \n",
       "11     N/A     N/A    N/A  N/A        4        2        1    N/A      N/A  \n",
       "12     N/A     110      1  N/A      N/A      N/A      N/A    N/A      N/A  \n",
       "13     N/A     133      1  N/A      N/A      N/A      N/A    N/A      N/A  \n",
       "14     N/A     117      1  N/A      N/A      N/A      N/A    N/A      N/A  \n",
       "15       2     N/A    N/A    1      N/A      N/A      N/A    N/A      N/A  \n",
       "16     N/A      52    N/A  N/A      N/A      N/A      N/A    N/A      N/A  \n",
       "17     N/A     N/A    N/A  N/A      N/A      N/A        1      3        1  \n",
       "18       1     N/A    N/A    1      N/A      N/A      N/A    N/A      N/A  \n",
       "19     N/A     N/A    N/A  N/A      N/A      N/A      N/A    N/A      N/A  \n",
       "20     N/A      51      2  N/A      N/A      N/A      N/A    N/A      N/A  \n",
       "21     N/A     N/A    N/A  N/A      N/A      N/A      N/A    N/A      N/A  \n",
       "22     N/A      96    N/A  N/A      N/A      N/A      N/A    N/A      N/A  \n",
       "23     N/A     N/A    N/A  N/A      N/A      N/A      N/A    N/A      N/A  \n",
       "24     N/A      91      1  N/A      N/A      N/A      N/A    N/A      N/A  "
      ]
     },
     "execution_count": 123,
     "metadata": {},
     "output_type": "execute_result"
    }
   ],
   "source": [
    "weekly_nfl_df(\"ALL\",2)"
   ]
  },
  {
   "cell_type": "markdown",
   "metadata": {},
   "source": [
    "## Part 3.4: Using the function (5 points)\n",
    "\n",
    "Use your `weekly_nfl_df()` function from Part 2.3 to create a single data frame that includes the top fantasy Quarterbacks (`pos = 'QB'`) for the first 3 weeks of this season. **Note**: there may be multiple ways to do this, and you **must** wait until the morning of September 24 to be able to do all three weeks."
   ]
  },
  {
   "cell_type": "code",
   "execution_count": 124,
   "metadata": {},
   "outputs": [
    {
     "name": "stderr",
     "output_type": "stream",
     "text": [
      "/var/folders/nv/_dmndl2x6t94h6p46lbwrl180000gn/T/ipykernel_33373/3025358844.py:22: FutureWarning:\n",
      "\n",
      "Passing literal html to 'read_html' is deprecated and will be removed in a future version. To read from a literal string, wrap it in a 'StringIO' object.\n",
      "\n"
     ]
    },
    {
     "data": {
      "text/html": [
       "<div>\n",
       "<style scoped>\n",
       "    .dataframe tbody tr th:only-of-type {\n",
       "        vertical-align: middle;\n",
       "    }\n",
       "\n",
       "    .dataframe tbody tr th {\n",
       "        vertical-align: top;\n",
       "    }\n",
       "\n",
       "    .dataframe thead th {\n",
       "        text-align: right;\n",
       "    }\n",
       "</style>\n",
       "<table border=\"1\" class=\"dataframe\">\n",
       "  <thead>\n",
       "    <tr style=\"text-align: right;\">\n",
       "      <th></th>\n",
       "      <th>Name</th>\n",
       "      <th>Team</th>\n",
       "      <th>Pos</th>\n",
       "      <th>Pass Yds</th>\n",
       "      <th>Pass TD</th>\n",
       "      <th>Rush Yds</th>\n",
       "      <th>Fan Pts</th>\n",
       "      <th>Int</th>\n",
       "      <th>Rush TD</th>\n",
       "    </tr>\n",
       "  </thead>\n",
       "  <tbody>\n",
       "    <tr>\n",
       "      <th>0</th>\n",
       "      <td>Kyler Murray</td>\n",
       "      <td>Ari</td>\n",
       "      <td>QB</td>\n",
       "      <td>266</td>\n",
       "      <td>3</td>\n",
       "      <td>59</td>\n",
       "      <td>28.54</td>\n",
       "      <td>N/A</td>\n",
       "      <td>N/A</td>\n",
       "    </tr>\n",
       "    <tr>\n",
       "      <th>1</th>\n",
       "      <td>Jalen Hurts</td>\n",
       "      <td>Phi</td>\n",
       "      <td>QB</td>\n",
       "      <td>183</td>\n",
       "      <td>1</td>\n",
       "      <td>N/A</td>\n",
       "      <td>24.82</td>\n",
       "      <td>1</td>\n",
       "      <td>N/A</td>\n",
       "    </tr>\n",
       "    <tr>\n",
       "      <th>2</th>\n",
       "      <td>Derek Carr</td>\n",
       "      <td>NO</td>\n",
       "      <td>QB</td>\n",
       "      <td>243</td>\n",
       "      <td>2</td>\n",
       "      <td>N/A</td>\n",
       "      <td>22.82</td>\n",
       "      <td>1</td>\n",
       "      <td>N/A</td>\n",
       "    </tr>\n",
       "    <tr>\n",
       "      <th>3</th>\n",
       "      <td>Sam Darnold</td>\n",
       "      <td>Min</td>\n",
       "      <td>QB</td>\n",
       "      <td>268</td>\n",
       "      <td>2</td>\n",
       "      <td>N/A</td>\n",
       "      <td>20.92</td>\n",
       "      <td>1</td>\n",
       "      <td>N/A</td>\n",
       "    </tr>\n",
       "    <tr>\n",
       "      <th>4</th>\n",
       "      <td>Baker Mayfield</td>\n",
       "      <td>TB</td>\n",
       "      <td>QB</td>\n",
       "      <td>185</td>\n",
       "      <td>1</td>\n",
       "      <td>N/A</td>\n",
       "      <td>19.80</td>\n",
       "      <td>1</td>\n",
       "      <td>N/A</td>\n",
       "    </tr>\n",
       "    <tr>\n",
       "      <th>5</th>\n",
       "      <td>Daniel Jones</td>\n",
       "      <td>NYG</td>\n",
       "      <td>QB</td>\n",
       "      <td>178</td>\n",
       "      <td>2</td>\n",
       "      <td>32</td>\n",
       "      <td>18.32</td>\n",
       "      <td>N/A</td>\n",
       "      <td>N/A</td>\n",
       "    </tr>\n",
       "    <tr>\n",
       "      <th>6</th>\n",
       "      <td>Geno Smith</td>\n",
       "      <td>Sea</td>\n",
       "      <td>QB</td>\n",
       "      <td>327</td>\n",
       "      <td>1</td>\n",
       "      <td>8</td>\n",
       "      <td>17.88</td>\n",
       "      <td>N/A</td>\n",
       "      <td>N/A</td>\n",
       "    </tr>\n",
       "    <tr>\n",
       "      <th>7</th>\n",
       "      <td>Kirk Cousins</td>\n",
       "      <td>Atl</td>\n",
       "      <td>QB</td>\n",
       "      <td>241</td>\n",
       "      <td>2</td>\n",
       "      <td>-1</td>\n",
       "      <td>17.54</td>\n",
       "      <td>N/A</td>\n",
       "      <td>N/A</td>\n",
       "    </tr>\n",
       "    <tr>\n",
       "      <th>8</th>\n",
       "      <td>Lamar Jackson</td>\n",
       "      <td>Bal</td>\n",
       "      <td>QB</td>\n",
       "      <td>247</td>\n",
       "      <td>1</td>\n",
       "      <td>N/A</td>\n",
       "      <td>17.38</td>\n",
       "      <td>1</td>\n",
       "      <td>N/A</td>\n",
       "    </tr>\n",
       "    <tr>\n",
       "      <th>9</th>\n",
       "      <td>Joe Burrow</td>\n",
       "      <td>Cin</td>\n",
       "      <td>QB</td>\n",
       "      <td>258</td>\n",
       "      <td>2</td>\n",
       "      <td>9</td>\n",
       "      <td>17.22</td>\n",
       "      <td>N/A</td>\n",
       "      <td>N/A</td>\n",
       "    </tr>\n",
       "    <tr>\n",
       "      <th>10</th>\n",
       "      <td>Deshaun Watson</td>\n",
       "      <td>Cle</td>\n",
       "      <td>QB</td>\n",
       "      <td>186</td>\n",
       "      <td>N/A</td>\n",
       "      <td>20</td>\n",
       "      <td>15.44</td>\n",
       "      <td>N/A</td>\n",
       "      <td>1</td>\n",
       "    </tr>\n",
       "    <tr>\n",
       "      <th>11</th>\n",
       "      <td>Aaron Rodgers</td>\n",
       "      <td>NYJ</td>\n",
       "      <td>QB</td>\n",
       "      <td>176</td>\n",
       "      <td>2</td>\n",
       "      <td>1</td>\n",
       "      <td>15.14</td>\n",
       "      <td>N/A</td>\n",
       "      <td>N/A</td>\n",
       "    </tr>\n",
       "    <tr>\n",
       "      <th>12</th>\n",
       "      <td>Brock Purdy</td>\n",
       "      <td>SF</td>\n",
       "      <td>QB</td>\n",
       "      <td>319</td>\n",
       "      <td>1</td>\n",
       "      <td>N/A</td>\n",
       "      <td>14.96</td>\n",
       "      <td>1</td>\n",
       "      <td>N/A</td>\n",
       "    </tr>\n",
       "    <tr>\n",
       "      <th>13</th>\n",
       "      <td>Patrick Mahomes</td>\n",
       "      <td>KC</td>\n",
       "      <td>QB</td>\n",
       "      <td>151</td>\n",
       "      <td>2</td>\n",
       "      <td>N/A</td>\n",
       "      <td>14.94</td>\n",
       "      <td>2</td>\n",
       "      <td>N/A</td>\n",
       "    </tr>\n",
       "    <tr>\n",
       "      <th>14</th>\n",
       "      <td>Dak Prescott</td>\n",
       "      <td>Dal</td>\n",
       "      <td>QB</td>\n",
       "      <td>293</td>\n",
       "      <td>1</td>\n",
       "      <td>N/A</td>\n",
       "      <td>14.92</td>\n",
       "      <td>2</td>\n",
       "      <td>N/A</td>\n",
       "    </tr>\n",
       "    <tr>\n",
       "      <th>15</th>\n",
       "      <td>C.J. Stroud</td>\n",
       "      <td>Hou</td>\n",
       "      <td>QB</td>\n",
       "      <td>260</td>\n",
       "      <td>1</td>\n",
       "      <td>-1</td>\n",
       "      <td>14.30</td>\n",
       "      <td>N/A</td>\n",
       "      <td>N/A</td>\n",
       "    </tr>\n",
       "    <tr>\n",
       "      <th>16</th>\n",
       "      <td>Gardner Minshew</td>\n",
       "      <td>IILV</td>\n",
       "      <td>QB</td>\n",
       "      <td>276</td>\n",
       "      <td>1</td>\n",
       "      <td>N/A</td>\n",
       "      <td>13.94</td>\n",
       "      <td>1</td>\n",
       "      <td>N/A</td>\n",
       "    </tr>\n",
       "    <tr>\n",
       "      <th>17</th>\n",
       "      <td>Jayden Daniels</td>\n",
       "      <td>Was</td>\n",
       "      <td>QB</td>\n",
       "      <td>226</td>\n",
       "      <td>N/A</td>\n",
       "      <td>44</td>\n",
       "      <td>13.44</td>\n",
       "      <td>N/A</td>\n",
       "      <td>N/A</td>\n",
       "    </tr>\n",
       "    <tr>\n",
       "      <th>18</th>\n",
       "      <td>Trevor Lawrence</td>\n",
       "      <td>Jax</td>\n",
       "      <td>QB</td>\n",
       "      <td>220</td>\n",
       "      <td>N/A</td>\n",
       "      <td>45</td>\n",
       "      <td>13.30</td>\n",
       "      <td>N/A</td>\n",
       "      <td>N/A</td>\n",
       "    </tr>\n",
       "    <tr>\n",
       "      <th>19</th>\n",
       "      <td>Malik Willis</td>\n",
       "      <td>GB</td>\n",
       "      <td>QB</td>\n",
       "      <td>122</td>\n",
       "      <td>1</td>\n",
       "      <td>41</td>\n",
       "      <td>12.98</td>\n",
       "      <td>N/A</td>\n",
       "      <td>N/A</td>\n",
       "    </tr>\n",
       "    <tr>\n",
       "      <th>20</th>\n",
       "      <td>Anthony Richardson</td>\n",
       "      <td>Ind</td>\n",
       "      <td>QB</td>\n",
       "      <td>204</td>\n",
       "      <td>1</td>\n",
       "      <td>N/A</td>\n",
       "      <td>12.86</td>\n",
       "      <td>3</td>\n",
       "      <td>N/A</td>\n",
       "    </tr>\n",
       "    <tr>\n",
       "      <th>21</th>\n",
       "      <td>Will Levis</td>\n",
       "      <td>Ten</td>\n",
       "      <td>QB</td>\n",
       "      <td>192</td>\n",
       "      <td>1</td>\n",
       "      <td>N/A</td>\n",
       "      <td>12.48</td>\n",
       "      <td>1</td>\n",
       "      <td>N/A</td>\n",
       "    </tr>\n",
       "    <tr>\n",
       "      <th>22</th>\n",
       "      <td>Justin Herbert</td>\n",
       "      <td>LAC</td>\n",
       "      <td>QB</td>\n",
       "      <td>130</td>\n",
       "      <td>2</td>\n",
       "      <td>N/A</td>\n",
       "      <td>12.00</td>\n",
       "      <td>1</td>\n",
       "      <td>N/A</td>\n",
       "    </tr>\n",
       "    <tr>\n",
       "      <th>23</th>\n",
       "      <td>Justin Fields</td>\n",
       "      <td>Pit</td>\n",
       "      <td>QB</td>\n",
       "      <td>117</td>\n",
       "      <td>1</td>\n",
       "      <td>27</td>\n",
       "      <td>11.38</td>\n",
       "      <td>N/A</td>\n",
       "      <td>N/A</td>\n",
       "    </tr>\n",
       "    <tr>\n",
       "      <th>24</th>\n",
       "      <td>Jared Goff</td>\n",
       "      <td>Det</td>\n",
       "      <td>QB</td>\n",
       "      <td>307</td>\n",
       "      <td>N/A</td>\n",
       "      <td>5</td>\n",
       "      <td>10.78</td>\n",
       "      <td>2</td>\n",
       "      <td>N/A</td>\n",
       "    </tr>\n",
       "  </tbody>\n",
       "</table>\n",
       "</div>"
      ],
      "text/plain": [
       "                  Name  Team Pos Pass Yds Pass TD Rush Yds  Fan Pts  Int  \\\n",
       "0         Kyler Murray   Ari  QB      266       3       59    28.54  N/A   \n",
       "1          Jalen Hurts   Phi  QB      183       1      N/A    24.82    1   \n",
       "2           Derek Carr    NO  QB      243       2      N/A    22.82    1   \n",
       "3          Sam Darnold   Min  QB      268       2      N/A    20.92    1   \n",
       "4       Baker Mayfield    TB  QB      185       1      N/A    19.80    1   \n",
       "5         Daniel Jones   NYG  QB      178       2       32    18.32  N/A   \n",
       "6           Geno Smith   Sea  QB      327       1        8    17.88  N/A   \n",
       "7         Kirk Cousins   Atl  QB      241       2       -1    17.54  N/A   \n",
       "8        Lamar Jackson   Bal  QB      247       1      N/A    17.38    1   \n",
       "9           Joe Burrow   Cin  QB      258       2        9    17.22  N/A   \n",
       "10      Deshaun Watson   Cle  QB      186     N/A       20    15.44  N/A   \n",
       "11       Aaron Rodgers   NYJ  QB      176       2        1    15.14  N/A   \n",
       "12         Brock Purdy    SF  QB      319       1      N/A    14.96    1   \n",
       "13     Patrick Mahomes    KC  QB      151       2      N/A    14.94    2   \n",
       "14        Dak Prescott   Dal  QB      293       1      N/A    14.92    2   \n",
       "15         C.J. Stroud   Hou  QB      260       1       -1    14.30  N/A   \n",
       "16     Gardner Minshew  IILV  QB      276       1      N/A    13.94    1   \n",
       "17      Jayden Daniels   Was  QB      226     N/A       44    13.44  N/A   \n",
       "18     Trevor Lawrence   Jax  QB      220     N/A       45    13.30  N/A   \n",
       "19        Malik Willis    GB  QB      122       1       41    12.98  N/A   \n",
       "20  Anthony Richardson   Ind  QB      204       1      N/A    12.86    3   \n",
       "21          Will Levis   Ten  QB      192       1      N/A    12.48    1   \n",
       "22      Justin Herbert   LAC  QB      130       2      N/A    12.00    1   \n",
       "23       Justin Fields   Pit  QB      117       1       27    11.38  N/A   \n",
       "24          Jared Goff   Det  QB      307     N/A        5    10.78    2   \n",
       "\n",
       "   Rush TD  \n",
       "0      N/A  \n",
       "1      N/A  \n",
       "2      N/A  \n",
       "3      N/A  \n",
       "4      N/A  \n",
       "5      N/A  \n",
       "6      N/A  \n",
       "7      N/A  \n",
       "8      N/A  \n",
       "9      N/A  \n",
       "10       1  \n",
       "11     N/A  \n",
       "12     N/A  \n",
       "13     N/A  \n",
       "14     N/A  \n",
       "15     N/A  \n",
       "16     N/A  \n",
       "17     N/A  \n",
       "18     N/A  \n",
       "19     N/A  \n",
       "20     N/A  \n",
       "21     N/A  \n",
       "22     N/A  \n",
       "23     N/A  \n",
       "24     N/A  "
      ]
     },
     "execution_count": 124,
     "metadata": {},
     "output_type": "execute_result"
    }
   ],
   "source": [
    "weekly_nfl_df(\"QB\",2)"
   ]
  },
  {
   "cell_type": "code",
   "execution_count": 125,
   "metadata": {},
   "outputs": [
    {
     "name": "stderr",
     "output_type": "stream",
     "text": [
      "/var/folders/nv/_dmndl2x6t94h6p46lbwrl180000gn/T/ipykernel_33373/3025358844.py:22: FutureWarning:\n",
      "\n",
      "Passing literal html to 'read_html' is deprecated and will be removed in a future version. To read from a literal string, wrap it in a 'StringIO' object.\n",
      "\n"
     ]
    },
    {
     "data": {
      "text/html": [
       "<div>\n",
       "<style scoped>\n",
       "    .dataframe tbody tr th:only-of-type {\n",
       "        vertical-align: middle;\n",
       "    }\n",
       "\n",
       "    .dataframe tbody tr th {\n",
       "        vertical-align: top;\n",
       "    }\n",
       "\n",
       "    .dataframe thead th {\n",
       "        text-align: right;\n",
       "    }\n",
       "</style>\n",
       "<table border=\"1\" class=\"dataframe\">\n",
       "  <thead>\n",
       "    <tr style=\"text-align: right;\">\n",
       "      <th></th>\n",
       "      <th>Name</th>\n",
       "      <th>Team</th>\n",
       "      <th>Pos</th>\n",
       "      <th>Pass Yds</th>\n",
       "      <th>Pass TD</th>\n",
       "      <th>Rush Yds</th>\n",
       "      <th>Fan Pts</th>\n",
       "      <th>Int</th>\n",
       "      <th>Rush TD</th>\n",
       "    </tr>\n",
       "  </thead>\n",
       "  <tbody>\n",
       "    <tr>\n",
       "      <th>0</th>\n",
       "      <td>Josh Allen</td>\n",
       "      <td>Buf</td>\n",
       "      <td>QB</td>\n",
       "      <td>263</td>\n",
       "      <td>4</td>\n",
       "      <td>44</td>\n",
       "      <td>30.92</td>\n",
       "      <td>N/A</td>\n",
       "      <td>N/A</td>\n",
       "    </tr>\n",
       "    <tr>\n",
       "      <th>1</th>\n",
       "      <td>Dak Prescott</td>\n",
       "      <td>Dal</td>\n",
       "      <td>QB</td>\n",
       "      <td>379</td>\n",
       "      <td>2</td>\n",
       "      <td>7</td>\n",
       "      <td>29.86</td>\n",
       "      <td>N/A</td>\n",
       "      <td>N/A</td>\n",
       "    </tr>\n",
       "    <tr>\n",
       "      <th>2</th>\n",
       "      <td>Jayden Daniels</td>\n",
       "      <td>Was</td>\n",
       "      <td>QB</td>\n",
       "      <td>254</td>\n",
       "      <td>2</td>\n",
       "      <td>39</td>\n",
       "      <td>28.06</td>\n",
       "      <td>N/A</td>\n",
       "      <td>N/A</td>\n",
       "    </tr>\n",
       "    <tr>\n",
       "      <th>3</th>\n",
       "      <td>Lamar Jackson</td>\n",
       "      <td>Bal</td>\n",
       "      <td>QB</td>\n",
       "      <td>182</td>\n",
       "      <td>1</td>\n",
       "      <td>87</td>\n",
       "      <td>25.98</td>\n",
       "      <td>N/A</td>\n",
       "      <td>N/A</td>\n",
       "    </tr>\n",
       "    <tr>\n",
       "      <th>4</th>\n",
       "      <td>Brock Purdy</td>\n",
       "      <td>SF</td>\n",
       "      <td>QB</td>\n",
       "      <td>292</td>\n",
       "      <td>3</td>\n",
       "      <td>41</td>\n",
       "      <td>25.78</td>\n",
       "      <td>N/A</td>\n",
       "      <td>N/A</td>\n",
       "    </tr>\n",
       "    <tr>\n",
       "      <th>5</th>\n",
       "      <td>Malik Willis</td>\n",
       "      <td>GB</td>\n",
       "      <td>QB</td>\n",
       "      <td>202</td>\n",
       "      <td>1</td>\n",
       "      <td>73</td>\n",
       "      <td>25.38</td>\n",
       "      <td>N/A</td>\n",
       "      <td>N/A</td>\n",
       "    </tr>\n",
       "    <tr>\n",
       "      <th>6</th>\n",
       "      <td>Joe Burrow</td>\n",
       "      <td>Cin</td>\n",
       "      <td>QB</td>\n",
       "      <td>324</td>\n",
       "      <td>3</td>\n",
       "      <td>4</td>\n",
       "      <td>25.36</td>\n",
       "      <td>N/A</td>\n",
       "      <td>N/A</td>\n",
       "    </tr>\n",
       "    <tr>\n",
       "      <th>7</th>\n",
       "      <td>Andy Dalton</td>\n",
       "      <td>Car</td>\n",
       "      <td>QB</td>\n",
       "      <td>319</td>\n",
       "      <td>3</td>\n",
       "      <td>-2</td>\n",
       "      <td>24.56</td>\n",
       "      <td>N/A</td>\n",
       "      <td>N/A</td>\n",
       "    </tr>\n",
       "    <tr>\n",
       "      <th>8</th>\n",
       "      <td>Sam Darnold</td>\n",
       "      <td>Min</td>\n",
       "      <td>QB</td>\n",
       "      <td>181</td>\n",
       "      <td>4</td>\n",
       "      <td>N/A</td>\n",
       "      <td>23.24</td>\n",
       "      <td>N/A</td>\n",
       "      <td>N/A</td>\n",
       "    </tr>\n",
       "    <tr>\n",
       "      <th>9</th>\n",
       "      <td>Aaron Rodgers</td>\n",
       "      <td>NYJ</td>\n",
       "      <td>QB</td>\n",
       "      <td>281</td>\n",
       "      <td>2</td>\n",
       "      <td>18</td>\n",
       "      <td>21.04</td>\n",
       "      <td>N/A</td>\n",
       "      <td>N/A</td>\n",
       "    </tr>\n",
       "    <tr>\n",
       "      <th>10</th>\n",
       "      <td>Daniel Jones</td>\n",
       "      <td>NYG</td>\n",
       "      <td>QB</td>\n",
       "      <td>236</td>\n",
       "      <td>2</td>\n",
       "      <td>20</td>\n",
       "      <td>19.44</td>\n",
       "      <td>N/A</td>\n",
       "      <td>N/A</td>\n",
       "    </tr>\n",
       "    <tr>\n",
       "      <th>11</th>\n",
       "      <td>Justin Fields</td>\n",
       "      <td>Pit</td>\n",
       "      <td>QB</td>\n",
       "      <td>245</td>\n",
       "      <td>1</td>\n",
       "      <td>N/A</td>\n",
       "      <td>19.40</td>\n",
       "      <td>1</td>\n",
       "      <td>N/A</td>\n",
       "    </tr>\n",
       "    <tr>\n",
       "      <th>12</th>\n",
       "      <td>Bo Nix</td>\n",
       "      <td>Den</td>\n",
       "      <td>QB</td>\n",
       "      <td>216</td>\n",
       "      <td>N/A</td>\n",
       "      <td>47</td>\n",
       "      <td>19.34</td>\n",
       "      <td>N/A</td>\n",
       "      <td>1</td>\n",
       "    </tr>\n",
       "    <tr>\n",
       "      <th>13</th>\n",
       "      <td>Caleb Williams</td>\n",
       "      <td>Chi</td>\n",
       "      <td>QB</td>\n",
       "      <td>363</td>\n",
       "      <td>2</td>\n",
       "      <td>N/A</td>\n",
       "      <td>19.32</td>\n",
       "      <td>2</td>\n",
       "      <td>N/A</td>\n",
       "    </tr>\n",
       "    <tr>\n",
       "      <th>14</th>\n",
       "      <td>Patrick Mahomes</td>\n",
       "      <td>KC</td>\n",
       "      <td>QB</td>\n",
       "      <td>217</td>\n",
       "      <td>2</td>\n",
       "      <td>N/A</td>\n",
       "      <td>17.38</td>\n",
       "      <td>1</td>\n",
       "      <td>N/A</td>\n",
       "    </tr>\n",
       "    <tr>\n",
       "      <th>15</th>\n",
       "      <td>Deshaun Watson</td>\n",
       "      <td>Cle</td>\n",
       "      <td>QB</td>\n",
       "      <td>196</td>\n",
       "      <td>2</td>\n",
       "      <td>26</td>\n",
       "      <td>16.44</td>\n",
       "      <td>N/A</td>\n",
       "      <td>N/A</td>\n",
       "    </tr>\n",
       "    <tr>\n",
       "      <th>16</th>\n",
       "      <td>Kyler Murray</td>\n",
       "      <td>Ari</td>\n",
       "      <td>QB</td>\n",
       "      <td>207</td>\n",
       "      <td>1</td>\n",
       "      <td>N/A</td>\n",
       "      <td>15.78</td>\n",
       "      <td>1</td>\n",
       "      <td>N/A</td>\n",
       "    </tr>\n",
       "    <tr>\n",
       "      <th>17</th>\n",
       "      <td>Will Levis</td>\n",
       "      <td>Ten</td>\n",
       "      <td>QB</td>\n",
       "      <td>260</td>\n",
       "      <td>2</td>\n",
       "      <td>N/A</td>\n",
       "      <td>15.60</td>\n",
       "      <td>2</td>\n",
       "      <td>N/A</td>\n",
       "    </tr>\n",
       "    <tr>\n",
       "      <th>18</th>\n",
       "      <td>Jared Goff</td>\n",
       "      <td>Det</td>\n",
       "      <td>QB</td>\n",
       "      <td>199</td>\n",
       "      <td>2</td>\n",
       "      <td>N/A</td>\n",
       "      <td>15.56</td>\n",
       "      <td>1</td>\n",
       "      <td>N/A</td>\n",
       "    </tr>\n",
       "    <tr>\n",
       "      <th>19</th>\n",
       "      <td>Gardner Minshew</td>\n",
       "      <td>IILV</td>\n",
       "      <td>QB</td>\n",
       "      <td>214</td>\n",
       "      <td>1</td>\n",
       "      <td>N/A</td>\n",
       "      <td>14.96</td>\n",
       "      <td>1</td>\n",
       "      <td>N/A</td>\n",
       "    </tr>\n",
       "    <tr>\n",
       "      <th>20</th>\n",
       "      <td>Geno Smith</td>\n",
       "      <td>Sea</td>\n",
       "      <td>QB</td>\n",
       "      <td>289</td>\n",
       "      <td>1</td>\n",
       "      <td>N/A</td>\n",
       "      <td>13.36</td>\n",
       "      <td>2</td>\n",
       "      <td>N/A</td>\n",
       "    </tr>\n",
       "    <tr>\n",
       "      <th>21</th>\n",
       "      <td>Matthew Stafford</td>\n",
       "      <td>LAR</td>\n",
       "      <td>QB</td>\n",
       "      <td>221</td>\n",
       "      <td>1</td>\n",
       "      <td>N/A</td>\n",
       "      <td>12.84</td>\n",
       "      <td>N/A</td>\n",
       "      <td>N/A</td>\n",
       "    </tr>\n",
       "    <tr>\n",
       "      <th>22</th>\n",
       "      <td>Kirk Cousins</td>\n",
       "      <td>Atl</td>\n",
       "      <td>QB</td>\n",
       "      <td>230</td>\n",
       "      <td>1</td>\n",
       "      <td>N/A</td>\n",
       "      <td>12.10</td>\n",
       "      <td>1</td>\n",
       "      <td>N/A</td>\n",
       "    </tr>\n",
       "    <tr>\n",
       "      <th>23</th>\n",
       "      <td>Jalen Hurts</td>\n",
       "      <td>Phi</td>\n",
       "      <td>QB</td>\n",
       "      <td>311</td>\n",
       "      <td>N/A</td>\n",
       "      <td>25</td>\n",
       "      <td>11.94</td>\n",
       "      <td>1</td>\n",
       "      <td>N/A</td>\n",
       "    </tr>\n",
       "    <tr>\n",
       "      <th>24</th>\n",
       "      <td>C.J. Stroud</td>\n",
       "      <td>Hou</td>\n",
       "      <td>QB</td>\n",
       "      <td>215</td>\n",
       "      <td>1</td>\n",
       "      <td>N/A</td>\n",
       "      <td>11.80</td>\n",
       "      <td>2</td>\n",
       "      <td>N/A</td>\n",
       "    </tr>\n",
       "  </tbody>\n",
       "</table>\n",
       "</div>"
      ],
      "text/plain": [
       "                Name  Team Pos Pass Yds Pass TD Rush Yds  Fan Pts  Int Rush TD\n",
       "0         Josh Allen   Buf  QB      263       4       44    30.92  N/A     N/A\n",
       "1       Dak Prescott   Dal  QB      379       2        7    29.86  N/A     N/A\n",
       "2     Jayden Daniels   Was  QB      254       2       39    28.06  N/A     N/A\n",
       "3      Lamar Jackson   Bal  QB      182       1       87    25.98  N/A     N/A\n",
       "4        Brock Purdy    SF  QB      292       3       41    25.78  N/A     N/A\n",
       "5       Malik Willis    GB  QB      202       1       73    25.38  N/A     N/A\n",
       "6         Joe Burrow   Cin  QB      324       3        4    25.36  N/A     N/A\n",
       "7        Andy Dalton   Car  QB      319       3       -2    24.56  N/A     N/A\n",
       "8        Sam Darnold   Min  QB      181       4      N/A    23.24  N/A     N/A\n",
       "9      Aaron Rodgers   NYJ  QB      281       2       18    21.04  N/A     N/A\n",
       "10      Daniel Jones   NYG  QB      236       2       20    19.44  N/A     N/A\n",
       "11     Justin Fields   Pit  QB      245       1      N/A    19.40    1     N/A\n",
       "12            Bo Nix   Den  QB      216     N/A       47    19.34  N/A       1\n",
       "13    Caleb Williams   Chi  QB      363       2      N/A    19.32    2     N/A\n",
       "14   Patrick Mahomes    KC  QB      217       2      N/A    17.38    1     N/A\n",
       "15    Deshaun Watson   Cle  QB      196       2       26    16.44  N/A     N/A\n",
       "16      Kyler Murray   Ari  QB      207       1      N/A    15.78    1     N/A\n",
       "17        Will Levis   Ten  QB      260       2      N/A    15.60    2     N/A\n",
       "18        Jared Goff   Det  QB      199       2      N/A    15.56    1     N/A\n",
       "19   Gardner Minshew  IILV  QB      214       1      N/A    14.96    1     N/A\n",
       "20        Geno Smith   Sea  QB      289       1      N/A    13.36    2     N/A\n",
       "21  Matthew Stafford   LAR  QB      221       1      N/A    12.84  N/A     N/A\n",
       "22      Kirk Cousins   Atl  QB      230       1      N/A    12.10    1     N/A\n",
       "23       Jalen Hurts   Phi  QB      311     N/A       25    11.94    1     N/A\n",
       "24       C.J. Stroud   Hou  QB      215       1      N/A    11.80    2     N/A"
      ]
     },
     "execution_count": 125,
     "metadata": {},
     "output_type": "execute_result"
    }
   ],
   "source": [
    "weekly_nfl_df(\"QB\",3)"
   ]
  },
  {
   "cell_type": "markdown",
   "metadata": {},
   "source": [
    "## Part 3.5: Plotting and Interpretation (5 points)\n",
    "\n",
    "Make a graph which plots `Pass Yds` on the x-axis against `Fan Pts` on the y-axis, and colors the points based on `Pass TD`. Use `plotly` and include the `Name` and `Team` as `hover_data`. Make sure the graph is well labeled, titled, and includes a legend. Then, in a Markdown cell, discuss in **at least 3** sentences your interpretation of the graph.\n",
    "\n",
    "- **Note**: if you are not an american football fan, in brief the Quarterback's role is to throw the ball to other players in the hopes of scoring a touchdown (if you want a much more technical description, you may also read a bit [here](https://en.wikipedia.org/wiki/Quarterback))."
   ]
  },
  {
   "cell_type": "code",
   "execution_count": 126,
   "metadata": {},
   "outputs": [],
   "source": [
    "import plotly.express as px"
   ]
  },
  {
   "cell_type": "code",
   "execution_count": 127,
   "metadata": {},
   "outputs": [
    {
     "data": {
      "application/vnd.plotly.v1+json": {
       "config": {
        "plotlyServerURL": "https://plot.ly"
       },
       "data": [
        {
         "customdata": [
          [
           "Saquon Barkley",
           "Phi"
          ],
          [
           "Jayden Reed",
           "GB"
          ],
          [
           "Jayden Daniels",
           "Was"
          ],
          [
           "Chris Boswell",
           "Pit"
          ],
          [
           "Jake Moody",
           "SF"
          ],
          [
           "Joe Mixon",
           "Hou"
          ],
          [
           "Cooper Kupp",
           "LAR"
          ],
          [
           "Chicago",
           "Chi"
          ],
          [
           "Allen Lazard",
           "NYJ"
          ],
          [
           "Tyreek Hill",
           "Mia"
          ],
          [
           "Blake Grupe",
           "NO"
          ],
          [
           "Minnesota",
           "Min"
          ],
          [
           "Jameson Williams",
           "Det"
          ],
          [
           "Jordan Mason",
           "SF"
          ],
          [
           "Isaiah Likely",
           "Bal"
          ],
          [
           "J.K. Dobbins",
           "LAC"
          ],
          [
           "Brandon Aubrey",
           "Dal"
          ],
          [
           "Mike Evans",
           "TB"
          ],
          [
           "A.J. Brown",
           "Phi"
          ],
          [
           "Rhamondre Stevenson",
           "NE"
          ]
         ],
         "hovertemplate": "Passing Touchdowns=N/A<br>Passing Yards=%{x}<br>Fantasy Points=%{y}<br>Name=%{customdata[0]}<br>Team=%{customdata[1]}<extra></extra>",
         "legendgroup": "N/A",
         "marker": {
          "color": "#636efa",
          "symbol": "circle"
         },
         "mode": "markers",
         "name": "N/A",
         "orientation": "v",
         "showlegend": true,
         "type": "scatter",
         "x": [
          "N/A",
          "N/A",
          "184",
          "N/A",
          "N/A",
          "N/A",
          "N/A",
          "N/A",
          "N/A",
          "N/A",
          "N/A",
          "N/A",
          "N/A",
          "N/A",
          "N/A",
          "N/A",
          "N/A",
          "N/A",
          "N/A",
          "N/A"
         ],
         "xaxis": "x",
         "y": [
          32.2,
          31.1,
          28.16,
          26,
          26,
          25.3,
          25,
          24,
          23.9,
          22.5,
          22,
          22,
          21.9,
          21.7,
          21.6,
          21.4,
          21,
          20.6,
          20.4,
          20.1
         ],
         "yaxis": "y"
        },
        {
         "customdata": [
          [
           "Josh Allen",
           "Buf"
          ],
          [
           "Anthony Richardson",
           "Ind"
          ]
         ],
         "hovertemplate": "Passing Touchdowns=2<br>Passing Yards=%{x}<br>Fantasy Points=%{y}<br>Name=%{customdata[0]}<br>Team=%{customdata[1]}<extra></extra>",
         "legendgroup": "2",
         "marker": {
          "color": "#EF553B",
          "symbol": "circle"
         },
         "mode": "markers",
         "name": "2",
         "orientation": "v",
         "showlegend": true,
         "type": "scatter",
         "x": [
          "232",
          "212"
         ],
         "xaxis": "x",
         "y": [
          31.18,
          27.08
         ],
         "yaxis": "y"
        },
        {
         "customdata": [
          [
           "Baker Mayfield",
           "TB"
          ]
         ],
         "hovertemplate": "Passing Touchdowns=4<br>Passing Yards=%{x}<br>Fantasy Points=%{y}<br>Name=%{customdata[0]}<br>Team=%{customdata[1]}<extra></extra>",
         "legendgroup": "4",
         "marker": {
          "color": "#00cc96",
          "symbol": "circle"
         },
         "mode": "markers",
         "name": "4",
         "orientation": "v",
         "showlegend": true,
         "type": "scatter",
         "x": [
          "289"
         ],
         "xaxis": "x",
         "y": [
          29.66
         ],
         "yaxis": "y"
        },
        {
         "customdata": [
          [
           "Lamar Jackson",
           "Bal"
          ]
         ],
         "hovertemplate": "Passing Touchdowns=1<br>Passing Yards=%{x}<br>Fantasy Points=%{y}<br>Name=%{customdata[0]}<br>Team=%{customdata[1]}<extra></extra>",
         "legendgroup": "1",
         "marker": {
          "color": "#ab63fa",
          "symbol": "circle"
         },
         "mode": "markers",
         "name": "1",
         "orientation": "v",
         "showlegend": true,
         "type": "scatter",
         "x": [
          "273"
         ],
         "xaxis": "x",
         "y": [
          25.12
         ],
         "yaxis": "y"
        },
        {
         "customdata": [
          [
           "Derek Carr",
           "NO"
          ]
         ],
         "hovertemplate": "Passing Touchdowns=3<br>Passing Yards=%{x}<br>Fantasy Points=%{y}<br>Name=%{customdata[0]}<br>Team=%{customdata[1]}<extra></extra>",
         "legendgroup": "3",
         "marker": {
          "color": "#FFA15A",
          "symbol": "circle"
         },
         "mode": "markers",
         "name": "3",
         "orientation": "v",
         "showlegend": true,
         "type": "scatter",
         "x": [
          "200"
         ],
         "xaxis": "x",
         "y": [
          21.3
         ],
         "yaxis": "y"
        }
       ],
       "layout": {
        "legend": {
         "title": {
          "text": "Passing Touchdowns"
         },
         "tracegroupgap": 0
        },
        "template": {
         "data": {
          "bar": [
           {
            "error_x": {
             "color": "#2a3f5f"
            },
            "error_y": {
             "color": "#2a3f5f"
            },
            "marker": {
             "line": {
              "color": "#E5ECF6",
              "width": 0.5
             },
             "pattern": {
              "fillmode": "overlay",
              "size": 10,
              "solidity": 0.2
             }
            },
            "type": "bar"
           }
          ],
          "barpolar": [
           {
            "marker": {
             "line": {
              "color": "#E5ECF6",
              "width": 0.5
             },
             "pattern": {
              "fillmode": "overlay",
              "size": 10,
              "solidity": 0.2
             }
            },
            "type": "barpolar"
           }
          ],
          "carpet": [
           {
            "aaxis": {
             "endlinecolor": "#2a3f5f",
             "gridcolor": "white",
             "linecolor": "white",
             "minorgridcolor": "white",
             "startlinecolor": "#2a3f5f"
            },
            "baxis": {
             "endlinecolor": "#2a3f5f",
             "gridcolor": "white",
             "linecolor": "white",
             "minorgridcolor": "white",
             "startlinecolor": "#2a3f5f"
            },
            "type": "carpet"
           }
          ],
          "choropleth": [
           {
            "colorbar": {
             "outlinewidth": 0,
             "ticks": ""
            },
            "type": "choropleth"
           }
          ],
          "contour": [
           {
            "colorbar": {
             "outlinewidth": 0,
             "ticks": ""
            },
            "colorscale": [
             [
              0,
              "#0d0887"
             ],
             [
              0.1111111111111111,
              "#46039f"
             ],
             [
              0.2222222222222222,
              "#7201a8"
             ],
             [
              0.3333333333333333,
              "#9c179e"
             ],
             [
              0.4444444444444444,
              "#bd3786"
             ],
             [
              0.5555555555555556,
              "#d8576b"
             ],
             [
              0.6666666666666666,
              "#ed7953"
             ],
             [
              0.7777777777777778,
              "#fb9f3a"
             ],
             [
              0.8888888888888888,
              "#fdca26"
             ],
             [
              1,
              "#f0f921"
             ]
            ],
            "type": "contour"
           }
          ],
          "contourcarpet": [
           {
            "colorbar": {
             "outlinewidth": 0,
             "ticks": ""
            },
            "type": "contourcarpet"
           }
          ],
          "heatmap": [
           {
            "colorbar": {
             "outlinewidth": 0,
             "ticks": ""
            },
            "colorscale": [
             [
              0,
              "#0d0887"
             ],
             [
              0.1111111111111111,
              "#46039f"
             ],
             [
              0.2222222222222222,
              "#7201a8"
             ],
             [
              0.3333333333333333,
              "#9c179e"
             ],
             [
              0.4444444444444444,
              "#bd3786"
             ],
             [
              0.5555555555555556,
              "#d8576b"
             ],
             [
              0.6666666666666666,
              "#ed7953"
             ],
             [
              0.7777777777777778,
              "#fb9f3a"
             ],
             [
              0.8888888888888888,
              "#fdca26"
             ],
             [
              1,
              "#f0f921"
             ]
            ],
            "type": "heatmap"
           }
          ],
          "heatmapgl": [
           {
            "colorbar": {
             "outlinewidth": 0,
             "ticks": ""
            },
            "colorscale": [
             [
              0,
              "#0d0887"
             ],
             [
              0.1111111111111111,
              "#46039f"
             ],
             [
              0.2222222222222222,
              "#7201a8"
             ],
             [
              0.3333333333333333,
              "#9c179e"
             ],
             [
              0.4444444444444444,
              "#bd3786"
             ],
             [
              0.5555555555555556,
              "#d8576b"
             ],
             [
              0.6666666666666666,
              "#ed7953"
             ],
             [
              0.7777777777777778,
              "#fb9f3a"
             ],
             [
              0.8888888888888888,
              "#fdca26"
             ],
             [
              1,
              "#f0f921"
             ]
            ],
            "type": "heatmapgl"
           }
          ],
          "histogram": [
           {
            "marker": {
             "pattern": {
              "fillmode": "overlay",
              "size": 10,
              "solidity": 0.2
             }
            },
            "type": "histogram"
           }
          ],
          "histogram2d": [
           {
            "colorbar": {
             "outlinewidth": 0,
             "ticks": ""
            },
            "colorscale": [
             [
              0,
              "#0d0887"
             ],
             [
              0.1111111111111111,
              "#46039f"
             ],
             [
              0.2222222222222222,
              "#7201a8"
             ],
             [
              0.3333333333333333,
              "#9c179e"
             ],
             [
              0.4444444444444444,
              "#bd3786"
             ],
             [
              0.5555555555555556,
              "#d8576b"
             ],
             [
              0.6666666666666666,
              "#ed7953"
             ],
             [
              0.7777777777777778,
              "#fb9f3a"
             ],
             [
              0.8888888888888888,
              "#fdca26"
             ],
             [
              1,
              "#f0f921"
             ]
            ],
            "type": "histogram2d"
           }
          ],
          "histogram2dcontour": [
           {
            "colorbar": {
             "outlinewidth": 0,
             "ticks": ""
            },
            "colorscale": [
             [
              0,
              "#0d0887"
             ],
             [
              0.1111111111111111,
              "#46039f"
             ],
             [
              0.2222222222222222,
              "#7201a8"
             ],
             [
              0.3333333333333333,
              "#9c179e"
             ],
             [
              0.4444444444444444,
              "#bd3786"
             ],
             [
              0.5555555555555556,
              "#d8576b"
             ],
             [
              0.6666666666666666,
              "#ed7953"
             ],
             [
              0.7777777777777778,
              "#fb9f3a"
             ],
             [
              0.8888888888888888,
              "#fdca26"
             ],
             [
              1,
              "#f0f921"
             ]
            ],
            "type": "histogram2dcontour"
           }
          ],
          "mesh3d": [
           {
            "colorbar": {
             "outlinewidth": 0,
             "ticks": ""
            },
            "type": "mesh3d"
           }
          ],
          "parcoords": [
           {
            "line": {
             "colorbar": {
              "outlinewidth": 0,
              "ticks": ""
             }
            },
            "type": "parcoords"
           }
          ],
          "pie": [
           {
            "automargin": true,
            "type": "pie"
           }
          ],
          "scatter": [
           {
            "fillpattern": {
             "fillmode": "overlay",
             "size": 10,
             "solidity": 0.2
            },
            "type": "scatter"
           }
          ],
          "scatter3d": [
           {
            "line": {
             "colorbar": {
              "outlinewidth": 0,
              "ticks": ""
             }
            },
            "marker": {
             "colorbar": {
              "outlinewidth": 0,
              "ticks": ""
             }
            },
            "type": "scatter3d"
           }
          ],
          "scattercarpet": [
           {
            "marker": {
             "colorbar": {
              "outlinewidth": 0,
              "ticks": ""
             }
            },
            "type": "scattercarpet"
           }
          ],
          "scattergeo": [
           {
            "marker": {
             "colorbar": {
              "outlinewidth": 0,
              "ticks": ""
             }
            },
            "type": "scattergeo"
           }
          ],
          "scattergl": [
           {
            "marker": {
             "colorbar": {
              "outlinewidth": 0,
              "ticks": ""
             }
            },
            "type": "scattergl"
           }
          ],
          "scattermapbox": [
           {
            "marker": {
             "colorbar": {
              "outlinewidth": 0,
              "ticks": ""
             }
            },
            "type": "scattermapbox"
           }
          ],
          "scatterpolar": [
           {
            "marker": {
             "colorbar": {
              "outlinewidth": 0,
              "ticks": ""
             }
            },
            "type": "scatterpolar"
           }
          ],
          "scatterpolargl": [
           {
            "marker": {
             "colorbar": {
              "outlinewidth": 0,
              "ticks": ""
             }
            },
            "type": "scatterpolargl"
           }
          ],
          "scatterternary": [
           {
            "marker": {
             "colorbar": {
              "outlinewidth": 0,
              "ticks": ""
             }
            },
            "type": "scatterternary"
           }
          ],
          "surface": [
           {
            "colorbar": {
             "outlinewidth": 0,
             "ticks": ""
            },
            "colorscale": [
             [
              0,
              "#0d0887"
             ],
             [
              0.1111111111111111,
              "#46039f"
             ],
             [
              0.2222222222222222,
              "#7201a8"
             ],
             [
              0.3333333333333333,
              "#9c179e"
             ],
             [
              0.4444444444444444,
              "#bd3786"
             ],
             [
              0.5555555555555556,
              "#d8576b"
             ],
             [
              0.6666666666666666,
              "#ed7953"
             ],
             [
              0.7777777777777778,
              "#fb9f3a"
             ],
             [
              0.8888888888888888,
              "#fdca26"
             ],
             [
              1,
              "#f0f921"
             ]
            ],
            "type": "surface"
           }
          ],
          "table": [
           {
            "cells": {
             "fill": {
              "color": "#EBF0F8"
             },
             "line": {
              "color": "white"
             }
            },
            "header": {
             "fill": {
              "color": "#C8D4E3"
             },
             "line": {
              "color": "white"
             }
            },
            "type": "table"
           }
          ]
         },
         "layout": {
          "annotationdefaults": {
           "arrowcolor": "#2a3f5f",
           "arrowhead": 0,
           "arrowwidth": 1
          },
          "autotypenumbers": "strict",
          "coloraxis": {
           "colorbar": {
            "outlinewidth": 0,
            "ticks": ""
           }
          },
          "colorscale": {
           "diverging": [
            [
             0,
             "#8e0152"
            ],
            [
             0.1,
             "#c51b7d"
            ],
            [
             0.2,
             "#de77ae"
            ],
            [
             0.3,
             "#f1b6da"
            ],
            [
             0.4,
             "#fde0ef"
            ],
            [
             0.5,
             "#f7f7f7"
            ],
            [
             0.6,
             "#e6f5d0"
            ],
            [
             0.7,
             "#b8e186"
            ],
            [
             0.8,
             "#7fbc41"
            ],
            [
             0.9,
             "#4d9221"
            ],
            [
             1,
             "#276419"
            ]
           ],
           "sequential": [
            [
             0,
             "#0d0887"
            ],
            [
             0.1111111111111111,
             "#46039f"
            ],
            [
             0.2222222222222222,
             "#7201a8"
            ],
            [
             0.3333333333333333,
             "#9c179e"
            ],
            [
             0.4444444444444444,
             "#bd3786"
            ],
            [
             0.5555555555555556,
             "#d8576b"
            ],
            [
             0.6666666666666666,
             "#ed7953"
            ],
            [
             0.7777777777777778,
             "#fb9f3a"
            ],
            [
             0.8888888888888888,
             "#fdca26"
            ],
            [
             1,
             "#f0f921"
            ]
           ],
           "sequentialminus": [
            [
             0,
             "#0d0887"
            ],
            [
             0.1111111111111111,
             "#46039f"
            ],
            [
             0.2222222222222222,
             "#7201a8"
            ],
            [
             0.3333333333333333,
             "#9c179e"
            ],
            [
             0.4444444444444444,
             "#bd3786"
            ],
            [
             0.5555555555555556,
             "#d8576b"
            ],
            [
             0.6666666666666666,
             "#ed7953"
            ],
            [
             0.7777777777777778,
             "#fb9f3a"
            ],
            [
             0.8888888888888888,
             "#fdca26"
            ],
            [
             1,
             "#f0f921"
            ]
           ]
          },
          "colorway": [
           "#636efa",
           "#EF553B",
           "#00cc96",
           "#ab63fa",
           "#FFA15A",
           "#19d3f3",
           "#FF6692",
           "#B6E880",
           "#FF97FF",
           "#FECB52"
          ],
          "font": {
           "color": "#2a3f5f"
          },
          "geo": {
           "bgcolor": "white",
           "lakecolor": "white",
           "landcolor": "#E5ECF6",
           "showlakes": true,
           "showland": true,
           "subunitcolor": "white"
          },
          "hoverlabel": {
           "align": "left"
          },
          "hovermode": "closest",
          "mapbox": {
           "style": "light"
          },
          "paper_bgcolor": "white",
          "plot_bgcolor": "#E5ECF6",
          "polar": {
           "angularaxis": {
            "gridcolor": "white",
            "linecolor": "white",
            "ticks": ""
           },
           "bgcolor": "#E5ECF6",
           "radialaxis": {
            "gridcolor": "white",
            "linecolor": "white",
            "ticks": ""
           }
          },
          "scene": {
           "xaxis": {
            "backgroundcolor": "#E5ECF6",
            "gridcolor": "white",
            "gridwidth": 2,
            "linecolor": "white",
            "showbackground": true,
            "ticks": "",
            "zerolinecolor": "white"
           },
           "yaxis": {
            "backgroundcolor": "#E5ECF6",
            "gridcolor": "white",
            "gridwidth": 2,
            "linecolor": "white",
            "showbackground": true,
            "ticks": "",
            "zerolinecolor": "white"
           },
           "zaxis": {
            "backgroundcolor": "#E5ECF6",
            "gridcolor": "white",
            "gridwidth": 2,
            "linecolor": "white",
            "showbackground": true,
            "ticks": "",
            "zerolinecolor": "white"
           }
          },
          "shapedefaults": {
           "line": {
            "color": "#2a3f5f"
           }
          },
          "ternary": {
           "aaxis": {
            "gridcolor": "white",
            "linecolor": "white",
            "ticks": ""
           },
           "baxis": {
            "gridcolor": "white",
            "linecolor": "white",
            "ticks": ""
           },
           "bgcolor": "#E5ECF6",
           "caxis": {
            "gridcolor": "white",
            "linecolor": "white",
            "ticks": ""
           }
          },
          "title": {
           "x": 0.05
          },
          "xaxis": {
           "automargin": true,
           "gridcolor": "white",
           "linecolor": "white",
           "ticks": "",
           "title": {
            "standoff": 15
           },
           "zerolinecolor": "white",
           "zerolinewidth": 2
          },
          "yaxis": {
           "automargin": true,
           "gridcolor": "white",
           "linecolor": "white",
           "ticks": "",
           "title": {
            "standoff": 15
           },
           "zerolinecolor": "white",
           "zerolinewidth": 2
          }
         }
        },
        "title": {
         "text": "Fantasy Points vs Passing Yards"
        },
        "xaxis": {
         "anchor": "y",
         "domain": [
          0,
          1
         ],
         "title": {
          "text": "Passing Yards"
         }
        },
        "yaxis": {
         "anchor": "x",
         "domain": [
          0,
          1
         ],
         "title": {
          "text": "Fantasy Points"
         }
        }
       }
      }
     },
     "metadata": {},
     "output_type": "display_data"
    }
   ],
   "source": [
    "chart = px.scatter(\n",
    "    clean_nfl_df(tables), \n",
    "    x='Pass Yds', \n",
    "    y='Fan Pts', \n",
    "    color='Pass TD', \n",
    "    hover_data=['Name', 'Team'],\n",
    "    labels={\n",
    "        'Pass Yds': 'Passing Yards',\n",
    "        'Fan Pts': 'Fantasy Points',\n",
    "        'Pass TD': 'Passing Touchdowns'\n",
    "    },\n",
    "    title='Fantasy Points vs Passing Yards'\n",
    ")\n",
    "\n",
    "chart.show()"
   ]
  },
  {
   "cell_type": "markdown",
   "metadata": {},
   "source": []
  },
  {
   "cell_type": "markdown",
   "metadata": {},
   "source": [
    "## Part 3.6: More Plotting and Interpretation (5 points)\n",
    "\n",
    "Use the `weekly_nfl_df()` function to create data frames for each of the four main offensive positions (QB, WR, RB, TE) **for the first three weeks** and then create, using subplots in a single plot, histograms for each positions' `Fan Pts`. Make sure the subplots are on the same scale, well labeled, and titled. Discuss the results in a few short sentences."
   ]
  },
  {
   "cell_type": "code",
   "execution_count": 128,
   "metadata": {},
   "outputs": [
    {
     "name": "stderr",
     "output_type": "stream",
     "text": [
      "/var/folders/nv/_dmndl2x6t94h6p46lbwrl180000gn/T/ipykernel_33373/3025358844.py:22: FutureWarning:\n",
      "\n",
      "Passing literal html to 'read_html' is deprecated and will be removed in a future version. To read from a literal string, wrap it in a 'StringIO' object.\n",
      "\n",
      "/var/folders/nv/_dmndl2x6t94h6p46lbwrl180000gn/T/ipykernel_33373/3025358844.py:22: FutureWarning:\n",
      "\n",
      "Passing literal html to 'read_html' is deprecated and will be removed in a future version. To read from a literal string, wrap it in a 'StringIO' object.\n",
      "\n",
      "/var/folders/nv/_dmndl2x6t94h6p46lbwrl180000gn/T/ipykernel_33373/3025358844.py:22: FutureWarning:\n",
      "\n",
      "Passing literal html to 'read_html' is deprecated and will be removed in a future version. To read from a literal string, wrap it in a 'StringIO' object.\n",
      "\n",
      "/var/folders/nv/_dmndl2x6t94h6p46lbwrl180000gn/T/ipykernel_33373/3025358844.py:22: FutureWarning:\n",
      "\n",
      "Passing literal html to 'read_html' is deprecated and will be removed in a future version. To read from a literal string, wrap it in a 'StringIO' object.\n",
      "\n",
      "/var/folders/nv/_dmndl2x6t94h6p46lbwrl180000gn/T/ipykernel_33373/3025358844.py:22: FutureWarning:\n",
      "\n",
      "Passing literal html to 'read_html' is deprecated and will be removed in a future version. To read from a literal string, wrap it in a 'StringIO' object.\n",
      "\n",
      "/var/folders/nv/_dmndl2x6t94h6p46lbwrl180000gn/T/ipykernel_33373/3025358844.py:22: FutureWarning:\n",
      "\n",
      "Passing literal html to 'read_html' is deprecated and will be removed in a future version. To read from a literal string, wrap it in a 'StringIO' object.\n",
      "\n",
      "/var/folders/nv/_dmndl2x6t94h6p46lbwrl180000gn/T/ipykernel_33373/3025358844.py:22: FutureWarning:\n",
      "\n",
      "Passing literal html to 'read_html' is deprecated and will be removed in a future version. To read from a literal string, wrap it in a 'StringIO' object.\n",
      "\n",
      "/var/folders/nv/_dmndl2x6t94h6p46lbwrl180000gn/T/ipykernel_33373/3025358844.py:22: FutureWarning:\n",
      "\n",
      "Passing literal html to 'read_html' is deprecated and will be removed in a future version. To read from a literal string, wrap it in a 'StringIO' object.\n",
      "\n",
      "/var/folders/nv/_dmndl2x6t94h6p46lbwrl180000gn/T/ipykernel_33373/3025358844.py:22: FutureWarning:\n",
      "\n",
      "Passing literal html to 'read_html' is deprecated and will be removed in a future version. To read from a literal string, wrap it in a 'StringIO' object.\n",
      "\n",
      "/var/folders/nv/_dmndl2x6t94h6p46lbwrl180000gn/T/ipykernel_33373/3025358844.py:22: FutureWarning:\n",
      "\n",
      "Passing literal html to 'read_html' is deprecated and will be removed in a future version. To read from a literal string, wrap it in a 'StringIO' object.\n",
      "\n",
      "/var/folders/nv/_dmndl2x6t94h6p46lbwrl180000gn/T/ipykernel_33373/3025358844.py:22: FutureWarning:\n",
      "\n",
      "Passing literal html to 'read_html' is deprecated and will be removed in a future version. To read from a literal string, wrap it in a 'StringIO' object.\n",
      "\n",
      "/var/folders/nv/_dmndl2x6t94h6p46lbwrl180000gn/T/ipykernel_33373/3025358844.py:22: FutureWarning:\n",
      "\n",
      "Passing literal html to 'read_html' is deprecated and will be removed in a future version. To read from a literal string, wrap it in a 'StringIO' object.\n",
      "\n"
     ]
    },
    {
     "data": {
      "image/png": "[encoded data removed]",
      "text/plain": [
       "<Figure size 1200x800 with 4 Axes>"
      ]
     },
     "metadata": {},
     "output_type": "display_data"
    }
   ],
   "source": [
    "import matplotlib.pyplot as plt\n",
    "import pandas as pd\n",
    "\n",
    "positions = ['QB', 'WR', 'RB', 'TE']\n",
    "weeks = [1, 2, 3]\n",
    "\n",
    "nfl_data = {pos: pd.concat([weekly_nfl_df(pos, week) for week in weeks]) for pos in positions}\n",
    "\n",
    "ignored, axs = plt.subplots(2, 2, figsize=(12, 8), sharex=True, sharey=True)\n",
    "\n",
    "for i, pos in enumerate(positions):\n",
    "    ax = axs[i//2, i%2]  \n",
    "    data = nfl_data[pos]['Fan Pts'].dropna().astype(float)  \n",
    "    ax.hist(data, bins=15, color='red', alpha=0.7)\n",
    "    ax.set_title(f'{pos} Fan Pts')\n",
    "    ax.set_xlabel('Fan Pts')\n",
    "    ax.set_ylabel('Times Seen')\n",
    "\n",
    "plt.show()\n"
   ]
  },
  {
   "cell_type": "markdown",
   "metadata": {},
   "source": [
    "QB is the most consistent one. WR is the one eith the most voltability. RB and TE are both very similar, however, TE has the most voltability."
   ]
  },
  {
   "cell_type": "markdown",
   "metadata": {},
   "source": [
    "# Part 4: Web Scraping EuroMillions Results Continued...\n",
    "\n",
    "For this problem, we continue with creating a small data set scraped from [Euro-Millions](https://www.euro-millions.com/) which is a lottery that is played across nine European countries. Draws take place on Tuesday and Friday evenings with a minimum guaranteed jackpot of €17 million. **The beginning of this problem was on Lab 1; you will need to use the functions you built for Part 2 to complete this assignment**."
   ]
  },
  {
   "cell_type": "code",
   "execution_count": 129,
   "metadata": {},
   "outputs": [],
   "source": [
    "from bs4 import BeautifulSoup\n",
    "import requests"
   ]
  },
  {
   "cell_type": "code",
   "execution_count": 130,
   "metadata": {},
   "outputs": [],
   "source": [
    "def get_lottery_html(code):\n",
    "    \"\"\"\n",
    "    Fetch the HTML of the EuroMillions results page for a given date.\n",
    "\n",
    "    Parameters:\n",
    "    date (str): The date in the format 'YYYY-MM-DD' to get the lottery results for.\n",
    "\n",
    "    Returns:\n",
    "    str: HTML content of the page as a string.\n",
    "    \"\"\"\n",
    "    base_url = \"https://www.euro-millions.com/results/\"\n",
    "    full_url = f\"{base_url}{code}\"\n",
    "    response = requests.get(full_url)\n",
    "    return response.text \n",
    "\n",
    "url_text = get_lottery_html('13-09-2024')"
   ]
  },
  {
   "cell_type": "code",
   "execution_count": 131,
   "metadata": {},
   "outputs": [],
   "source": [
    "def get_country_soup(html, country):\n",
    "    \"\"\"\n",
    "    Extracts the BeautifulSoup object for the lottery results of a specific country.\n",
    "\n",
    "    Parameters:\n",
    "    html (str): The HTML content of the page.\n",
    "    country (str): The country code (e.g., 'BE' for Belgium).\n",
    "\n",
    "    Returns:\n",
    "    BeautifulSoup: The BeautifulSoup object for the country's lottery results.\n",
    "    \"\"\"\n",
    "    soup = BeautifulSoup(html, 'html.parser')\n",
    "    country_id = f\"Prize{country.upper()}\"\n",
    "    country_soup = soup.find(id=country_id)\n",
    "\n",
    "    if country_soup:\n",
    "        return country_soup\n",
    "\n",
    "\n",
    "country_choice = 'BE'\n",
    "my_country_soup = get_country_soup(url_text, country_choice)"
   ]
  },
  {
   "cell_type": "markdown",
   "metadata": {},
   "source": [
    "## Part 4.1: Cleaning a Country (5 points)\n",
    "\n",
    "Below is the function `clean_country_df()`, which takes the soup object from the previous function and creates a data frame with the following columns:\n",
    "\n",
    "    - `balls`: the number of balls matched\n",
    "    - `stars`: the number of stars matched\n",
    "    - `ppw`: the prize per winner\n",
    "    - `country_winners`: how many winners of the prize in the given country\n",
    "    - `total_winners`: the total number of winners\n",
    "    - `country`: the country name\n",
    "    - `currency`: the currency of the lottery\n",
    "\n",
    "I have written the function and (*given your function from Part 2 works*) it should work. **DO NOT CHANGE ANYTHING IN THE BODY OF THE FUNCTION.**\n",
    "\n",
    "**In a markdown cell** create a bullet point list where you explain each what each chunk of code does. Your bullet point list should have **THREE** sections, with **NINE** total bullet points/explanations corresponding to the chunks below the `# EXPLAIN THIS (number)` comments. You must accurately summarize the content of each code chunk. **Talking to your neighbors/group about this is highly recommended.**"
   ]
  },
  {
   "cell_type": "code",
   "execution_count": 132,
   "metadata": {},
   "outputs": [
    {
     "data": {
      "text/html": [
       "<div>\n",
       "<style scoped>\n",
       "    .dataframe tbody tr th:only-of-type {\n",
       "        vertical-align: middle;\n",
       "    }\n",
       "\n",
       "    .dataframe tbody tr th {\n",
       "        vertical-align: top;\n",
       "    }\n",
       "\n",
       "    .dataframe thead th {\n",
       "        text-align: right;\n",
       "    }\n",
       "</style>\n",
       "<table border=\"1\" class=\"dataframe\">\n",
       "  <thead>\n",
       "    <tr style=\"text-align: right;\">\n",
       "      <th></th>\n",
       "      <th>balls</th>\n",
       "      <th>stars</th>\n",
       "      <th>ppw</th>\n",
       "      <th>country_winners</th>\n",
       "      <th>total_winners</th>\n",
       "      <th>country</th>\n",
       "      <th>currency</th>\n",
       "    </tr>\n",
       "  </thead>\n",
       "  <tbody>\n",
       "    <tr>\n",
       "      <th>0</th>\n",
       "      <td>5</td>\n",
       "      <td>2</td>\n",
       "      <td>31511704.35</td>\n",
       "      <td>0</td>\n",
       "      <td>NaN</td>\n",
       "      <td>BE</td>\n",
       "      <td>€</td>\n",
       "    </tr>\n",
       "    <tr>\n",
       "      <th>1</th>\n",
       "      <td>5</td>\n",
       "      <td>1</td>\n",
       "      <td>252503.60</td>\n",
       "      <td>1</td>\n",
       "      <td>3.0</td>\n",
       "      <td>BE</td>\n",
       "      <td>€</td>\n",
       "    </tr>\n",
       "    <tr>\n",
       "      <th>2</th>\n",
       "      <td>5</td>\n",
       "      <td>0</td>\n",
       "      <td>35408.50</td>\n",
       "      <td>1</td>\n",
       "      <td>5.0</td>\n",
       "      <td>BE</td>\n",
       "      <td>€</td>\n",
       "    </tr>\n",
       "    <tr>\n",
       "      <th>3</th>\n",
       "      <td>4</td>\n",
       "      <td>2</td>\n",
       "      <td>2397.50</td>\n",
       "      <td>3</td>\n",
       "      <td>23.0</td>\n",
       "      <td>BE</td>\n",
       "      <td>€</td>\n",
       "    </tr>\n",
       "    <tr>\n",
       "      <th>4</th>\n",
       "      <td>4</td>\n",
       "      <td>1</td>\n",
       "      <td>135.60</td>\n",
       "      <td>46</td>\n",
       "      <td>749.0</td>\n",
       "      <td>BE</td>\n",
       "      <td>€</td>\n",
       "    </tr>\n",
       "    <tr>\n",
       "      <th>5</th>\n",
       "      <td>3</td>\n",
       "      <td>2</td>\n",
       "      <td>70.80</td>\n",
       "      <td>98</td>\n",
       "      <td>1516.0</td>\n",
       "      <td>BE</td>\n",
       "      <td>€</td>\n",
       "    </tr>\n",
       "    <tr>\n",
       "      <th>6</th>\n",
       "      <td>4</td>\n",
       "      <td>0</td>\n",
       "      <td>35.10</td>\n",
       "      <td>142</td>\n",
       "      <td>2144.0</td>\n",
       "      <td>BE</td>\n",
       "      <td>€</td>\n",
       "    </tr>\n",
       "    <tr>\n",
       "      <th>7</th>\n",
       "      <td>2</td>\n",
       "      <td>2</td>\n",
       "      <td>17.70</td>\n",
       "      <td>1708</td>\n",
       "      <td>21197.0</td>\n",
       "      <td>BE</td>\n",
       "      <td>€</td>\n",
       "    </tr>\n",
       "    <tr>\n",
       "      <th>8</th>\n",
       "      <td>3</td>\n",
       "      <td>1</td>\n",
       "      <td>11.80</td>\n",
       "      <td>2489</td>\n",
       "      <td>35525.0</td>\n",
       "      <td>BE</td>\n",
       "      <td>€</td>\n",
       "    </tr>\n",
       "    <tr>\n",
       "      <th>9</th>\n",
       "      <td>3</td>\n",
       "      <td>0</td>\n",
       "      <td>8.30</td>\n",
       "      <td>6390</td>\n",
       "      <td>94256.0</td>\n",
       "      <td>BE</td>\n",
       "      <td>€</td>\n",
       "    </tr>\n",
       "    <tr>\n",
       "      <th>10</th>\n",
       "      <td>1</td>\n",
       "      <td>2</td>\n",
       "      <td>8.50</td>\n",
       "      <td>8893</td>\n",
       "      <td>111292.0</td>\n",
       "      <td>BE</td>\n",
       "      <td>€</td>\n",
       "    </tr>\n",
       "    <tr>\n",
       "      <th>11</th>\n",
       "      <td>2</td>\n",
       "      <td>1</td>\n",
       "      <td>5.80</td>\n",
       "      <td>36207</td>\n",
       "      <td>509083.0</td>\n",
       "      <td>BE</td>\n",
       "      <td>€</td>\n",
       "    </tr>\n",
       "    <tr>\n",
       "      <th>12</th>\n",
       "      <td>2</td>\n",
       "      <td>0</td>\n",
       "      <td>3.60</td>\n",
       "      <td>91051</td>\n",
       "      <td>1330865.0</td>\n",
       "      <td>BE</td>\n",
       "      <td>€</td>\n",
       "    </tr>\n",
       "  </tbody>\n",
       "</table>\n",
       "</div>"
      ],
      "text/plain": [
       "    balls  stars          ppw  country_winners  total_winners country currency\n",
       "0       5      2  31511704.35                0            NaN      BE        €\n",
       "1       5      1    252503.60                1            3.0      BE        €\n",
       "2       5      0     35408.50                1            5.0      BE        €\n",
       "3       4      2      2397.50                3           23.0      BE        €\n",
       "4       4      1       135.60               46          749.0      BE        €\n",
       "5       3      2        70.80               98         1516.0      BE        €\n",
       "6       4      0        35.10              142         2144.0      BE        €\n",
       "7       2      2        17.70             1708        21197.0      BE        €\n",
       "8       3      1        11.80             2489        35525.0      BE        €\n",
       "9       3      0         8.30             6390        94256.0      BE        €\n",
       "10      1      2         8.50             8893       111292.0      BE        €\n",
       "11      2      1         5.80            36207       509083.0      BE        €\n",
       "12      2      0         3.60            91051      1330865.0      BE        €"
      ]
     },
     "execution_count": 132,
     "metadata": {},
     "output_type": "execute_result"
    }
   ],
   "source": [
    "from itertools import zip_longest\n",
    "import re\n",
    "import pandas as pd\n",
    "\n",
    "def clean_country_df(soup, country_name = \"BE\"):\n",
    "    \"\"\"Takes the soup of a country and cleans it, creating a data frame.\n",
    "    \n",
    "    Args:\n",
    "        soup (soup): the soup from get_country_soup\n",
    "        country_name (str): name of the country (make sure this matches with the code used in the previous part)\n",
    "\n",
    "    Returns:\n",
    "        clean_country_df (DataFrame): a DataFrame with seven columns corresponding to\n",
    "            balls matched\n",
    "            stars matched\n",
    "            prize per winner\n",
    "            country winners\n",
    "            total winners\n",
    "            country\n",
    "            currency\n",
    "    \"\"\"\n",
    "    # EXPLAIN THIS (1.1)\n",
    "    table = soup.find('table')\n",
    "\n",
    "    # EXPLAIN THIS (1.2)\n",
    "    headers = [th.get_text(strip=True) for th in table.find('thead').find_all('th')]\n",
    "\n",
    "    # EXPLAIN THIS (1.3)\n",
    "    country_winner_index = next((i for i, header in enumerate(headers) if 'Winners' in header and 'Total' not in header), None)\n",
    "\n",
    "    # EXPLAIN THIS (1.4)\n",
    "    balls_matched = []\n",
    "    stars_matched = []\n",
    "    prize_per_winner = []\n",
    "    country_winners = []\n",
    "    total_winners = []\n",
    "    currencies = []\n",
    "    \n",
    "    # Process each row in the table body, excluding the last totals row\n",
    "    for row in table.find('tbody').find_all('tr')[:-1]:\n",
    "        columns = row.find_all('td')\n",
    "        \n",
    "        # EXPLAIN THIS (2.1)\n",
    "        numbers_matched = columns[0].get_text(strip=True)\n",
    "        prize = columns[1].get_text(strip=True)\n",
    "        country_winner = columns[country_winner_index].get_text(strip=True) if country_winner_index is not None else 'N/A'\n",
    "        total_winner = columns[-1].get_text(strip=True)\n",
    "        \n",
    "        # EXPLAIN THIS (2.2)\n",
    "        currency_match = re.match(r'^\\D*', prize)\n",
    "        currency = currency_match.group(0) if currency_match else 'N/A'\n",
    "        currencies.append(currency)\n",
    "        \n",
    "        # EXPLAIN THIS (2.3)\n",
    "        numeric_prize = pd.to_numeric(prize.replace(currency, '').replace(',', ''), errors='coerce')\n",
    "        \n",
    "        # EXPLAIN THIS (2.4)\n",
    "        numbers_split = numbers_matched.split('+')\n",
    "        balls = pd.to_numeric(numbers_split[0].strip().replace(',', ''), errors='coerce')\n",
    "        stars = pd.to_numeric(numbers_split[1].strip().replace(',', ''), errors='coerce') if len(numbers_split) > 1 else 0\n",
    "\n",
    "        balls_matched.append(balls)\n",
    "        stars_matched.append(stars)\n",
    "        prize_per_winner.append(numeric_prize)\n",
    "        country_winners.append(pd.to_numeric(country_winner.replace(',', ''), errors='coerce'))\n",
    "        total_winners.append(pd.to_numeric(total_winner.replace(',', ''), errors='coerce'))\n",
    "    \n",
    "    # EXPLAIN THIS (3)\n",
    "    data = {\n",
    "        'balls': balls_matched,\n",
    "        'stars': stars_matched,\n",
    "        'ppw': prize_per_winner,\n",
    "        'country_winners': country_winners,\n",
    "        'total_winners': total_winners,\n",
    "        'country': [country_name] * len(balls_matched),\n",
    "        'currency': currencies\n",
    "    }\n",
    "    \n",
    "    clean_country_df = pd.DataFrame(data)\n",
    "    \n",
    "    return clean_country_df\n",
    "\n",
    "# Example usage\n",
    "clean_df = clean_country_df(my_country_soup, 'BE')\n",
    "clean_df"
   ]
  },
  {
   "cell_type": "markdown",
   "metadata": {},
   "source": [
    "Your answer in this cell:\n",
    "- Explain Code Chunks 1:\n",
    "    - 1.1 *soup.find()* is an method that allows you to search through tags, attributues, or other elements\n",
    "    - 1.2 goes through the whole table fetching the headers\n",
    "    - 1.3 goes through all the headers and finds the index of the winner header\n",
    "    - 1.4 creates variables to store all the data in the table\n",
    "- Explain Code Chunks 2:\n",
    "    - 2.1 extracting the data from numbers matched, prize, and winners \n",
    "    - 2.2 extracting the currency symbol \n",
    "    - 2.3 converting the cash price into an integer\n",
    "    - 2.4 splitting the numbers into balls and stars \n",
    "- Explain Code Chunk 3:\n",
    "    - Storing the data in a dict, having the key being the header and the value being the new value, once the for loop is done it will be used to represent the table"
   ]
  },
  {
   "cell_type": "markdown",
   "metadata": {},
   "source": [
    "## Part 4.2: Stacking the Countries (5 points)\n",
    "\n",
    "Complete the function `stack_countries_df()` below (including docstring) which takes as an argument a list of country codes (strings) and a list of dates (strings), and uses the functions from the previous three parts to create a single data frame with results across those countries and dates. There may be multiple ways to do this, but one way could be to first loop through the dates, use the `get_lottery_html()` function, then loop through the countries and apply the other two functions. You will also want to add a column with the date information to the final data frame.\n",
    "\n",
    "**Make sure to remove the `pass` statement when you are finished.** Then, also make sure to run the code to ensure your function works."
   ]
  },
  {
   "cell_type": "code",
   "execution_count": 133,
   "metadata": {},
   "outputs": [],
   "source": [
    "def stack_countries_df(country_list, date_list):\n",
    "    \"\"\"\n",
    "    Fetches and stacks the lottery results for multiple countries and dates into a single DataFrame.\n",
    "\n",
    "    Parameters:\n",
    "    country_list (list): A list of country codes (e.g., ['BE', 'FR']).\n",
    "    date_list (list): A list of dates in the format 'YYYY-MM-DD' to get the lottery results for.\n",
    "\n",
    "    Returns:\n",
    "    DataFrame: A DataFrame with results stacked across the specified countries and dates, \n",
    "               including columns for balls matched, stars matched, prize per winner, \n",
    "               country winners, total winners, country, currency, and date.\n",
    "    \"\"\"\n",
    "    all_dataframes = []\n",
    "\n",
    "    for date in date_list:\n",
    "        html = get_lottery_html(date)\n",
    "        \n",
    "        for country in country_list:\n",
    "            country_soup = get_country_soup(html, country)\n",
    "            \n",
    "            if country_soup:  \n",
    "                country_df = clean_country_df(country_soup, country)\n",
    "                country_df['date'] = date\n",
    "                \n",
    "                all_dataframes.append(country_df)\n",
    "\n",
    "    if all_dataframes:\n",
    "        stacked_df = pd.concat(all_dataframes, ignore_index=True)\n",
    "    else:\n",
    "        stacked_df = pd.DataFrame() \n",
    "        \n",
    "    return stacked_df\n"
   ]
  },
  {
   "cell_type": "code",
   "execution_count": 134,
   "metadata": {},
   "outputs": [
    {
     "data": {
      "text/html": [
       "<div>\n",
       "<style scoped>\n",
       "    .dataframe tbody tr th:only-of-type {\n",
       "        vertical-align: middle;\n",
       "    }\n",
       "\n",
       "    .dataframe tbody tr th {\n",
       "        vertical-align: top;\n",
       "    }\n",
       "\n",
       "    .dataframe thead th {\n",
       "        text-align: right;\n",
       "    }\n",
       "</style>\n",
       "<table border=\"1\" class=\"dataframe\">\n",
       "  <thead>\n",
       "    <tr style=\"text-align: right;\">\n",
       "      <th></th>\n",
       "      <th>balls</th>\n",
       "      <th>stars</th>\n",
       "      <th>ppw</th>\n",
       "      <th>country_winners</th>\n",
       "      <th>total_winners</th>\n",
       "      <th>country</th>\n",
       "      <th>currency</th>\n",
       "      <th>date</th>\n",
       "    </tr>\n",
       "  </thead>\n",
       "  <tbody>\n",
       "    <tr>\n",
       "      <th>0</th>\n",
       "      <td>5</td>\n",
       "      <td>2</td>\n",
       "      <td>1.520306e+08</td>\n",
       "      <td>0</td>\n",
       "      <td>NaN</td>\n",
       "      <td>BE</td>\n",
       "      <td>€</td>\n",
       "      <td>26-04-2024</td>\n",
       "    </tr>\n",
       "    <tr>\n",
       "      <th>1</th>\n",
       "      <td>5</td>\n",
       "      <td>1</td>\n",
       "      <td>5.603015e+05</td>\n",
       "      <td>0</td>\n",
       "      <td>2.0</td>\n",
       "      <td>BE</td>\n",
       "      <td>€</td>\n",
       "      <td>26-04-2024</td>\n",
       "    </tr>\n",
       "    <tr>\n",
       "      <th>2</th>\n",
       "      <td>5</td>\n",
       "      <td>0</td>\n",
       "      <td>2.380930e+04</td>\n",
       "      <td>2</td>\n",
       "      <td>11.0</td>\n",
       "      <td>BE</td>\n",
       "      <td>€</td>\n",
       "      <td>26-04-2024</td>\n",
       "    </tr>\n",
       "    <tr>\n",
       "      <th>3</th>\n",
       "      <td>4</td>\n",
       "      <td>2</td>\n",
       "      <td>1.773400e+03</td>\n",
       "      <td>5</td>\n",
       "      <td>46.0</td>\n",
       "      <td>BE</td>\n",
       "      <td>€</td>\n",
       "      <td>26-04-2024</td>\n",
       "    </tr>\n",
       "    <tr>\n",
       "      <th>4</th>\n",
       "      <td>4</td>\n",
       "      <td>1</td>\n",
       "      <td>1.522000e+02</td>\n",
       "      <td>94</td>\n",
       "      <td>987.0</td>\n",
       "      <td>BE</td>\n",
       "      <td>€</td>\n",
       "      <td>26-04-2024</td>\n",
       "    </tr>\n",
       "    <tr>\n",
       "      <th>...</th>\n",
       "      <td>...</td>\n",
       "      <td>...</td>\n",
       "      <td>...</td>\n",
       "      <td>...</td>\n",
       "      <td>...</td>\n",
       "      <td>...</td>\n",
       "      <td>...</td>\n",
       "      <td>...</td>\n",
       "    </tr>\n",
       "    <tr>\n",
       "      <th>73</th>\n",
       "      <td>3</td>\n",
       "      <td>1</td>\n",
       "      <td>1.905000e+01</td>\n",
       "      <td>4143</td>\n",
       "      <td>51784.0</td>\n",
       "      <td>CH</td>\n",
       "      <td>CHF</td>\n",
       "      <td>30-04-2024</td>\n",
       "    </tr>\n",
       "    <tr>\n",
       "      <th>74</th>\n",
       "      <td>3</td>\n",
       "      <td>0</td>\n",
       "      <td>1.555000e+01</td>\n",
       "      <td>9070</td>\n",
       "      <td>117948.0</td>\n",
       "      <td>CH</td>\n",
       "      <td>CHF</td>\n",
       "      <td>30-04-2024</td>\n",
       "    </tr>\n",
       "    <tr>\n",
       "      <th>75</th>\n",
       "      <td>1</td>\n",
       "      <td>2</td>\n",
       "      <td>1.345000e+01</td>\n",
       "      <td>10816</td>\n",
       "      <td>165534.0</td>\n",
       "      <td>CH</td>\n",
       "      <td>CHF</td>\n",
       "      <td>30-04-2024</td>\n",
       "    </tr>\n",
       "    <tr>\n",
       "      <th>76</th>\n",
       "      <td>2</td>\n",
       "      <td>1</td>\n",
       "      <td>1.015000e+01</td>\n",
       "      <td>48255</td>\n",
       "      <td>688604.0</td>\n",
       "      <td>CH</td>\n",
       "      <td>CHF</td>\n",
       "      <td>30-04-2024</td>\n",
       "    </tr>\n",
       "    <tr>\n",
       "      <th>77</th>\n",
       "      <td>2</td>\n",
       "      <td>0</td>\n",
       "      <td>7.300000e+00</td>\n",
       "      <td>105979</td>\n",
       "      <td>1549560.0</td>\n",
       "      <td>CH</td>\n",
       "      <td>CHF</td>\n",
       "      <td>30-04-2024</td>\n",
       "    </tr>\n",
       "  </tbody>\n",
       "</table>\n",
       "<p>78 rows × 8 columns</p>\n",
       "</div>"
      ],
      "text/plain": [
       "    balls  stars           ppw  country_winners  total_winners country  \\\n",
       "0       5      2  1.520306e+08                0            NaN      BE   \n",
       "1       5      1  5.603015e+05                0            2.0      BE   \n",
       "2       5      0  2.380930e+04                2           11.0      BE   \n",
       "3       4      2  1.773400e+03                5           46.0      BE   \n",
       "4       4      1  1.522000e+02               94          987.0      BE   \n",
       "..    ...    ...           ...              ...            ...     ...   \n",
       "73      3      1  1.905000e+01             4143        51784.0      CH   \n",
       "74      3      0  1.555000e+01             9070       117948.0      CH   \n",
       "75      1      2  1.345000e+01            10816       165534.0      CH   \n",
       "76      2      1  1.015000e+01            48255       688604.0      CH   \n",
       "77      2      0  7.300000e+00           105979      1549560.0      CH   \n",
       "\n",
       "   currency        date  \n",
       "0         €  26-04-2024  \n",
       "1         €  26-04-2024  \n",
       "2         €  26-04-2024  \n",
       "3         €  26-04-2024  \n",
       "4         €  26-04-2024  \n",
       "..      ...         ...  \n",
       "73      CHF  30-04-2024  \n",
       "74      CHF  30-04-2024  \n",
       "75      CHF  30-04-2024  \n",
       "76      CHF  30-04-2024  \n",
       "77      CHF  30-04-2024  \n",
       "\n",
       "[78 rows x 8 columns]"
      ]
     },
     "execution_count": 134,
     "metadata": {},
     "output_type": "execute_result"
    }
   ],
   "source": [
    "country_codes = ['BE', 'GB', 'CH']\n",
    "dates = ['26-04-2024', '30-04-2024']\n",
    "combined_df = stack_countries_df(country_codes, dates)\n",
    "combined_df"
   ]
  },
  {
   "cell_type": "markdown",
   "metadata": {},
   "source": [
    "## Part 4.3: EDA and Data Viz (5 points)\n",
    "\n",
    "The first code cell below runs your function from part 4 to get the lottery results for Belgium and France over the month of April 2024. Use this data frame to:\n",
    "\n",
    "- Create a subset which contains only the 5 ball, 0 star winners\n",
    "- Plot a line plot that compares the number of 5 ball, 0 star winners for in Belgium and France over April\n",
    "\n",
    "**Then, in a markdown cell** discuss briefly what this plot tells you."
   ]
  },
  {
   "cell_type": "code",
   "execution_count": 135,
   "metadata": {},
   "outputs": [],
   "source": [
    "country_codes = ['BE', 'FR']\n",
    "dates = ['02-04-2024', '05-04-2024', '09-04-2024', \n",
    "         '12-04-2024', '16-04-2024', '19-04-2024', \n",
    "         '23-04-2024', '26-04-2024', '30-04-2024']\n",
    "combined_df = stack_countries_df(country_codes, dates)"
   ]
  },
  {
   "cell_type": "code",
   "execution_count": 136,
   "metadata": {},
   "outputs": [
    {
     "data": {
      "text/html": [
       "<div>\n",
       "<style scoped>\n",
       "    .dataframe tbody tr th:only-of-type {\n",
       "        vertical-align: middle;\n",
       "    }\n",
       "\n",
       "    .dataframe tbody tr th {\n",
       "        vertical-align: top;\n",
       "    }\n",
       "\n",
       "    .dataframe thead th {\n",
       "        text-align: right;\n",
       "    }\n",
       "</style>\n",
       "<table border=\"1\" class=\"dataframe\">\n",
       "  <thead>\n",
       "    <tr style=\"text-align: right;\">\n",
       "      <th></th>\n",
       "      <th>balls</th>\n",
       "      <th>stars</th>\n",
       "      <th>ppw</th>\n",
       "      <th>country_winners</th>\n",
       "      <th>total_winners</th>\n",
       "      <th>country</th>\n",
       "      <th>currency</th>\n",
       "      <th>date</th>\n",
       "    </tr>\n",
       "  </thead>\n",
       "  <tbody>\n",
       "    <tr>\n",
       "      <th>319</th>\n",
       "      <td>0</td>\n",
       "      <td>NaN</td>\n",
       "      <td>10.6</td>\n",
       "      <td>26951</td>\n",
       "      <td>26951.0</td>\n",
       "      <td>FR</td>\n",
       "      <td>€</td>\n",
       "      <td>30-04-2024</td>\n",
       "    </tr>\n",
       "    <tr>\n",
       "      <th>320</th>\n",
       "      <td>2</td>\n",
       "      <td>1.0</td>\n",
       "      <td>5.2</td>\n",
       "      <td>150585</td>\n",
       "      <td>688604.0</td>\n",
       "      <td>FR</td>\n",
       "      <td>€</td>\n",
       "      <td>30-04-2024</td>\n",
       "    </tr>\n",
       "    <tr>\n",
       "      <th>321</th>\n",
       "      <td>2</td>\n",
       "      <td>NaN</td>\n",
       "      <td>2.3</td>\n",
       "      <td>68052</td>\n",
       "      <td>68052.0</td>\n",
       "      <td>FR</td>\n",
       "      <td>€</td>\n",
       "      <td>30-04-2024</td>\n",
       "    </tr>\n",
       "    <tr>\n",
       "      <th>322</th>\n",
       "      <td>2</td>\n",
       "      <td>0.0</td>\n",
       "      <td>3.7</td>\n",
       "      <td>351003</td>\n",
       "      <td>1549560.0</td>\n",
       "      <td>FR</td>\n",
       "      <td>€</td>\n",
       "      <td>30-04-2024</td>\n",
       "    </tr>\n",
       "    <tr>\n",
       "      <th>323</th>\n",
       "      <td>0</td>\n",
       "      <td>NaN</td>\n",
       "      <td>2.5</td>\n",
       "      <td>560173</td>\n",
       "      <td>560173.0</td>\n",
       "      <td>FR</td>\n",
       "      <td>€</td>\n",
       "      <td>30-04-2024</td>\n",
       "    </tr>\n",
       "  </tbody>\n",
       "</table>\n",
       "</div>"
      ],
      "text/plain": [
       "     balls  stars   ppw  country_winners  total_winners country currency  \\\n",
       "319      0    NaN  10.6            26951        26951.0      FR        €   \n",
       "320      2    1.0   5.2           150585       688604.0      FR        €   \n",
       "321      2    NaN   2.3            68052        68052.0      FR        €   \n",
       "322      2    0.0   3.7           351003      1549560.0      FR        €   \n",
       "323      0    NaN   2.5           560173       560173.0      FR        €   \n",
       "\n",
       "           date  \n",
       "319  30-04-2024  \n",
       "320  30-04-2024  \n",
       "321  30-04-2024  \n",
       "322  30-04-2024  \n",
       "323  30-04-2024  "
      ]
     },
     "execution_count": 136,
     "metadata": {},
     "output_type": "execute_result"
    }
   ],
   "source": [
    "combined_df.tail()"
   ]
  },
  {
   "cell_type": "code",
   "execution_count": 137,
   "metadata": {},
   "outputs": [],
   "source": [
    "filtered_winners = combined_df[(combined_df['balls'] == 5) & (combined_df['stars'] == 0)]"
   ]
  },
  {
   "cell_type": "code",
   "execution_count": 140,
   "metadata": {},
   "outputs": [
    {
     "data": {
      "image/png": "[encoded data removed]",
      "text/plain": [
       "<Figure size 1000x600 with 1 Axes>"
      ]
     },
     "metadata": {},
     "output_type": "display_data"
    }
   ],
   "source": [
    "# Group by date and country and sum the number of winners\n",
    "grouped_winners = filtered_winners.groupby(['date', 'country'])['country_winners'].sum().unstack()\n",
    "\n",
    "plt.figure(figsize=(10, 6))\n",
    "plt.plot(grouped_winners.index, grouped_winners['BE'], label='Belgium', marker='o')\n",
    "plt.plot(grouped_winners.index, grouped_winners['FR'], label='France', marker='o')\n",
    "plt.title('5 Ball, 0 Star Winners in Belgium and France - April 2024')\n",
    "plt.xlabel('Date')\n",
    "plt.ylabel('Total Winners')\n",
    "plt.legend(title='Country')\n",
    "plt.grid(True)\n",
    "plt.tight_layout()\n",
    "\n",
    "plt.show()"
   ]
  },
  {
   "cell_type": "markdown",
   "metadata": {},
   "source": []
  }
 ],
 "metadata": {
  "kernelspec": {
   "display_name": "Python 3 (ipykernel)",
   "language": "python",
   "name": "python3"
  },
  "language_info": {
   "codemirror_mode": {
    "name": "ipython",
    "version": 3
   },
   "file_extension": ".py",
   "mimetype": "text/x-python",
   "name": "python",
   "nbconvert_exporter": "python",
   "pygments_lexer": "ipython3",
   "version": "3.12.3"
  }
 },
 "nbformat": 4,
 "nbformat_minor": 4
}
